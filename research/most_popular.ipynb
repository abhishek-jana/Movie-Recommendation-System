{
 "cells": [
  {
   "cell_type": "code",
   "execution_count": 2,
   "metadata": {},
   "outputs": [
    {
     "data": {
      "text/plain": [
       "'c:\\\\Users\\\\abhis\\\\Desktop\\\\MLProjects\\\\Movie-Recommendation-Sysytem'"
      ]
     },
     "execution_count": 2,
     "metadata": {},
     "output_type": "execute_result"
    }
   ],
   "source": [
    "import os\n",
    "os.chdir(\"../\")\n",
    "%pwd"
   ]
  },
  {
   "cell_type": "code",
   "execution_count": 3,
   "metadata": {},
   "outputs": [],
   "source": [
    "import numpy as np\n",
    "import pandas as pd\n",
    "import json\n",
    "import matplotlib.pyplot as plt"
   ]
  },
  {
   "cell_type": "code",
   "execution_count": 4,
   "metadata": {},
   "outputs": [],
   "source": [
    "# Read the data\n",
    "\n",
    "ratings_df = pd.read_csv('artifacts/data_preparation/final_data/ratings.csv')\n",
    "movies_df = pd.read_csv('artifacts/data_preparation/final_data/movies.csv')"
   ]
  },
  {
   "cell_type": "code",
   "execution_count": 5,
   "metadata": {},
   "outputs": [
    {
     "data": {
      "text/html": [
       "<div>\n",
       "<style scoped>\n",
       "    .dataframe tbody tr th:only-of-type {\n",
       "        vertical-align: middle;\n",
       "    }\n",
       "\n",
       "    .dataframe tbody tr th {\n",
       "        vertical-align: top;\n",
       "    }\n",
       "\n",
       "    .dataframe thead th {\n",
       "        text-align: right;\n",
       "    }\n",
       "</style>\n",
       "<table border=\"1\" class=\"dataframe\">\n",
       "  <thead>\n",
       "    <tr style=\"text-align: right;\">\n",
       "      <th></th>\n",
       "      <th>userId</th>\n",
       "      <th>movieId</th>\n",
       "      <th>rating</th>\n",
       "    </tr>\n",
       "  </thead>\n",
       "  <tbody>\n",
       "    <tr>\n",
       "      <th>0</th>\n",
       "      <td>1</td>\n",
       "      <td>307</td>\n",
       "      <td>3.5</td>\n",
       "    </tr>\n",
       "    <tr>\n",
       "      <th>1</th>\n",
       "      <td>1</td>\n",
       "      <td>481</td>\n",
       "      <td>3.5</td>\n",
       "    </tr>\n",
       "    <tr>\n",
       "      <th>2</th>\n",
       "      <td>1</td>\n",
       "      <td>1091</td>\n",
       "      <td>1.5</td>\n",
       "    </tr>\n",
       "    <tr>\n",
       "      <th>3</th>\n",
       "      <td>1</td>\n",
       "      <td>1257</td>\n",
       "      <td>4.5</td>\n",
       "    </tr>\n",
       "    <tr>\n",
       "      <th>4</th>\n",
       "      <td>1</td>\n",
       "      <td>1449</td>\n",
       "      <td>4.5</td>\n",
       "    </tr>\n",
       "  </tbody>\n",
       "</table>\n",
       "</div>"
      ],
      "text/plain": [
       "   userId  movieId  rating\n",
       "0       1      307     3.5\n",
       "1       1      481     3.5\n",
       "2       1     1091     1.5\n",
       "3       1     1257     4.5\n",
       "4       1     1449     4.5"
      ]
     },
     "execution_count": 5,
     "metadata": {},
     "output_type": "execute_result"
    }
   ],
   "source": [
    "ratings_df.head()"
   ]
  },
  {
   "cell_type": "code",
   "execution_count": 6,
   "metadata": {},
   "outputs": [
    {
     "data": {
      "text/html": [
       "<div>\n",
       "<style scoped>\n",
       "    .dataframe tbody tr th:only-of-type {\n",
       "        vertical-align: middle;\n",
       "    }\n",
       "\n",
       "    .dataframe tbody tr th {\n",
       "        vertical-align: top;\n",
       "    }\n",
       "\n",
       "    .dataframe thead th {\n",
       "        text-align: right;\n",
       "    }\n",
       "</style>\n",
       "<table border=\"1\" class=\"dataframe\">\n",
       "  <thead>\n",
       "    <tr style=\"text-align: right;\">\n",
       "      <th></th>\n",
       "      <th>movieId</th>\n",
       "      <th>title</th>\n",
       "      <th>imdbId</th>\n",
       "      <th>tmdbId</th>\n",
       "      <th>genres</th>\n",
       "      <th>overview</th>\n",
       "      <th>popularity</th>\n",
       "      <th>poster_path</th>\n",
       "      <th>vote_average</th>\n",
       "      <th>vote_count</th>\n",
       "      <th>director</th>\n",
       "      <th>keywords</th>\n",
       "    </tr>\n",
       "  </thead>\n",
       "  <tbody>\n",
       "    <tr>\n",
       "      <th>54204</th>\n",
       "      <td>189845</td>\n",
       "      <td>National Theatre Live: The Curious Incident of...</td>\n",
       "      <td>3786680</td>\n",
       "      <td>272076</td>\n",
       "      <td>['Drama']</td>\n",
       "      <td>Christopher, fifteen years old, has an extraor...</td>\n",
       "      <td>1.238</td>\n",
       "      <td>/slThVTed0qLnEq3Q93TbndJ3QXx.jpg</td>\n",
       "      <td>10.0</td>\n",
       "      <td>3</td>\n",
       "      <td>Nick Wickham</td>\n",
       "      <td>['woman director']</td>\n",
       "    </tr>\n",
       "    <tr>\n",
       "      <th>20117</th>\n",
       "      <td>99919</td>\n",
       "      <td>Fast Life (1932)</td>\n",
       "      <td>22882</td>\n",
       "      <td>152570</td>\n",
       "      <td>['Comedy', 'Romance', 'Action']</td>\n",
       "      <td>Two sailors (William Haines and Cliff Edwards)...</td>\n",
       "      <td>1.400</td>\n",
       "      <td>/oGVt8n6CZbEZGFyqxhAZGK6IvkR.jpg</td>\n",
       "      <td>10.0</td>\n",
       "      <td>2</td>\n",
       "      <td>Harry A. Pollard</td>\n",
       "      <td>['police', 'rescue', 'pre-code', 'speed boat']</td>\n",
       "    </tr>\n",
       "    <tr>\n",
       "      <th>35513</th>\n",
       "      <td>144998</td>\n",
       "      <td>Rebels in Canada (1965)</td>\n",
       "      <td>60886</td>\n",
       "      <td>159263</td>\n",
       "      <td>['Western']</td>\n",
       "      <td>Hudson river fur hunters rebel against their E...</td>\n",
       "      <td>0.651</td>\n",
       "      <td>/zn97F036Q1MmhRSgnSNilOcHOxx.jpg</td>\n",
       "      <td>10.0</td>\n",
       "      <td>2</td>\n",
       "      <td>Amando de Ossorio</td>\n",
       "      <td>[]</td>\n",
       "    </tr>\n",
       "    <tr>\n",
       "      <th>39066</th>\n",
       "      <td>154061</td>\n",
       "      <td>Un rolls para Hipólito (1983)</td>\n",
       "      <td>84604</td>\n",
       "      <td>220300</td>\n",
       "      <td>['Comedy']</td>\n",
       "      <td>Hipólito, a factory janitor whose workers are ...</td>\n",
       "      <td>1.038</td>\n",
       "      <td>/cYrb7cBbRqi1BNf45pUpmGryar8.jpg</td>\n",
       "      <td>10.0</td>\n",
       "      <td>2</td>\n",
       "      <td>Juan Bosch</td>\n",
       "      <td>['factory', 'strike']</td>\n",
       "    </tr>\n",
       "    <tr>\n",
       "      <th>39606</th>\n",
       "      <td>155481</td>\n",
       "      <td>Kenny Chesney - Summer In 3D (2010)</td>\n",
       "      <td>1545098</td>\n",
       "      <td>65270</td>\n",
       "      <td>['Music', 'Documentary']</td>\n",
       "      <td>Country music singer Kenny Chesney performs li...</td>\n",
       "      <td>0.719</td>\n",
       "      <td>/1M6ZX4DSuGtm9hvSJnqG92IkROQ.jpg</td>\n",
       "      <td>10.0</td>\n",
       "      <td>2</td>\n",
       "      <td>Joe Thomas</td>\n",
       "      <td>['country music', 'concert', 'live performance']</td>\n",
       "    </tr>\n",
       "    <tr>\n",
       "      <th>...</th>\n",
       "      <td>...</td>\n",
       "      <td>...</td>\n",
       "      <td>...</td>\n",
       "      <td>...</td>\n",
       "      <td>...</td>\n",
       "      <td>...</td>\n",
       "      <td>...</td>\n",
       "      <td>...</td>\n",
       "      <td>...</td>\n",
       "      <td>...</td>\n",
       "      <td>...</td>\n",
       "      <td>...</td>\n",
       "    </tr>\n",
       "    <tr>\n",
       "      <th>55444</th>\n",
       "      <td>193443</td>\n",
       "      <td>Wall</td>\n",
       "      <td>6756498</td>\n",
       "      <td>537130</td>\n",
       "      <td>['Documentary']</td>\n",
       "      <td>'You lack inner peace, I can see it in your ey...</td>\n",
       "      <td>0.600</td>\n",
       "      <td>/5KOnksrn3tmiKpTvZwulY7au03j.jpg</td>\n",
       "      <td>0.0</td>\n",
       "      <td>0</td>\n",
       "      <td>Moran Ifergan</td>\n",
       "      <td>[]</td>\n",
       "    </tr>\n",
       "    <tr>\n",
       "      <th>55486</th>\n",
       "      <td>193545</td>\n",
       "      <td>Primas (2017)</td>\n",
       "      <td>5842696</td>\n",
       "      <td>492424</td>\n",
       "      <td>['Documentary']</td>\n",
       "      <td>Two cousins come of age together, overcoming t...</td>\n",
       "      <td>0.600</td>\n",
       "      <td>/pA2fZox1DMRZcyLaWbxzD3XIsfA.jpg</td>\n",
       "      <td>0.0</td>\n",
       "      <td>0</td>\n",
       "      <td>Laura Bari</td>\n",
       "      <td>[]</td>\n",
       "    </tr>\n",
       "    <tr>\n",
       "      <th>55556</th>\n",
       "      <td>193727</td>\n",
       "      <td>Still Burning (2016)</td>\n",
       "      <td>6273462</td>\n",
       "      <td>503443</td>\n",
       "      <td>['Drama']</td>\n",
       "      <td>Still Burning tells the unexpected reunion in ...</td>\n",
       "      <td>1.135</td>\n",
       "      <td>/7zzWid4jKRuNeCwfjKwRm22ZDyZ.jpg</td>\n",
       "      <td>0.0</td>\n",
       "      <td>0</td>\n",
       "      <td>Georges Hachem</td>\n",
       "      <td>['paris, france', 'lebanon war', 'movie indust...</td>\n",
       "    </tr>\n",
       "    <tr>\n",
       "      <th>55559</th>\n",
       "      <td>193733</td>\n",
       "      <td>Homecoming (2017)</td>\n",
       "      <td>7112168</td>\n",
       "      <td>532216</td>\n",
       "      <td>['Drama', 'Family']</td>\n",
       "      <td>Mutsuko has been living on an island to which ...</td>\n",
       "      <td>0.887</td>\n",
       "      <td>/pR8jCCeVjcDpAfqr13GJiQkY3MG.jpg</td>\n",
       "      <td>0.0</td>\n",
       "      <td>0</td>\n",
       "      <td>Takeo Kikuchi</td>\n",
       "      <td>['japanese occupation']</td>\n",
       "    </tr>\n",
       "    <tr>\n",
       "      <th>55623</th>\n",
       "      <td>193870</td>\n",
       "      <td>Isabelle Eberhardt (1991)</td>\n",
       "      <td>102130</td>\n",
       "      <td>65924</td>\n",
       "      <td>[]</td>\n",
       "      <td>Story of a young woman journalist who becomes ...</td>\n",
       "      <td>0.600</td>\n",
       "      <td>/8V4Pt0U90vP7rKbHE4Gu6W2xYhJ.jpg</td>\n",
       "      <td>0.0</td>\n",
       "      <td>0</td>\n",
       "      <td>Ian Pringle</td>\n",
       "      <td>[]</td>\n",
       "    </tr>\n",
       "  </tbody>\n",
       "</table>\n",
       "<p>55631 rows × 12 columns</p>\n",
       "</div>"
      ],
      "text/plain": [
       "       movieId                                              title   imdbId  \\\n",
       "54204   189845  National Theatre Live: The Curious Incident of...  3786680   \n",
       "20117    99919                                   Fast Life (1932)    22882   \n",
       "35513   144998                            Rebels in Canada (1965)    60886   \n",
       "39066   154061                      Un rolls para Hipólito (1983)    84604   \n",
       "39606   155481                Kenny Chesney - Summer In 3D (2010)  1545098   \n",
       "...        ...                                                ...      ...   \n",
       "55444   193443                                               Wall  6756498   \n",
       "55486   193545                                      Primas (2017)  5842696   \n",
       "55556   193727                               Still Burning (2016)  6273462   \n",
       "55559   193733                                  Homecoming (2017)  7112168   \n",
       "55623   193870                          Isabelle Eberhardt (1991)   102130   \n",
       "\n",
       "       tmdbId                           genres  \\\n",
       "54204  272076                        ['Drama']   \n",
       "20117  152570  ['Comedy', 'Romance', 'Action']   \n",
       "35513  159263                      ['Western']   \n",
       "39066  220300                       ['Comedy']   \n",
       "39606   65270         ['Music', 'Documentary']   \n",
       "...       ...                              ...   \n",
       "55444  537130                  ['Documentary']   \n",
       "55486  492424                  ['Documentary']   \n",
       "55556  503443                        ['Drama']   \n",
       "55559  532216              ['Drama', 'Family']   \n",
       "55623   65924                               []   \n",
       "\n",
       "                                                overview  popularity  \\\n",
       "54204  Christopher, fifteen years old, has an extraor...       1.238   \n",
       "20117  Two sailors (William Haines and Cliff Edwards)...       1.400   \n",
       "35513  Hudson river fur hunters rebel against their E...       0.651   \n",
       "39066  Hipólito, a factory janitor whose workers are ...       1.038   \n",
       "39606  Country music singer Kenny Chesney performs li...       0.719   \n",
       "...                                                  ...         ...   \n",
       "55444  'You lack inner peace, I can see it in your ey...       0.600   \n",
       "55486  Two cousins come of age together, overcoming t...       0.600   \n",
       "55556  Still Burning tells the unexpected reunion in ...       1.135   \n",
       "55559  Mutsuko has been living on an island to which ...       0.887   \n",
       "55623  Story of a young woman journalist who becomes ...       0.600   \n",
       "\n",
       "                            poster_path  vote_average  vote_count  \\\n",
       "54204  /slThVTed0qLnEq3Q93TbndJ3QXx.jpg          10.0           3   \n",
       "20117  /oGVt8n6CZbEZGFyqxhAZGK6IvkR.jpg          10.0           2   \n",
       "35513  /zn97F036Q1MmhRSgnSNilOcHOxx.jpg          10.0           2   \n",
       "39066  /cYrb7cBbRqi1BNf45pUpmGryar8.jpg          10.0           2   \n",
       "39606  /1M6ZX4DSuGtm9hvSJnqG92IkROQ.jpg          10.0           2   \n",
       "...                                 ...           ...         ...   \n",
       "55444  /5KOnksrn3tmiKpTvZwulY7au03j.jpg           0.0           0   \n",
       "55486  /pA2fZox1DMRZcyLaWbxzD3XIsfA.jpg           0.0           0   \n",
       "55556  /7zzWid4jKRuNeCwfjKwRm22ZDyZ.jpg           0.0           0   \n",
       "55559  /pR8jCCeVjcDpAfqr13GJiQkY3MG.jpg           0.0           0   \n",
       "55623  /8V4Pt0U90vP7rKbHE4Gu6W2xYhJ.jpg           0.0           0   \n",
       "\n",
       "                director                                           keywords  \n",
       "54204       Nick Wickham                                 ['woman director']  \n",
       "20117   Harry A. Pollard     ['police', 'rescue', 'pre-code', 'speed boat']  \n",
       "35513  Amando de Ossorio                                                 []  \n",
       "39066         Juan Bosch                              ['factory', 'strike']  \n",
       "39606         Joe Thomas   ['country music', 'concert', 'live performance']  \n",
       "...                  ...                                                ...  \n",
       "55444      Moran Ifergan                                                 []  \n",
       "55486         Laura Bari                                                 []  \n",
       "55556     Georges Hachem  ['paris, france', 'lebanon war', 'movie indust...  \n",
       "55559      Takeo Kikuchi                            ['japanese occupation']  \n",
       "55623        Ian Pringle                                                 []  \n",
       "\n",
       "[55631 rows x 12 columns]"
      ]
     },
     "execution_count": 6,
     "metadata": {},
     "output_type": "execute_result"
    }
   ],
   "source": [
    "movies_df.sort_values(['vote_average','vote_count'], ascending=False)"
   ]
  },
  {
   "cell_type": "code",
   "execution_count": 6,
   "metadata": {},
   "outputs": [
    {
     "data": {
      "text/plain": [
       "rating\n",
       "4.0    7394710\n",
       "3.0    5515668\n",
       "5.0    4071135\n",
       "3.5    3404360\n",
       "4.5    2373550\n",
       "2.0    1850627\n",
       "2.5    1373419\n",
       "1.0     886233\n",
       "0.5     442388\n",
       "1.5     441354\n",
       "Name: count, dtype: int64"
      ]
     },
     "execution_count": 6,
     "metadata": {},
     "output_type": "execute_result"
    }
   ],
   "source": [
    "ratings_df[\"rating\"].value_counts()"
   ]
  },
  {
   "cell_type": "code",
   "execution_count": 7,
   "metadata": {},
   "outputs": [
    {
     "data": {
      "text/html": [
       "<div>\n",
       "<style scoped>\n",
       "    .dataframe tbody tr th:only-of-type {\n",
       "        vertical-align: middle;\n",
       "    }\n",
       "\n",
       "    .dataframe tbody tr th {\n",
       "        vertical-align: top;\n",
       "    }\n",
       "\n",
       "    .dataframe thead th {\n",
       "        text-align: right;\n",
       "    }\n",
       "</style>\n",
       "<table border=\"1\" class=\"dataframe\">\n",
       "  <thead>\n",
       "    <tr style=\"text-align: right;\">\n",
       "      <th></th>\n",
       "      <th>movieId</th>\n",
       "      <th>title</th>\n",
       "      <th>imdbId</th>\n",
       "      <th>tmdbId</th>\n",
       "      <th>genres</th>\n",
       "      <th>overview</th>\n",
       "      <th>popularity</th>\n",
       "      <th>poster_path</th>\n",
       "      <th>vote_average</th>\n",
       "      <th>vote_count</th>\n",
       "      <th>director</th>\n",
       "      <th>keywords</th>\n",
       "    </tr>\n",
       "  </thead>\n",
       "  <tbody>\n",
       "    <tr>\n",
       "      <th>312</th>\n",
       "      <td>318</td>\n",
       "      <td>Shawshank Redemption, The (1994)</td>\n",
       "      <td>111161</td>\n",
       "      <td>278</td>\n",
       "      <td>['Drama', 'Crime']</td>\n",
       "      <td>Framed in the 1940s for the double murder of h...</td>\n",
       "      <td>69.056</td>\n",
       "      <td>/lyQBXzOQSuE59IsHyhrp0qIiPAz.jpg</td>\n",
       "      <td>8.703</td>\n",
       "      <td>23939</td>\n",
       "      <td>Frank Darabont</td>\n",
       "      <td>['prison', 'corruption', 'police brutality', '...</td>\n",
       "    </tr>\n",
       "  </tbody>\n",
       "</table>\n",
       "</div>"
      ],
      "text/plain": [
       "     movieId                             title  imdbId  tmdbId  \\\n",
       "312      318  Shawshank Redemption, The (1994)  111161     278   \n",
       "\n",
       "                 genres                                           overview  \\\n",
       "312  ['Drama', 'Crime']  Framed in the 1940s for the double murder of h...   \n",
       "\n",
       "     popularity                       poster_path  vote_average  vote_count  \\\n",
       "312      69.056  /lyQBXzOQSuE59IsHyhrp0qIiPAz.jpg         8.703       23939   \n",
       "\n",
       "           director                                           keywords  \n",
       "312  Frank Darabont  ['prison', 'corruption', 'police brutality', '...  "
      ]
     },
     "execution_count": 7,
     "metadata": {},
     "output_type": "execute_result"
    }
   ],
   "source": [
    "movies_df[movies_df[\"title\"] == 'Shawshank Redemption, The (1994)']"
   ]
  },
  {
   "attachments": {},
   "cell_type": "markdown",
   "metadata": {},
   "source": [
    "#### Part I: How To Find The Most Popular Movies?\n",
    "For this notebook, we have a single task. The task is that no matter the user, we need to provide a list of the recommendations based on simply the most popular items.\n",
    "\n",
    "For this task, we will consider what is \"most popular\" based on the following criteria:\n",
    "\n",
    "- A movie with the highest average rating is considered best\n",
    "- With ties, movies that have more ratings are better\n",
    "- A movie must have a minimum of 5 ratings to be considered among the best movies\n",
    "- If movies are tied in their average rating and number of ratings, the ranking is determined by the movie that is the most recent rating\n",
    "\n",
    "With these criteria, the goal for this notebook is to take a **user_id** and provide back the **n_top** recommendations. \n",
    "\n",
    "\n",
    "We can use the average ratings of the movie as the score but using this will not be fair enough since a movie with 8.9 average rating and only 3 votes cannot be considered better than the movie with 7.8 as as average rating but 40 votes. So, we use IMDB's weighted rating formula to score the movies, as follows:\n",
    "\n",
    "Weighted Rating(WR): $$(\\frac{v}{v+m}.R) + (\\frac{m}{v+m}.C) $$\n",
    "\n",
    "Where,\n",
    "\n",
    "- v is the number of votes for the movie;\n",
    "- m is the minimum votes required to be listed in the chart;\n",
    "- R is the average rating of the movie; And\n",
    "- C is the mean vote across the whole report"
   ]
  },
  {
   "cell_type": "code",
   "execution_count": 8,
   "metadata": {},
   "outputs": [],
   "source": [
    "def create_ranked_df(movies, reviews):\n",
    "        '''\n",
    "        INPUT\n",
    "        movies - the movies dataframe\n",
    "        reviews - the reviews dataframe\n",
    "        \n",
    "        OUTPUT\n",
    "        ranked_movies - a dataframe with movies that are sorted by highest avg rating, more reviews, \n",
    "                        then time, and must have more than 4 ratings\n",
    "        '''\n",
    "        \n",
    "        # Pull the average ratings and number of ratings for each movie\n",
    "        C = reviews[\"rating\"].mean()\n",
    "        movie_ratings = reviews.groupby('movieId')['rating'] \n",
    "        avg_ratings = movie_ratings.mean() # R\n",
    "        num_ratings = movie_ratings.count() # v\n",
    "        m = num_ratings.quantile(0.95)\n",
    "        weighted_rating = ((avg_ratings*num_ratings)/(num_ratings+m))+((C*m)/(num_ratings+m))\n",
    "\n",
    "        rating_count_df = pd.DataFrame({'num_ratings':num_ratings,'weighted_rating': weighted_rating}).reset_index()\n",
    "\n",
    "\n",
    "        # merge with the movies dataset\n",
    "        movies.drop([\"vote_average\",\"vote_count\"], axis=1, inplace=True)\t\n",
    "        movie_recs = movies.merge(rating_count_df, on = 'movieId')\n",
    "\n",
    "        # filter out the movies that qualify for the chart\n",
    "        ratings_filtered=movie_recs[movie_recs['num_ratings']>m]\n",
    "\n",
    "\n",
    "        # sort by top avg rating and number of ratings\n",
    "        ranked_movies = ratings_filtered.sort_values(['weighted_rating', 'num_ratings'], ascending=False)\n",
    "        \n",
    "        return ranked_movies\n",
    "\n",
    "def popular_recommendations(n_top, ranked_movies):\n",
    "    '''\n",
    "    INPUT:\n",
    "    user_id - the user_id (str) of the individual you are making recommendations for\n",
    "    n_top - an integer of the number recommendations you want back\n",
    "    ranked_movies - a pandas dataframe of the already ranked movies based on avg rating, count, and time\n",
    "\n",
    "    OUTPUT:\n",
    "    top_movies - a list of the n_top recommended movies by movie title in order best to worst\n",
    "    '''\n",
    "\n",
    "    top_movies = list(ranked_movies['title'][:n_top])\n",
    "\n",
    "    return top_movies"
   ]
  },
  {
   "cell_type": "code",
   "execution_count": 9,
   "metadata": {},
   "outputs": [],
   "source": [
    "reco_ranked_movies = create_ranked_df(movies = movies_df, reviews = ratings_df)"
   ]
  },
  {
   "cell_type": "code",
   "execution_count": 10,
   "metadata": {},
   "outputs": [
    {
     "data": {
      "text/plain": [
       "movieId            0\n",
       "title              0\n",
       "imdbId             0\n",
       "tmdbId             0\n",
       "genres             0\n",
       "overview           0\n",
       "popularity         0\n",
       "poster_path        0\n",
       "director           0\n",
       "keywords           0\n",
       "num_ratings        0\n",
       "weighted_rating    0\n",
       "dtype: int64"
      ]
     },
     "execution_count": 10,
     "metadata": {},
     "output_type": "execute_result"
    }
   ],
   "source": [
    "reco_ranked_movies.isnull().sum()"
   ]
  },
  {
   "cell_type": "code",
   "execution_count": 12,
   "metadata": {},
   "outputs": [
    {
     "data": {
      "text/plain": [
       "['Shawshank Redemption, The (1994)',\n",
       " 'Godfather, The (1972)',\n",
       " 'Usual Suspects, The (1995)',\n",
       " \"Schindler's List (1993)\",\n",
       " 'Godfather: Part II, The (1974)',\n",
       " 'Fight Club (1999)',\n",
       " \"One Flew Over the Cuckoo's Nest (1975)\",\n",
       " 'Rear Window (1954)',\n",
       " 'Seven Samurai (Shichinin no samurai) (1954)',\n",
       " 'Casablanca (1942)',\n",
       " '12 Angry Men (1957)',\n",
       " 'Dr. Strangelove or: How I Learned to Stop Worrying and Love the Bomb (1964)',\n",
       " 'Pulp Fiction (1994)',\n",
       " 'Spirited Away (Sen to Chihiro no kamikakushi) (2001)',\n",
       " 'Dark Knight, The (2008)',\n",
       " 'Goodfellas (1990)',\n",
       " 'North by Northwest (1959)',\n",
       " 'Silence of the Lambs, The (1991)',\n",
       " 'Matrix, The (1999)',\n",
       " 'Inception (2010)']"
      ]
     },
     "execution_count": 12,
     "metadata": {},
     "output_type": "execute_result"
    }
   ],
   "source": [
    "recs_20 = popular_recommendations( 20, ranked_movies = reco_ranked_movies)\n",
    "recs_20"
   ]
  },
  {
   "attachments": {},
   "cell_type": "markdown",
   "metadata": {},
   "source": [
    "Part II: Adding Filters\n",
    "Now that you have created a function to give back the n_top movies, let's make it a bit more robust. Add arguments that will act as filters for the movie year and genre.\n",
    "\n",
    "Use the cells below to adjust your existing function to allow for year and genre arguments as lists of strings. Then your ending results are filtered to only movies within the lists of provided years and genres (as or conditions). If no list is provided, there should be no filter applied.\n",
    "\n",
    "You can adjust other necessary inputs as necessary to retrieve the final results you are looking for!"
   ]
  },
  {
   "cell_type": "code",
   "execution_count": 329,
   "metadata": {},
   "outputs": [],
   "source": [
    "# len(unique_genres)"
   ]
  },
  {
   "cell_type": "code",
   "execution_count": 22,
   "metadata": {},
   "outputs": [],
   "source": [
    "def popular_recs_filtered( n_top, ranked_movies, years=None, genres=None):\n",
    "    '''\n",
    "    REDO THIS DOC STRING\n",
    "    \n",
    "    INPUT:\n",
    "    user_id - the user_id (str) of the individual you are making recommendations for\n",
    "    n_top - an integer of the number recommendations you want back\n",
    "    ranked_movies - a pandas dataframe of the already ranked movies based on avg rating, count, and time\n",
    "    years - a list of strings with years of movies\n",
    "    genres - a list of strings with genres of movies\n",
    "    \n",
    "    OUTPUT:\n",
    "    top_movies - a list of the n_top recommended movies by movie title in order best to worst\n",
    "    '''\n",
    "    unique_genres = json.load(open('artifacts/data_preparation/final_data/unique_categories.json','rb'))\n",
    "    ranked_movies['year'] = ranked_movies['title'].str.extract(r'\\((\\d+)\\)').fillna(-1)\n",
    "\n",
    "\n",
    "    # # Create new columns based on the number of unique genres\n",
    "    # genre_columns = []\n",
    "    # for genre in unique_genres:\n",
    "    #     genre_columns.append(ranked_movies['genres'].apply(lambda x: int(genre in x)).rename(f'{genre}'))\n",
    "\n",
    "    # # Concatenate the genre columns with the movies_df DataFrame\n",
    "    # df_concatenated = pd.concat([ranked_movies] + genre_columns, axis=1)\n",
    "    \n",
    "    for genre in unique_genres:\n",
    "        ranked_movies[genre] = ranked_movies['genres'].apply(lambda x: 1 if genre in x else 0)\n",
    "\n",
    "    df_concatenated = ranked_movies.copy()\n",
    "    # Filter movies based on years and genres if provided\n",
    "    if years is not None and genres is not None:\n",
    "        filtered_movies = df_concatenated[(df_concatenated['year'].isin(years)) & (df_concatenated[genres].sum(axis=1) > 0)]\n",
    "    elif years is not None:\n",
    "        filtered_movies = df_concatenated[df_concatenated['year'].isin(years)]\n",
    "    elif genres is not None:\n",
    "        filtered_movies = df_concatenated[df_concatenated[genres].sum(axis=1) > 0]\n",
    "    else:\n",
    "        filtered_movies = df_concatenated.copy()\n",
    "    \n",
    "    # Sort the filtered movies by rank and select the top n_top movies\n",
    "    top_movies = filtered_movies['title'].head(n_top)\n",
    "    \n",
    "    return top_movies"
   ]
  },
  {
   "cell_type": "code",
   "execution_count": 23,
   "metadata": {},
   "outputs": [],
   "source": [
    "# Top 20 movies recommended for id 1 with years=['2015', '2016', '2017', '2018'], genres=['History']\n",
    "recs_20_for_filtered = popular_recs_filtered(20, reco_ranked_movies, years=['2010'], genres=['Drama'])\n",
    "\n",
    "# Top 5 movies recommended for id 53968 with no genre filter but years=['2015', '2016', '2017', '2018']\n",
    "recs_5_for_filtered = popular_recs_filtered( 5, reco_ranked_movies, years=['2010'])\n",
    "\n",
    "# Top 100 movies recommended for id 70000 with no year filter but genres=['History', 'News']\n",
    "recs_10_for_filtered = popular_recs_filtered( 10, reco_ranked_movies, genres=['Drama', 'Crime'])"
   ]
  },
  {
   "cell_type": "code",
   "execution_count": 24,
   "metadata": {},
   "outputs": [
    {
     "data": {
      "text/plain": [
       "14756                 Shutter Island (2010)\n",
       "16043             King's Speech, The (2010)\n",
       "15981                     Black Swan (2010)\n",
       "16059                   Fighter, The (2010)\n",
       "16195                      True Grit (2010)\n",
       "15718            Social Network, The (2010)\n",
       "15727                      Town, The (2010)\n",
       "15283                  Winter's Bone (2010)\n",
       "15972                      127 Hours (2010)\n",
       "15165                 Blue Valentine (2010)\n",
       "15969                       Due Date (2010)\n",
       "15129                     Robin Hood (2010)\n",
       "15334    Twilight Saga: Eclipse, The (2010)\n",
       "Name: title, dtype: object"
      ]
     },
     "execution_count": 24,
     "metadata": {},
     "output_type": "execute_result"
    }
   ],
   "source": [
    "recs_20_for_filtered"
   ]
  },
  {
   "cell_type": "code",
   "execution_count": 20,
   "metadata": {},
   "outputs": [
    {
     "data": {
      "text/plain": [
       "14756                 Shutter Island (2010)\n",
       "16043             King's Speech, The (2010)\n",
       "15981                     Black Swan (2010)\n",
       "16059                   Fighter, The (2010)\n",
       "16195                      True Grit (2010)\n",
       "15718            Social Network, The (2010)\n",
       "15727                      Town, The (2010)\n",
       "15283                  Winter's Bone (2010)\n",
       "15972                      127 Hours (2010)\n",
       "15165                 Blue Valentine (2010)\n",
       "15969                       Due Date (2010)\n",
       "15129                     Robin Hood (2010)\n",
       "15334    Twilight Saga: Eclipse, The (2010)\n",
       "Name: title, dtype: object"
      ]
     },
     "execution_count": 20,
     "metadata": {},
     "output_type": "execute_result"
    }
   ],
   "source": [
    "recs_20_for_filtered"
   ]
  },
  {
   "cell_type": "code",
   "execution_count": 16,
   "metadata": {},
   "outputs": [
    {
     "data": {
      "text/plain": [
       "15405                                     Inception (2010)\n",
       "14756                                Shutter Island (2010)\n",
       "16043                            King's Speech, The (2010)\n",
       "14911                      How to Train Your Dragon (2010)\n",
       "16042    Harry Potter and the Deathly Hallows: Part 1 (...\n",
       "Name: title, dtype: object"
      ]
     },
     "execution_count": 16,
     "metadata": {},
     "output_type": "execute_result"
    }
   ],
   "source": [
    "recs_5_for_filtered"
   ]
  },
  {
   "cell_type": "code",
   "execution_count": 43,
   "metadata": {},
   "outputs": [
    {
     "data": {
      "text/plain": [
       "15324                                     Inception (2010)\n",
       "14672                                Shutter Island (2010)\n",
       "15958                            King's Speech, The (2010)\n",
       "14830                      How to Train Your Dragon (2010)\n",
       "15957    Harry Potter and the Deathly Hallows: Part 1 (...\n",
       "Name: title, dtype: object"
      ]
     },
     "execution_count": 43,
     "metadata": {},
     "output_type": "execute_result"
    }
   ],
   "source": [
    "recs_5_for_filtered"
   ]
  },
  {
   "cell_type": "code",
   "execution_count": 17,
   "metadata": {},
   "outputs": [
    {
     "data": {
      "text/plain": [
       "312                Shawshank Redemption, The (1994)\n",
       "827                           Godfather, The (1972)\n",
       "48                       Usual Suspects, The (1995)\n",
       "519                         Schindler's List (1993)\n",
       "1175                 Godfather: Part II, The (1974)\n",
       "2824                              Fight Club (1999)\n",
       "1149         One Flew Over the Cuckoo's Nest (1975)\n",
       "1896    Seven Samurai (Shichinin no samurai) (1954)\n",
       "882                               Casablanca (1942)\n",
       "1158                            12 Angry Men (1957)\n",
       "Name: title, dtype: object"
      ]
     },
     "execution_count": 17,
     "metadata": {},
     "output_type": "execute_result"
    }
   ],
   "source": [
    "recs_10_for_filtered"
   ]
  },
  {
   "cell_type": "code",
   "execution_count": 21,
   "metadata": {},
   "outputs": [
    {
     "data": {
      "text/plain": [
       "312                Shawshank Redemption, The (1994)\n",
       "827                           Godfather, The (1972)\n",
       "48                       Usual Suspects, The (1995)\n",
       "519                         Schindler's List (1993)\n",
       "1175                 Godfather: Part II, The (1974)\n",
       "2824                              Fight Club (1999)\n",
       "1149         One Flew Over the Cuckoo's Nest (1975)\n",
       "1896    Seven Samurai (Shichinin no samurai) (1954)\n",
       "882                               Casablanca (1942)\n",
       "1158                            12 Angry Men (1957)\n",
       "Name: title, dtype: object"
      ]
     },
     "execution_count": 21,
     "metadata": {},
     "output_type": "execute_result"
    }
   ],
   "source": [
    "recs_10_for_filtered"
   ]
  },
  {
   "cell_type": "code",
   "execution_count": null,
   "metadata": {},
   "outputs": [],
   "source": []
  }
 ],
 "metadata": {
  "kernelspec": {
   "display_name": "movies",
   "language": "python",
   "name": "python3"
  },
  "language_info": {
   "codemirror_mode": {
    "name": "ipython",
    "version": 3
   },
   "file_extension": ".py",
   "mimetype": "text/x-python",
   "name": "python",
   "nbconvert_exporter": "python",
   "pygments_lexer": "ipython3",
   "version": "3.10.0"
  },
  "orig_nbformat": 4
 },
 "nbformat": 4,
 "nbformat_minor": 2
}
