{
 "cells": [
  {
   "cell_type": "code",
   "execution_count": 1,
   "metadata": {},
   "outputs": [
    {
     "data": {
      "text/plain": [
       "'c:\\\\Users\\\\abhis\\\\Desktop\\\\MLProjects\\\\Movie Recommender'"
      ]
     },
     "execution_count": 1,
     "metadata": {},
     "output_type": "execute_result"
    }
   ],
   "source": [
    "import os\n",
    "os.chdir(\"../\")\n",
    "%pwd"
   ]
  },
  {
   "cell_type": "code",
   "execution_count": 2,
   "metadata": {},
   "outputs": [],
   "source": [
    "from dataclasses import dataclass\n",
    "from pathlib import Path\n",
    "\n",
    "\n",
    "@dataclass(frozen=True)\n",
    "class ContentBasedModelConfig:\n",
    "    root_dir: Path\n",
    "    movies_data: Path\n",
    "    content_matrix: Path"
   ]
  },
  {
   "cell_type": "code",
   "execution_count": 3,
   "metadata": {},
   "outputs": [],
   "source": [
    "from MovieRecommender.constants import *\n",
    "from MovieRecommender.utils.common import read_yaml, create_directories"
   ]
  },
  {
   "cell_type": "code",
   "execution_count": 4,
   "metadata": {},
   "outputs": [],
   "source": [
    "class ConfigurationManager:\n",
    "    def __init__(\n",
    "        self, \n",
    "        config_filepath = CONFIG_FILE_PATH,\n",
    "        params_filepath = PARAMS_FILE_PATH):\n",
    "        self.config = read_yaml(config_filepath)\n",
    "        self.params = read_yaml(params_filepath)\n",
    "        create_directories([self.config.artifacts_root])\n",
    "\n",
    "    def get_content_based_model_config(self) -> ContentBasedModelConfig:\n",
    "        content_based_model = self.config.content_based_model\n",
    "\n",
    "        create_directories([content_based_model.root_dir])\n",
    "\n",
    "        content_based_model_config = ContentBasedModelConfig(\n",
    "            root_dir = Path(content_based_model.root_dir),\n",
    "            movies_data = Path(self.config.data_preparation.movies_data_path),\n",
    "            content_matrix = Path(content_based_model.content_matrix)\n",
    "            \n",
    "        )\n",
    "\n",
    "        return content_based_model_config"
   ]
  },
  {
   "cell_type": "code",
   "execution_count": 5,
   "metadata": {},
   "outputs": [],
   "source": [
    "import pandas as pd\n",
    "import json\n",
    "import pickle\n",
    "import numpy as np\n",
    "from ast import literal_eval\n",
    "from sklearn.metrics.pairwise import linear_kernel\n",
    "from sklearn.feature_extraction.text import CountVectorizer\n",
    "from sklearn.metrics.pairwise import cosine_similarity\n",
    "from MovieRecommender.constants import *\n",
    "from MovieRecommender.logging import logger\n",
    "from scipy.sparse import csr_matrix, save_npz"
   ]
  },
  {
   "cell_type": "code",
   "execution_count": 6,
   "metadata": {},
   "outputs": [],
   "source": [
    "class ContentBasedModel:\n",
    "    def __init__(self, config = ContentBasedModelConfig):\n",
    "        self.config = config\n",
    "\n",
    "    def get_df(self, data_path):\n",
    "        \"\"\"\n",
    "        Read a CSV file into a pandas DataFrame.\n",
    "\n",
    "        Args:\n",
    "            data_path (str): File path of the CSV file.\n",
    "\n",
    "        Returns:\n",
    "            pandas.DataFrame: DataFrame containing the data from the CSV file.\n",
    "        \"\"\"\n",
    "        df = pd.read_csv(data_path)\n",
    "        return df\n",
    "\n",
    "    def apply_literal_eval(self, data, features = ['genres','keywords']):\n",
    "        for feature in features:\n",
    "            data[feature] = data[feature].apply(literal_eval)\n",
    "\n",
    "    \n",
    "    def get_top_elements(self,data,features = ['genres','keywords']):\n",
    "        for feature in features:\n",
    "            data[feature] = data[feature].apply(lambda x: x[:3])\n",
    "\n",
    "\n",
    "    def clean_director(self,data):\n",
    "        data['director']=data['director'].apply(lambda x: x.lower().replace(' ','_'))\n",
    " \n",
    "\n",
    "    def clean_top3(self, data,features = ['genres','keywords']):\n",
    "        for feature in features:\n",
    "            data[feature] = data[feature].apply(lambda x: [a.lower().replace(' ', '_') for a in x])\n",
    "\n",
    "\n",
    "    def create_soup_column(self,data):\n",
    "        data['soup'] = data['keywords'].apply(lambda x: ' '.join(x)) + ' ' + data['director'] + ' ' + data['genres'].apply(lambda x: ' '.join(x))\n",
    "\n",
    "    \n",
    "    \n",
    "    ## STEPS \n",
    "    def load_data_from_db(self):\n",
    "        self.movies_df = self.get_df(data_path = self.config.movies_data)\n",
    "        self.movies_df  = self.movies_df[['genres', 'keywords','director']]\n",
    "        logger.info( f'Data loaded from DB' )\n",
    "\n",
    "    def process_data(self):\n",
    "        self.apply_literal_eval(self.movies_df)\n",
    "        self.get_top_elements(self.movies_df)\n",
    "        self.clean_director(self.movies_df)\n",
    "        self.clean_top3(self.movies_df)\n",
    "        self.create_soup_column(self.movies_df)\n",
    "        logger.info( f'Data processed' )\n",
    "\n",
    "    def create_similarity_matrix(self):\n",
    "        cv = CountVectorizer(stop_words='english')\n",
    "        cv_matrix = cv.fit_transform(self.movies_df['soup']).astype('float16')\n",
    "        cv_matrix = csr_matrix(cv_matrix, dtype=np.float16)\n",
    "        cosine_sim = cosine_similarity(cv_matrix,dense_output=False)\n",
    "        logger.info( f'Similarity matrix calculated' )\n",
    "        return cosine_sim\n",
    "    \n",
    "    def save_similarity_matrix(self):\n",
    "        cosine_sim = self.create_similarity_matrix()\n",
    "        # pickle.dump(csr_matrix(cosine_sim), open(self.config.content_matrix,'wb'))\n",
    "        save_npz(self.config.content_matrix,cosine_sim)\n",
    "        logger.info( f'Similarity matrix saved in {self.config.content_matrix}' )\n",
    "        "
   ]
  },
  {
   "cell_type": "code",
   "execution_count": 7,
   "metadata": {},
   "outputs": [
    {
     "name": "stdout",
     "output_type": "stream",
     "text": [
      "[2023-06-25 10:16:39,303: INFO: common: yaml file: config\\config.yaml loaded successfully]\n",
      "[2023-06-25 10:16:39,308: INFO: common: yaml file: params.yaml loaded successfully]\n",
      "[2023-06-25 10:16:39,311: INFO: common: created directory at: artifacts]\n",
      "[2023-06-25 10:16:39,313: INFO: common: created directory at: artifacts/content_based_model]\n",
      "[2023-06-25 10:16:39,897: INFO: 3286974035: Data loaded from DB]\n",
      "[2023-06-25 10:16:41,833: INFO: 3286974035: Data processed]\n",
      "[2023-06-25 10:16:53,391: INFO: 3286974035: Similarity matrix calculated]\n",
      "[2023-06-25 10:32:26,072: INFO: 3286974035: Similarity matrix saved in artifacts\\content_based_model\\content_matrix.npz]\n"
     ]
    }
   ],
   "source": [
    "try:\n",
    "    config = ConfigurationManager()\n",
    "    content_based_model_config = config.get_content_based_model_config()\n",
    "    content_based_model = ContentBasedModel(\n",
    "                                config=content_based_model_config)\n",
    "    content_based_model.load_data_from_db()\n",
    "    content_based_model.process_data()\n",
    "    content_based_model.save_similarity_matrix()  \n",
    "except Exception as e:\n",
    "    raise e"
   ]
  },
  {
   "cell_type": "code",
   "execution_count": null,
   "metadata": {},
   "outputs": [],
   "source": []
  },
  {
   "cell_type": "code",
   "execution_count": null,
   "metadata": {},
   "outputs": [],
   "source": []
  }
 ],
 "metadata": {
  "kernelspec": {
   "display_name": "movie_reco",
   "language": "python",
   "name": "python3"
  },
  "language_info": {
   "codemirror_mode": {
    "name": "ipython",
    "version": 3
   },
   "file_extension": ".py",
   "mimetype": "text/x-python",
   "name": "python",
   "nbconvert_exporter": "python",
   "pygments_lexer": "ipython3",
   "version": "3.10.0"
  },
  "orig_nbformat": 4
 },
 "nbformat": 4,
 "nbformat_minor": 2
}
