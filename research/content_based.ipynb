{
 "cells": [
  {
   "cell_type": "code",
   "execution_count": 1,
   "metadata": {},
   "outputs": [
    {
     "data": {
      "text/plain": [
       "'c:\\\\Users\\\\abhis\\\\Desktop\\\\MLProjects\\\\Movie Recommender'"
      ]
     },
     "execution_count": 1,
     "metadata": {},
     "output_type": "execute_result"
    }
   ],
   "source": [
    "import os\n",
    "os.chdir(\"../\")\n",
    "%pwd"
   ]
  },
  {
   "cell_type": "code",
   "execution_count": 2,
   "metadata": {},
   "outputs": [],
   "source": [
    "import numpy as np\n",
    "import pandas as pd\n",
    "from scipy.sparse import csr_matrix\n",
    "from ast import literal_eval\n",
    "from sklearn.feature_extraction.text import TfidfVectorizer\n",
    "from sklearn.metrics.pairwise import linear_kernel\n",
    "from sklearn.feature_extraction.text import CountVectorizer\n",
    "from sklearn.metrics.pairwise import cosine_similarity"
   ]
  },
  {
   "attachments": {},
   "cell_type": "markdown",
   "metadata": {},
   "source": [
    "### Content-Based Recommender\n",
    "To personalize the recommendations, we build an engine that computes similarity between movies based on certain metrics and suggests movies that are most similar to a particular movie that a user liked.\n",
    "\n",
    "We build two Content-Based Recommenders based on contents including:\n",
    "\n",
    " - Movie Overview\n",
    " - Movie Cast, Crew, Keywords and Genre\n",
    "### Movie Overview Based Recommender\n",
    "First we compute pairwise similarity scores for all movies based on their **overview** column. Then recommend movies based on that similarity score."
   ]
  },
  {
   "cell_type": "code",
   "execution_count": 3,
   "metadata": {},
   "outputs": [],
   "source": [
    "# Read the data\n",
    "\n",
    "# ratings_df = pd.read_csv('artifacts/data_preparation/final_data/ratings.csv')\n",
    "movies_df = pd.read_csv('artifacts/data_preparation/final_data/movies.csv')"
   ]
  },
  {
   "cell_type": "code",
   "execution_count": 24,
   "metadata": {},
   "outputs": [
    {
     "data": {
      "text/html": [
       "<div>\n",
       "<style scoped>\n",
       "    .dataframe tbody tr th:only-of-type {\n",
       "        vertical-align: middle;\n",
       "    }\n",
       "\n",
       "    .dataframe tbody tr th {\n",
       "        vertical-align: top;\n",
       "    }\n",
       "\n",
       "    .dataframe thead th {\n",
       "        text-align: right;\n",
       "    }\n",
       "</style>\n",
       "<table border=\"1\" class=\"dataframe\">\n",
       "  <thead>\n",
       "    <tr style=\"text-align: right;\">\n",
       "      <th></th>\n",
       "      <th>movieId</th>\n",
       "      <th>title</th>\n",
       "      <th>imdbId</th>\n",
       "      <th>tmdbId</th>\n",
       "      <th>genres</th>\n",
       "      <th>overview</th>\n",
       "      <th>popularity</th>\n",
       "      <th>poster_path</th>\n",
       "      <th>vote_average</th>\n",
       "      <th>vote_count</th>\n",
       "      <th>director</th>\n",
       "      <th>keywords</th>\n",
       "    </tr>\n",
       "  </thead>\n",
       "  <tbody>\n",
       "    <tr>\n",
       "      <th>0</th>\n",
       "      <td>1</td>\n",
       "      <td>Toy Story (1995)</td>\n",
       "      <td>114709</td>\n",
       "      <td>862</td>\n",
       "      <td>['Animation', 'Adventure', 'Family', 'Comedy']</td>\n",
       "      <td>Led by Woody, Andy's toys live happily in his ...</td>\n",
       "      <td>101.402</td>\n",
       "      <td>/uXDfjJbdP4ijW5hWSBrPrlKpxab.jpg</td>\n",
       "      <td>8.000</td>\n",
       "      <td>16771</td>\n",
       "      <td>John Lasseter</td>\n",
       "      <td>['martial arts', 'jealousy', 'friendship', 'bu...</td>\n",
       "    </tr>\n",
       "    <tr>\n",
       "      <th>1</th>\n",
       "      <td>2</td>\n",
       "      <td>Jumanji (1995)</td>\n",
       "      <td>113497</td>\n",
       "      <td>8844</td>\n",
       "      <td>['Adventure', 'Fantasy', 'Family']</td>\n",
       "      <td>When siblings Judy and Peter discover an encha...</td>\n",
       "      <td>16.794</td>\n",
       "      <td>/v2XHtmVqpERPy0HA1y9wltoeEgW.jpg</td>\n",
       "      <td>7.238</td>\n",
       "      <td>9636</td>\n",
       "      <td>Joe Johnston</td>\n",
       "      <td>['giant insect', 'board game', 'jungle', 'disa...</td>\n",
       "    </tr>\n",
       "    <tr>\n",
       "      <th>2</th>\n",
       "      <td>3</td>\n",
       "      <td>Grumpier Old Men (1995)</td>\n",
       "      <td>113228</td>\n",
       "      <td>15602</td>\n",
       "      <td>['Romance', 'Comedy']</td>\n",
       "      <td>A family wedding reignites the ancient feud be...</td>\n",
       "      <td>9.856</td>\n",
       "      <td>/1FSXpj5e8l4KH6nVFO5SPUeraOt.jpg</td>\n",
       "      <td>6.470</td>\n",
       "      <td>328</td>\n",
       "      <td>Howard Deutch</td>\n",
       "      <td>['fishing', 'halloween', 'sequel', 'old man', ...</td>\n",
       "    </tr>\n",
       "    <tr>\n",
       "      <th>3</th>\n",
       "      <td>4</td>\n",
       "      <td>Waiting to Exhale (1995)</td>\n",
       "      <td>114885</td>\n",
       "      <td>31357</td>\n",
       "      <td>['Comedy', 'Drama', 'Romance']</td>\n",
       "      <td>Cheated on, mistreated and stepped on, the wom...</td>\n",
       "      <td>11.498</td>\n",
       "      <td>/kJokIbVDkd6Ywp7IONv8xgfiES7.jpg</td>\n",
       "      <td>6.272</td>\n",
       "      <td>134</td>\n",
       "      <td>Forest Whitaker</td>\n",
       "      <td>['based on novel or book', 'interracial relati...</td>\n",
       "    </tr>\n",
       "    <tr>\n",
       "      <th>4</th>\n",
       "      <td>5</td>\n",
       "      <td>Father of the Bride Part II (1995)</td>\n",
       "      <td>113041</td>\n",
       "      <td>11862</td>\n",
       "      <td>['Comedy', 'Family']</td>\n",
       "      <td>Just when George Banks has recovered from his ...</td>\n",
       "      <td>14.211</td>\n",
       "      <td>/rj4LBtwQ0uGrpBnCELr716Qo3mw.jpg</td>\n",
       "      <td>6.250</td>\n",
       "      <td>642</td>\n",
       "      <td>Charles Shyer</td>\n",
       "      <td>['parent child relationship', 'baby', 'midlife...</td>\n",
       "    </tr>\n",
       "  </tbody>\n",
       "</table>\n",
       "</div>"
      ],
      "text/plain": [
       "   movieId                               title  imdbId  tmdbId  \\\n",
       "0        1                    Toy Story (1995)  114709     862   \n",
       "1        2                      Jumanji (1995)  113497    8844   \n",
       "2        3             Grumpier Old Men (1995)  113228   15602   \n",
       "3        4            Waiting to Exhale (1995)  114885   31357   \n",
       "4        5  Father of the Bride Part II (1995)  113041   11862   \n",
       "\n",
       "                                           genres  \\\n",
       "0  ['Animation', 'Adventure', 'Family', 'Comedy']   \n",
       "1              ['Adventure', 'Fantasy', 'Family']   \n",
       "2                           ['Romance', 'Comedy']   \n",
       "3                  ['Comedy', 'Drama', 'Romance']   \n",
       "4                            ['Comedy', 'Family']   \n",
       "\n",
       "                                            overview  popularity  \\\n",
       "0  Led by Woody, Andy's toys live happily in his ...     101.402   \n",
       "1  When siblings Judy and Peter discover an encha...      16.794   \n",
       "2  A family wedding reignites the ancient feud be...       9.856   \n",
       "3  Cheated on, mistreated and stepped on, the wom...      11.498   \n",
       "4  Just when George Banks has recovered from his ...      14.211   \n",
       "\n",
       "                        poster_path  vote_average  vote_count  \\\n",
       "0  /uXDfjJbdP4ijW5hWSBrPrlKpxab.jpg         8.000       16771   \n",
       "1  /v2XHtmVqpERPy0HA1y9wltoeEgW.jpg         7.238        9636   \n",
       "2  /1FSXpj5e8l4KH6nVFO5SPUeraOt.jpg         6.470         328   \n",
       "3  /kJokIbVDkd6Ywp7IONv8xgfiES7.jpg         6.272         134   \n",
       "4  /rj4LBtwQ0uGrpBnCELr716Qo3mw.jpg         6.250         642   \n",
       "\n",
       "          director                                           keywords  \n",
       "0    John Lasseter  ['martial arts', 'jealousy', 'friendship', 'bu...  \n",
       "1     Joe Johnston  ['giant insect', 'board game', 'jungle', 'disa...  \n",
       "2    Howard Deutch  ['fishing', 'halloween', 'sequel', 'old man', ...  \n",
       "3  Forest Whitaker  ['based on novel or book', 'interracial relati...  \n",
       "4    Charles Shyer  ['parent child relationship', 'baby', 'midlife...  "
      ]
     },
     "execution_count": 24,
     "metadata": {},
     "output_type": "execute_result"
    }
   ],
   "source": [
    "movies_df.head()"
   ]
  },
  {
   "cell_type": "code",
   "execution_count": 5,
   "metadata": {},
   "outputs": [
    {
     "data": {
      "text/plain": [
       "362"
      ]
     },
     "execution_count": 5,
     "metadata": {},
     "output_type": "execute_result"
    }
   ],
   "source": [
    "movies_df['overview'].isnull().sum()"
   ]
  },
  {
   "cell_type": "code",
   "execution_count": 6,
   "metadata": {},
   "outputs": [],
   "source": [
    "movies_df['overview'].fillna(' ', inplace=True)"
   ]
  },
  {
   "attachments": {},
   "cell_type": "markdown",
   "metadata": {},
   "source": [
    "Now we compute Term Frequency-Inverse Document Frequency (TF-IDF) vectors for each overview.\n",
    "\n",
    "Term Frequency (TF) is the relative frequency of a word in a document and is given as (term instances/total instances). Inverse Document Frequency (IDF) is the relative count of documents containing the term and is given as log(number of documents/documents with term). The overall importance of each word to the documents in which they appear is equal to TF * IDF\n",
    "\n",
    "This gives us a matrix where each column represents a word in the overall overview vocabulary and each row represents a movie.This is done to reduce the importance of words that occur frequently in plot overviews and therefore, their significance in computing the final similarity score.\n",
    "\n",
    "Scikit-learn has a built-in TfIdfVectorizer class that produces the TF-IDF matrix in a couple of lines.\n",
    "\n",
    "**Constructing TF-IDF Matrix**"
   ]
  },
  {
   "cell_type": "code",
   "execution_count": 7,
   "metadata": {},
   "outputs": [],
   "source": [
    "tfidfv=TfidfVectorizer(analyzer='word', stop_words='english')\n",
    "tfidfv_matrix=tfidfv.fit_transform(movies_df['overview']).astype('float32')\n",
    "# print(tfidfv_matrix.todense())\n",
    "# tfidfv_matrix.todense().shape"
   ]
  },
  {
   "cell_type": "code",
   "execution_count": 9,
   "metadata": {},
   "outputs": [],
   "source": [
    "df = pd.DataFrame.sparse.from_spmatrix(\n",
    "    tfidfv_matrix, columns=tfidfv.get_feature_names_out() )"
   ]
  },
  {
   "cell_type": "code",
   "execution_count": 10,
   "metadata": {},
   "outputs": [
    {
     "data": {
      "text/html": [
       "<div>\n",
       "<style scoped>\n",
       "    .dataframe tbody tr th:only-of-type {\n",
       "        vertical-align: middle;\n",
       "    }\n",
       "\n",
       "    .dataframe tbody tr th {\n",
       "        vertical-align: top;\n",
       "    }\n",
       "\n",
       "    .dataframe thead th {\n",
       "        text-align: right;\n",
       "    }\n",
       "</style>\n",
       "<table border=\"1\" class=\"dataframe\">\n",
       "  <thead>\n",
       "    <tr style=\"text-align: right;\">\n",
       "      <th></th>\n",
       "      <th>00</th>\n",
       "      <th>000</th>\n",
       "      <th>000s</th>\n",
       "      <th>000th</th>\n",
       "      <th>001</th>\n",
       "      <th>006</th>\n",
       "      <th>007</th>\n",
       "      <th>009</th>\n",
       "      <th>0093</th>\n",
       "      <th>01</th>\n",
       "      <th>...</th>\n",
       "      <th>आव</th>\n",
       "      <th>गल</th>\n",
       "      <th>ஒற</th>\n",
       "      <th>றன</th>\n",
       "      <th>అన</th>\n",
       "      <th>నమయ</th>\n",
       "      <th>ണന</th>\n",
       "      <th>ധയ</th>\n",
       "      <th>ﬁrst</th>\n",
       "      <th>ﬂying</th>\n",
       "    </tr>\n",
       "  </thead>\n",
       "  <tbody>\n",
       "    <tr>\n",
       "      <th>0</th>\n",
       "      <td>0.0</td>\n",
       "      <td>0.0</td>\n",
       "      <td>0.0</td>\n",
       "      <td>0.0</td>\n",
       "      <td>0.0</td>\n",
       "      <td>0.0</td>\n",
       "      <td>0.0</td>\n",
       "      <td>0.0</td>\n",
       "      <td>0.0</td>\n",
       "      <td>0.0</td>\n",
       "      <td>...</td>\n",
       "      <td>0.0</td>\n",
       "      <td>0.0</td>\n",
       "      <td>0.0</td>\n",
       "      <td>0.0</td>\n",
       "      <td>0.0</td>\n",
       "      <td>0.0</td>\n",
       "      <td>0.0</td>\n",
       "      <td>0.0</td>\n",
       "      <td>0.0</td>\n",
       "      <td>0.0</td>\n",
       "    </tr>\n",
       "    <tr>\n",
       "      <th>1</th>\n",
       "      <td>0.0</td>\n",
       "      <td>0.0</td>\n",
       "      <td>0.0</td>\n",
       "      <td>0.0</td>\n",
       "      <td>0.0</td>\n",
       "      <td>0.0</td>\n",
       "      <td>0.0</td>\n",
       "      <td>0.0</td>\n",
       "      <td>0.0</td>\n",
       "      <td>0.0</td>\n",
       "      <td>...</td>\n",
       "      <td>0.0</td>\n",
       "      <td>0.0</td>\n",
       "      <td>0.0</td>\n",
       "      <td>0.0</td>\n",
       "      <td>0.0</td>\n",
       "      <td>0.0</td>\n",
       "      <td>0.0</td>\n",
       "      <td>0.0</td>\n",
       "      <td>0.0</td>\n",
       "      <td>0.0</td>\n",
       "    </tr>\n",
       "    <tr>\n",
       "      <th>2</th>\n",
       "      <td>0.0</td>\n",
       "      <td>0.0</td>\n",
       "      <td>0.0</td>\n",
       "      <td>0.0</td>\n",
       "      <td>0.0</td>\n",
       "      <td>0.0</td>\n",
       "      <td>0.0</td>\n",
       "      <td>0.0</td>\n",
       "      <td>0.0</td>\n",
       "      <td>0.0</td>\n",
       "      <td>...</td>\n",
       "      <td>0.0</td>\n",
       "      <td>0.0</td>\n",
       "      <td>0.0</td>\n",
       "      <td>0.0</td>\n",
       "      <td>0.0</td>\n",
       "      <td>0.0</td>\n",
       "      <td>0.0</td>\n",
       "      <td>0.0</td>\n",
       "      <td>0.0</td>\n",
       "      <td>0.0</td>\n",
       "    </tr>\n",
       "    <tr>\n",
       "      <th>3</th>\n",
       "      <td>0.0</td>\n",
       "      <td>0.0</td>\n",
       "      <td>0.0</td>\n",
       "      <td>0.0</td>\n",
       "      <td>0.0</td>\n",
       "      <td>0.0</td>\n",
       "      <td>0.0</td>\n",
       "      <td>0.0</td>\n",
       "      <td>0.0</td>\n",
       "      <td>0.0</td>\n",
       "      <td>...</td>\n",
       "      <td>0.0</td>\n",
       "      <td>0.0</td>\n",
       "      <td>0.0</td>\n",
       "      <td>0.0</td>\n",
       "      <td>0.0</td>\n",
       "      <td>0.0</td>\n",
       "      <td>0.0</td>\n",
       "      <td>0.0</td>\n",
       "      <td>0.0</td>\n",
       "      <td>0.0</td>\n",
       "    </tr>\n",
       "    <tr>\n",
       "      <th>4</th>\n",
       "      <td>0.0</td>\n",
       "      <td>0.0</td>\n",
       "      <td>0.0</td>\n",
       "      <td>0.0</td>\n",
       "      <td>0.0</td>\n",
       "      <td>0.0</td>\n",
       "      <td>0.0</td>\n",
       "      <td>0.0</td>\n",
       "      <td>0.0</td>\n",
       "      <td>0.0</td>\n",
       "      <td>...</td>\n",
       "      <td>0.0</td>\n",
       "      <td>0.0</td>\n",
       "      <td>0.0</td>\n",
       "      <td>0.0</td>\n",
       "      <td>0.0</td>\n",
       "      <td>0.0</td>\n",
       "      <td>0.0</td>\n",
       "      <td>0.0</td>\n",
       "      <td>0.0</td>\n",
       "      <td>0.0</td>\n",
       "    </tr>\n",
       "  </tbody>\n",
       "</table>\n",
       "<p>5 rows × 75214 columns</p>\n",
       "</div>"
      ],
      "text/plain": [
       "    00  000  000s  000th  001  006  007  009  0093   01  ...   आव   गल   ஒற  \\\n",
       "0  0.0  0.0   0.0    0.0  0.0  0.0  0.0  0.0   0.0  0.0  ...  0.0  0.0  0.0   \n",
       "1  0.0  0.0   0.0    0.0  0.0  0.0  0.0  0.0   0.0  0.0  ...  0.0  0.0  0.0   \n",
       "2  0.0  0.0   0.0    0.0  0.0  0.0  0.0  0.0   0.0  0.0  ...  0.0  0.0  0.0   \n",
       "3  0.0  0.0   0.0    0.0  0.0  0.0  0.0  0.0   0.0  0.0  ...  0.0  0.0  0.0   \n",
       "4  0.0  0.0   0.0    0.0  0.0  0.0  0.0  0.0   0.0  0.0  ...  0.0  0.0  0.0   \n",
       "\n",
       "    றன   అన  నమయ   ണന   ധയ  ﬁrst  ﬂying  \n",
       "0  0.0  0.0  0.0  0.0  0.0   0.0    0.0  \n",
       "1  0.0  0.0  0.0  0.0  0.0   0.0    0.0  \n",
       "2  0.0  0.0  0.0  0.0  0.0   0.0    0.0  \n",
       "3  0.0  0.0  0.0  0.0  0.0   0.0    0.0  \n",
       "4  0.0  0.0  0.0  0.0  0.0   0.0    0.0  \n",
       "\n",
       "[5 rows x 75214 columns]"
      ]
     },
     "execution_count": 10,
     "metadata": {},
     "output_type": "execute_result"
    }
   ],
   "source": [
    "df.head()"
   ]
  },
  {
   "cell_type": "code",
   "execution_count": 11,
   "metadata": {},
   "outputs": [
    {
     "data": {
      "text/plain": [
       "((55631, 75214), (55631, 12))"
      ]
     },
     "execution_count": 11,
     "metadata": {},
     "output_type": "execute_result"
    }
   ],
   "source": [
    "df.shape,movies_df.shape"
   ]
  },
  {
   "attachments": {},
   "cell_type": "markdown",
   "metadata": {},
   "source": [
    "So there are over 75k words describing 55631 movies"
   ]
  },
  {
   "attachments": {},
   "cell_type": "markdown",
   "metadata": {},
   "source": [
    "### Computing Similarity Score\n",
    "We can compute the similarity score by different methods such as euclidean, Pearson and cosine similarity, k neighbour. We choose the cosine similarity to calculate a numeric quantity that denotes the similarity between two movies because it is independent of magnitude and is relatively easy and fast to calculate. Mathematically, it is defined as follows:\n",
    "\n",
    "$$\n",
    "\\text{cosine}(x,y)=\\frac{x . y^T}{||x|| . ||y||}\n",
    "$$\n",
    "Since we have used the **TfidfVectorizer**, calculating the dot product will directly give us the cosine similarity score. Therefore, we will use sklearn's **linear_kernel** instead of cosine_similarities since it is faster."
   ]
  },
  {
   "cell_type": "code",
   "execution_count": 8,
   "metadata": {},
   "outputs": [
    {
     "data": {
      "text/plain": [
       "(55631, 55631)"
      ]
     },
     "execution_count": 8,
     "metadata": {},
     "output_type": "execute_result"
    }
   ],
   "source": [
    "cosine_sim = linear_kernel(tfidfv_matrix.astype('float32'), tfidfv_matrix.astype('float32'))\n",
    "cosine_sim.shape "
   ]
  },
  {
   "attachments": {},
   "cell_type": "markdown",
   "metadata": {},
   "source": [
    "We now have a pairwise cosine similarity matrix for all the movies in our dataset.\n",
    "\n",
    "**Defining Recommendation Function**\n",
    "The next step is to define a recommendation function that takes in a movie title as an input and outputs a list of the 10 most similar movies. In order to do this;\n",
    "\n",
    "- We need a reverse mapping of movie titles and dataframe indices. In other words, we build a series to identify the index of a movie in our dataframe, given its title.\n",
    "\n",
    "- The function should get the index of the movie given its title.\n",
    "\n",
    "- Get the list of cosine similarity scores for that particular movie with all movies. Convert it into a list of tuples where the first element is its position and the second is the similarity score.\n",
    "\n",
    "- Sort the aforementioned list of tuples based on the similarity scores; that is, the second element.\n",
    "\n",
    "- Get the top 10 elements of this list. Ignore the first element as it refers to self (the movie most similar to a particular movie is the movie itself).\n",
    "\n",
    "- Return the titles corresponding to the indices of the top elements."
   ]
  },
  {
   "cell_type": "code",
   "execution_count": 53,
   "metadata": {},
   "outputs": [],
   "source": [
    "indices=pd.Series(data=list(movies_df.index), index= movies_df['title'] )"
   ]
  },
  {
   "cell_type": "code",
   "execution_count": 54,
   "metadata": {},
   "outputs": [
    {
     "data": {
      "text/plain": [
       "title\n",
       "Toy Story (1995)                      0\n",
       "Jumanji (1995)                        1\n",
       "Grumpier Old Men (1995)               2\n",
       "Waiting to Exhale (1995)              3\n",
       "Father of the Bride Part II (1995)    4\n",
       "dtype: int64"
      ]
     },
     "execution_count": 54,
     "metadata": {},
     "output_type": "execute_result"
    }
   ],
   "source": [
    "indices.head()"
   ]
  },
  {
   "cell_type": "code",
   "execution_count": 51,
   "metadata": {},
   "outputs": [],
   "source": [
    "# Function that takes in movie title as input and outputs most similar movies\n",
    "def content_recommendations(title, cosine_sim):\n",
    "    \n",
    "    # Get the index of the movie that matches the title\n",
    "    idx = indices[title]\n",
    "    \n",
    "    # Get the pairwsie similarity scores of all movies with that movie\n",
    "    sim_scores = list(enumerate(cosine_sim[idx]))\n",
    "    \n",
    "    # Sort the movies based on the similarity scores\n",
    "    sim_scores.sort(key=lambda x: x[1], reverse=True)\n",
    "\n",
    "    # Get the scores of the 10 most similar movies\n",
    "    sim_scores=sim_scores[1:11]\n",
    "    \n",
    "    # Get the movie indices\n",
    "    ind=[]\n",
    "    for (x,y) in sim_scores:\n",
    "        ind.append(x)\n",
    "        \n",
    "    # Return the top 10 most similar movies\n",
    "    tit=[]\n",
    "    for x in ind:\n",
    "        tit.append(movies_df.iloc[x]['title'])\n",
    "    return pd.Series(data=tit, index=ind)\n"
   ]
  },
  {
   "cell_type": "code",
   "execution_count": 15,
   "metadata": {},
   "outputs": [
    {
     "data": {
      "text/plain": [
       "6776                         Father of the Bride (1991)\n",
       "6548                                       Kuffs (1992)\n",
       "6284                             North to Alaska (1960)\n",
       "52720                      Worried About the Boy (2010)\n",
       "53138                              Father's Lion (1952)\n",
       "19666                                    Babbitt (1934)\n",
       "27438    Don't Raise the Bridge, Lower the River (1968)\n",
       "36112                          You're Killing Me (2015)\n",
       "47999                                   George ! (1972)\n",
       "13562    Magic of Méliès, The (magie Méliès, La) (1997)\n",
       "dtype: object"
      ]
     },
     "execution_count": 15,
     "metadata": {},
     "output_type": "execute_result"
    }
   ],
   "source": [
    "content_recommendations('Father of the Bride Part II (1995)',cosine_sim)"
   ]
  },
  {
   "cell_type": "code",
   "execution_count": 21,
   "metadata": {},
   "outputs": [],
   "source": [
    "import re\n",
    "pattern = r'.*Avengers.*' # r'.*Dark Knight.*'\n",
    "matches = movies_df['title'].str.match(pattern, flags=re.IGNORECASE)"
   ]
  },
  {
   "cell_type": "code",
   "execution_count": 22,
   "metadata": {},
   "outputs": [
    {
     "data": {
      "text/html": [
       "<div>\n",
       "<style scoped>\n",
       "    .dataframe tbody tr th:only-of-type {\n",
       "        vertical-align: middle;\n",
       "    }\n",
       "\n",
       "    .dataframe tbody tr th {\n",
       "        vertical-align: top;\n",
       "    }\n",
       "\n",
       "    .dataframe thead th {\n",
       "        text-align: right;\n",
       "    }\n",
       "</style>\n",
       "<table border=\"1\" class=\"dataframe\">\n",
       "  <thead>\n",
       "    <tr style=\"text-align: right;\">\n",
       "      <th></th>\n",
       "      <th>movieId</th>\n",
       "      <th>title</th>\n",
       "      <th>imdbId</th>\n",
       "      <th>tmdbId</th>\n",
       "      <th>genres</th>\n",
       "      <th>overview</th>\n",
       "      <th>popularity</th>\n",
       "      <th>poster_path</th>\n",
       "      <th>vote_average</th>\n",
       "      <th>vote_count</th>\n",
       "      <th>director</th>\n",
       "      <th>keywords</th>\n",
       "    </tr>\n",
       "  </thead>\n",
       "  <tbody>\n",
       "    <tr>\n",
       "      <th>2029</th>\n",
       "      <td>2153</td>\n",
       "      <td>Avengers, The (1998)</td>\n",
       "      <td>118661</td>\n",
       "      <td>9320</td>\n",
       "      <td>['Thriller', 'Science Fiction', 'Action', 'Adv...</td>\n",
       "      <td>British Ministry agent John Steed, under direc...</td>\n",
       "      <td>18.274</td>\n",
       "      <td>/1p5thyQ4pCy876HpdvFARqJ62N9.jpg</td>\n",
       "      <td>4.362</td>\n",
       "      <td>620</td>\n",
       "      <td>Jeremiah S. Chechik</td>\n",
       "      <td>['london, england', 'clone', 'spy', 'martial a...</td>\n",
       "    </tr>\n",
       "    <tr>\n",
       "      <th>10787</th>\n",
       "      <td>44020</td>\n",
       "      <td>Ultimate Avengers (2006)</td>\n",
       "      <td>491703</td>\n",
       "      <td>14609</td>\n",
       "      <td>['Action', 'Animation', 'Family', 'Adventure',...</td>\n",
       "      <td>When a nuclear missile was fired at Washington...</td>\n",
       "      <td>12.303</td>\n",
       "      <td>/fKQqZEDmvKMCXEQztvMJHGou9dO.jpg</td>\n",
       "      <td>6.761</td>\n",
       "      <td>301</td>\n",
       "      <td>Curt Geda</td>\n",
       "      <td>['mask', 'alien life-form', 'superhero', 'base...</td>\n",
       "    </tr>\n",
       "    <tr>\n",
       "      <th>17743</th>\n",
       "      <td>89745</td>\n",
       "      <td>Avengers, The (2012)</td>\n",
       "      <td>848228</td>\n",
       "      <td>24428</td>\n",
       "      <td>['Science Fiction', 'Action', 'Adventure']</td>\n",
       "      <td>When an unexpected enemy emerges and threatens...</td>\n",
       "      <td>108.524</td>\n",
       "      <td>/RYMX2wcKCBAr24UyPD7xwmjaTn.jpg</td>\n",
       "      <td>7.708</td>\n",
       "      <td>28709</td>\n",
       "      <td>Joss Whedon</td>\n",
       "      <td>['new york city', 'shield', 'superhero', 'base...</td>\n",
       "    </tr>\n",
       "    <tr>\n",
       "      <th>22891</th>\n",
       "      <td>110132</td>\n",
       "      <td>Avengers Confidential: Black Widow &amp; Punisher ...</td>\n",
       "      <td>3482378</td>\n",
       "      <td>257346</td>\n",
       "      <td>['Animation', 'Science Fiction', 'Action']</td>\n",
       "      <td>When the Punisher takes out a black-market wea...</td>\n",
       "      <td>28.347</td>\n",
       "      <td>/hRBXP91ATK5j1u0ibvrQLbxQr8c.jpg</td>\n",
       "      <td>6.300</td>\n",
       "      <td>210</td>\n",
       "      <td>Kenichi Shimizu</td>\n",
       "      <td>['superhero', 'based on comic']</td>\n",
       "    </tr>\n",
       "    <tr>\n",
       "      <th>24364</th>\n",
       "      <td>115727</td>\n",
       "      <td>Crippled Avengers (Can que) (Return of the 5 D...</td>\n",
       "      <td>77292</td>\n",
       "      <td>40081</td>\n",
       "      <td>['Action', 'Drama']</td>\n",
       "      <td>A group of martial artists seek revenge after ...</td>\n",
       "      <td>5.113</td>\n",
       "      <td>/eKdvNCKtiuUFvwCXtpwISw8jqZ5.jpg</td>\n",
       "      <td>6.600</td>\n",
       "      <td>58</td>\n",
       "      <td>Chang Cheh</td>\n",
       "      <td>['martial arts']</td>\n",
       "    </tr>\n",
       "    <tr>\n",
       "      <th>26784</th>\n",
       "      <td>122892</td>\n",
       "      <td>Avengers: Age of Ultron (2015)</td>\n",
       "      <td>2395427</td>\n",
       "      <td>99861</td>\n",
       "      <td>['Action', 'Adventure', 'Science Fiction']</td>\n",
       "      <td>When Tony Stark tries to jumpstart a dormant p...</td>\n",
       "      <td>86.448</td>\n",
       "      <td>/4ssDuvEDkSArWEdyBl2X5EHvYKU.jpg</td>\n",
       "      <td>7.300</td>\n",
       "      <td>21383</td>\n",
       "      <td>Joss Whedon</td>\n",
       "      <td>['artificial intelligence', 'sequel', 'superhe...</td>\n",
       "    </tr>\n",
       "    <tr>\n",
       "      <th>26793</th>\n",
       "      <td>122912</td>\n",
       "      <td>Avengers: Infinity War - Part I (2018)</td>\n",
       "      <td>4154756</td>\n",
       "      <td>299536</td>\n",
       "      <td>['Adventure', 'Action', 'Science Fiction']</td>\n",
       "      <td>As the Avengers and their allies have continue...</td>\n",
       "      <td>180.250</td>\n",
       "      <td>/7WsyChQLEftFiDOVTGkv3hFpyyt.jpg</td>\n",
       "      <td>8.259</td>\n",
       "      <td>27044</td>\n",
       "      <td>Anthony Russo</td>\n",
       "      <td>['magic', 'sacrifice', 'superhero', 'based on ...</td>\n",
       "    </tr>\n",
       "    <tr>\n",
       "      <th>31831</th>\n",
       "      <td>135979</td>\n",
       "      <td>Next Avengers: Heroes of Tomorrow (2008)</td>\n",
       "      <td>1259998</td>\n",
       "      <td>14613</td>\n",
       "      <td>['Animation', 'Family', 'Action', 'Adventure',...</td>\n",
       "      <td>The children of the Avengers hone their powers...</td>\n",
       "      <td>16.497</td>\n",
       "      <td>/fpG1NDbcLV2a7c8X7LC4FPISBT7.jpg</td>\n",
       "      <td>6.877</td>\n",
       "      <td>227</td>\n",
       "      <td>Jay Oliva</td>\n",
       "      <td>['cartoon', 'based on comic']</td>\n",
       "    </tr>\n",
       "    <tr>\n",
       "      <th>31925</th>\n",
       "      <td>136257</td>\n",
       "      <td>Avengers Grimm (2015)</td>\n",
       "      <td>4296026</td>\n",
       "      <td>323660</td>\n",
       "      <td>['Action', 'Fantasy']</td>\n",
       "      <td>When Rumpelstiltskin destroys the Magic Mirror...</td>\n",
       "      <td>13.261</td>\n",
       "      <td>/1SbBKCbnULACOqWKN7eLfTu1gVm.jpg</td>\n",
       "      <td>4.000</td>\n",
       "      <td>108</td>\n",
       "      <td>Jeremy M. Inman</td>\n",
       "      <td>['fairy tale', 'brothers grimm', 'rumpelstilts...</td>\n",
       "    </tr>\n",
       "    <tr>\n",
       "      <th>35776</th>\n",
       "      <td>145676</td>\n",
       "      <td>3 Avengers (1964)</td>\n",
       "      <td>58651</td>\n",
       "      <td>296491</td>\n",
       "      <td>['Action', 'Adventure', 'Comedy']</td>\n",
       "      <td>Ursus and his sword-wielding companions run he...</td>\n",
       "      <td>2.023</td>\n",
       "      <td>/p3SS46UrWx3SngctI3Gbks895MD.jpg</td>\n",
       "      <td>5.000</td>\n",
       "      <td>1</td>\n",
       "      <td>Gianfranco Parolini</td>\n",
       "      <td>['peplum']</td>\n",
       "    </tr>\n",
       "    <tr>\n",
       "      <th>36405</th>\n",
       "      <td>147238</td>\n",
       "      <td>The New Adventures of the Elusive Avengers (1968)</td>\n",
       "      <td>63369</td>\n",
       "      <td>65591</td>\n",
       "      <td>['Action', 'Adventure', 'Family']</td>\n",
       "      <td>The action takes place in 1920 during the Civi...</td>\n",
       "      <td>2.090</td>\n",
       "      <td>/pulCmFhk5GkeoV9a6nVg46lo1a3.jpg</td>\n",
       "      <td>7.300</td>\n",
       "      <td>28</td>\n",
       "      <td>Edmond Keosayan</td>\n",
       "      <td>[]</td>\n",
       "    </tr>\n",
       "    <tr>\n",
       "      <th>36552</th>\n",
       "      <td>147657</td>\n",
       "      <td>Masked Avengers (1981)</td>\n",
       "      <td>82153</td>\n",
       "      <td>63441</td>\n",
       "      <td>['Action', 'Drama']</td>\n",
       "      <td>Philip Kwok plays a repentant killer who vows ...</td>\n",
       "      <td>3.694</td>\n",
       "      <td>/vr54E7RjvMLE4rFgb1NPgZdnpj6.jpg</td>\n",
       "      <td>6.200</td>\n",
       "      <td>16</td>\n",
       "      <td>Chang Cheh</td>\n",
       "      <td>['martial arts', 'kung fu', 'revenge', 'murder...</td>\n",
       "    </tr>\n",
       "    <tr>\n",
       "      <th>41363</th>\n",
       "      <td>159920</td>\n",
       "      <td>Shaolin Avengers (1994)</td>\n",
       "      <td>185673</td>\n",
       "      <td>40830</td>\n",
       "      <td>['Action']</td>\n",
       "      <td>This classical tale of Shaolin Temple disciple...</td>\n",
       "      <td>2.850</td>\n",
       "      <td>/mLOHrPKvja7wnr42flCrruCsDKj.jpg</td>\n",
       "      <td>4.000</td>\n",
       "      <td>1</td>\n",
       "      <td>Charles Lee Chiu</td>\n",
       "      <td>['kung fu', 'shaolin']</td>\n",
       "    </tr>\n",
       "    <tr>\n",
       "      <th>41364</th>\n",
       "      <td>159922</td>\n",
       "      <td>The Shaolin Avengers (1976)</td>\n",
       "      <td>74513</td>\n",
       "      <td>109088</td>\n",
       "      <td>['Action']</td>\n",
       "      <td>Heroism and romance combine in an action-packe...</td>\n",
       "      <td>2.778</td>\n",
       "      <td>/yXl2BPZHsmhuUgl8hUic430UsNd.jpg</td>\n",
       "      <td>6.000</td>\n",
       "      <td>12</td>\n",
       "      <td>Chang Cheh</td>\n",
       "      <td>['martial arts', 'folk hero', 'revenge', 'shao...</td>\n",
       "    </tr>\n",
       "    <tr>\n",
       "      <th>45541</th>\n",
       "      <td>169616</td>\n",
       "      <td>Scavengers (2013)</td>\n",
       "      <td>1564369</td>\n",
       "      <td>179105</td>\n",
       "      <td>['Science Fiction', 'Action']</td>\n",
       "      <td>A team of space scavengers discovers superior ...</td>\n",
       "      <td>3.256</td>\n",
       "      <td>/rBYyEIj2Vuauov4uzmRP1lso99v.jpg</td>\n",
       "      <td>3.000</td>\n",
       "      <td>17</td>\n",
       "      <td>Travis Zariwny</td>\n",
       "      <td>[]</td>\n",
       "    </tr>\n",
       "    <tr>\n",
       "      <th>45808</th>\n",
       "      <td>170297</td>\n",
       "      <td>Ultimate Avengers 2 (2006)</td>\n",
       "      <td>803093</td>\n",
       "      <td>14611</td>\n",
       "      <td>['Adventure', 'Animation', 'Action', 'Science ...</td>\n",
       "      <td>Mysterious Wakanda lies in the darkest heart o...</td>\n",
       "      <td>13.392</td>\n",
       "      <td>/h1PKqtjuTifmTU0EqM4W0Br2pHX.jpg</td>\n",
       "      <td>6.712</td>\n",
       "      <td>250</td>\n",
       "      <td>Dick Sebast</td>\n",
       "      <td>['africa', 'mask', 'alien life-form', 'based o...</td>\n",
       "    </tr>\n",
       "    <tr>\n",
       "      <th>52639</th>\n",
       "      <td>186233</td>\n",
       "      <td>The Scavengers (1970)</td>\n",
       "      <td>64882</td>\n",
       "      <td>231014</td>\n",
       "      <td>['History', 'Drama', 'TV Movie']</td>\n",
       "      <td>Via the Chicago Reader: \"After World War II an...</td>\n",
       "      <td>0.600</td>\n",
       "      <td>/je9Djl2fHc1VaIYnTONYbrR3YnE.jpg</td>\n",
       "      <td>7.500</td>\n",
       "      <td>7</td>\n",
       "      <td>Ermanno Olmi</td>\n",
       "      <td>[]</td>\n",
       "    </tr>\n",
       "    <tr>\n",
       "      <th>53085</th>\n",
       "      <td>187221</td>\n",
       "      <td>LEGO Marvel Super Heroes: Avengers Reassembled...</td>\n",
       "      <td>5371572</td>\n",
       "      <td>368304</td>\n",
       "      <td>['Family', 'Animation']</td>\n",
       "      <td>The Avengers are forced to “party” with Ultron...</td>\n",
       "      <td>11.661</td>\n",
       "      <td>/xUBZNoY7idPfqKZepnDEv7Qc8GC.jpg</td>\n",
       "      <td>6.591</td>\n",
       "      <td>115</td>\n",
       "      <td>Rob Silvestri</td>\n",
       "      <td>['superhero', 'based on comic', 'based on toy'...</td>\n",
       "    </tr>\n",
       "    <tr>\n",
       "      <th>53953</th>\n",
       "      <td>189217</td>\n",
       "      <td>Avengers Grimm: Time Wars (2018)</td>\n",
       "      <td>8159584</td>\n",
       "      <td>521720</td>\n",
       "      <td>['Action', 'Adventure', 'Fantasy']</td>\n",
       "      <td>When Rumpelstiltskin tries to take over Earth ...</td>\n",
       "      <td>13.880</td>\n",
       "      <td>/xfAcu74DRQXeM9XqFcE5MrSRzYP.jpg</td>\n",
       "      <td>4.800</td>\n",
       "      <td>51</td>\n",
       "      <td>Maximilian Elfeldt</td>\n",
       "      <td>['sequel']</td>\n",
       "    </tr>\n",
       "  </tbody>\n",
       "</table>\n",
       "</div>"
      ],
      "text/plain": [
       "       movieId                                              title   imdbId  \\\n",
       "2029      2153                               Avengers, The (1998)   118661   \n",
       "10787    44020                           Ultimate Avengers (2006)   491703   \n",
       "17743    89745                               Avengers, The (2012)   848228   \n",
       "22891   110132  Avengers Confidential: Black Widow & Punisher ...  3482378   \n",
       "24364   115727  Crippled Avengers (Can que) (Return of the 5 D...    77292   \n",
       "26784   122892                     Avengers: Age of Ultron (2015)  2395427   \n",
       "26793   122912             Avengers: Infinity War - Part I (2018)  4154756   \n",
       "31831   135979           Next Avengers: Heroes of Tomorrow (2008)  1259998   \n",
       "31925   136257                              Avengers Grimm (2015)  4296026   \n",
       "35776   145676                                  3 Avengers (1964)    58651   \n",
       "36405   147238  The New Adventures of the Elusive Avengers (1968)    63369   \n",
       "36552   147657                             Masked Avengers (1981)    82153   \n",
       "41363   159920                            Shaolin Avengers (1994)   185673   \n",
       "41364   159922                        The Shaolin Avengers (1976)    74513   \n",
       "45541   169616                                  Scavengers (2013)  1564369   \n",
       "45808   170297                         Ultimate Avengers 2 (2006)   803093   \n",
       "52639   186233                              The Scavengers (1970)    64882   \n",
       "53085   187221  LEGO Marvel Super Heroes: Avengers Reassembled...  5371572   \n",
       "53953   189217                   Avengers Grimm: Time Wars (2018)  8159584   \n",
       "\n",
       "       tmdbId                                             genres  \\\n",
       "2029     9320  ['Thriller', 'Science Fiction', 'Action', 'Adv...   \n",
       "10787   14609  ['Action', 'Animation', 'Family', 'Adventure',...   \n",
       "17743   24428         ['Science Fiction', 'Action', 'Adventure']   \n",
       "22891  257346         ['Animation', 'Science Fiction', 'Action']   \n",
       "24364   40081                                ['Action', 'Drama']   \n",
       "26784   99861         ['Action', 'Adventure', 'Science Fiction']   \n",
       "26793  299536         ['Adventure', 'Action', 'Science Fiction']   \n",
       "31831   14613  ['Animation', 'Family', 'Action', 'Adventure',...   \n",
       "31925  323660                              ['Action', 'Fantasy']   \n",
       "35776  296491                  ['Action', 'Adventure', 'Comedy']   \n",
       "36405   65591                  ['Action', 'Adventure', 'Family']   \n",
       "36552   63441                                ['Action', 'Drama']   \n",
       "41363   40830                                         ['Action']   \n",
       "41364  109088                                         ['Action']   \n",
       "45541  179105                      ['Science Fiction', 'Action']   \n",
       "45808   14611  ['Adventure', 'Animation', 'Action', 'Science ...   \n",
       "52639  231014                   ['History', 'Drama', 'TV Movie']   \n",
       "53085  368304                            ['Family', 'Animation']   \n",
       "53953  521720                 ['Action', 'Adventure', 'Fantasy']   \n",
       "\n",
       "                                                overview  popularity  \\\n",
       "2029   British Ministry agent John Steed, under direc...      18.274   \n",
       "10787  When a nuclear missile was fired at Washington...      12.303   \n",
       "17743  When an unexpected enemy emerges and threatens...     108.524   \n",
       "22891  When the Punisher takes out a black-market wea...      28.347   \n",
       "24364  A group of martial artists seek revenge after ...       5.113   \n",
       "26784  When Tony Stark tries to jumpstart a dormant p...      86.448   \n",
       "26793  As the Avengers and their allies have continue...     180.250   \n",
       "31831  The children of the Avengers hone their powers...      16.497   \n",
       "31925  When Rumpelstiltskin destroys the Magic Mirror...      13.261   \n",
       "35776  Ursus and his sword-wielding companions run he...       2.023   \n",
       "36405  The action takes place in 1920 during the Civi...       2.090   \n",
       "36552  Philip Kwok plays a repentant killer who vows ...       3.694   \n",
       "41363  This classical tale of Shaolin Temple disciple...       2.850   \n",
       "41364  Heroism and romance combine in an action-packe...       2.778   \n",
       "45541  A team of space scavengers discovers superior ...       3.256   \n",
       "45808  Mysterious Wakanda lies in the darkest heart o...      13.392   \n",
       "52639  Via the Chicago Reader: \"After World War II an...       0.600   \n",
       "53085  The Avengers are forced to “party” with Ultron...      11.661   \n",
       "53953  When Rumpelstiltskin tries to take over Earth ...      13.880   \n",
       "\n",
       "                            poster_path  vote_average  vote_count  \\\n",
       "2029   /1p5thyQ4pCy876HpdvFARqJ62N9.jpg         4.362         620   \n",
       "10787  /fKQqZEDmvKMCXEQztvMJHGou9dO.jpg         6.761         301   \n",
       "17743   /RYMX2wcKCBAr24UyPD7xwmjaTn.jpg         7.708       28709   \n",
       "22891  /hRBXP91ATK5j1u0ibvrQLbxQr8c.jpg         6.300         210   \n",
       "24364  /eKdvNCKtiuUFvwCXtpwISw8jqZ5.jpg         6.600          58   \n",
       "26784  /4ssDuvEDkSArWEdyBl2X5EHvYKU.jpg         7.300       21383   \n",
       "26793  /7WsyChQLEftFiDOVTGkv3hFpyyt.jpg         8.259       27044   \n",
       "31831  /fpG1NDbcLV2a7c8X7LC4FPISBT7.jpg         6.877         227   \n",
       "31925  /1SbBKCbnULACOqWKN7eLfTu1gVm.jpg         4.000         108   \n",
       "35776  /p3SS46UrWx3SngctI3Gbks895MD.jpg         5.000           1   \n",
       "36405  /pulCmFhk5GkeoV9a6nVg46lo1a3.jpg         7.300          28   \n",
       "36552  /vr54E7RjvMLE4rFgb1NPgZdnpj6.jpg         6.200          16   \n",
       "41363  /mLOHrPKvja7wnr42flCrruCsDKj.jpg         4.000           1   \n",
       "41364  /yXl2BPZHsmhuUgl8hUic430UsNd.jpg         6.000          12   \n",
       "45541  /rBYyEIj2Vuauov4uzmRP1lso99v.jpg         3.000          17   \n",
       "45808  /h1PKqtjuTifmTU0EqM4W0Br2pHX.jpg         6.712         250   \n",
       "52639  /je9Djl2fHc1VaIYnTONYbrR3YnE.jpg         7.500           7   \n",
       "53085  /xUBZNoY7idPfqKZepnDEv7Qc8GC.jpg         6.591         115   \n",
       "53953  /xfAcu74DRQXeM9XqFcE5MrSRzYP.jpg         4.800          51   \n",
       "\n",
       "                  director                                           keywords  \n",
       "2029   Jeremiah S. Chechik  ['london, england', 'clone', 'spy', 'martial a...  \n",
       "10787            Curt Geda  ['mask', 'alien life-form', 'superhero', 'base...  \n",
       "17743          Joss Whedon  ['new york city', 'shield', 'superhero', 'base...  \n",
       "22891      Kenichi Shimizu                    ['superhero', 'based on comic']  \n",
       "24364           Chang Cheh                                   ['martial arts']  \n",
       "26784          Joss Whedon  ['artificial intelligence', 'sequel', 'superhe...  \n",
       "26793        Anthony Russo  ['magic', 'sacrifice', 'superhero', 'based on ...  \n",
       "31831            Jay Oliva                      ['cartoon', 'based on comic']  \n",
       "31925      Jeremy M. Inman  ['fairy tale', 'brothers grimm', 'rumpelstilts...  \n",
       "35776  Gianfranco Parolini                                         ['peplum']  \n",
       "36405      Edmond Keosayan                                                 []  \n",
       "36552           Chang Cheh  ['martial arts', 'kung fu', 'revenge', 'murder...  \n",
       "41363     Charles Lee Chiu                             ['kung fu', 'shaolin']  \n",
       "41364           Chang Cheh  ['martial arts', 'folk hero', 'revenge', 'shao...  \n",
       "45541       Travis Zariwny                                                 []  \n",
       "45808          Dick Sebast  ['africa', 'mask', 'alien life-form', 'based o...  \n",
       "52639         Ermanno Olmi                                                 []  \n",
       "53085        Rob Silvestri  ['superhero', 'based on comic', 'based on toy'...  \n",
       "53953   Maximilian Elfeldt                                         ['sequel']  "
      ]
     },
     "execution_count": 22,
     "metadata": {},
     "output_type": "execute_result"
    }
   ],
   "source": [
    "movies_df[matches]"
   ]
  },
  {
   "cell_type": "code",
   "execution_count": 18,
   "metadata": {},
   "outputs": [
    {
     "data": {
      "text/plain": [
       "34038                                     Turbo Kid (2015)\n",
       "9902                                        Macbeth (1948)\n",
       "6921                              Hero (Ying xiong) (2002)\n",
       "49398                          Empire of the Sharks (2017)\n",
       "21929    Ninja, A Band of Assassins (Shinobi No Mono) (...\n",
       "17045             Storm Warriors, The (Fung wan II) (2009)\n",
       "36577                              West Of Shanghai (1937)\n",
       "10715                Bitter Tea of General Yen, The (1933)\n",
       "9213         Dark Prince: The True Story of Dracula (2000)\n",
       "45244                  The Taking of Tiger Mountain (2014)\n",
       "dtype: object"
      ]
     },
     "execution_count": 18,
     "metadata": {},
     "output_type": "execute_result"
    }
   ],
   "source": [
    "content_recommendations('The Dark Knight (2011)',cosine_sim) \t"
   ]
  },
  {
   "cell_type": "code",
   "execution_count": 20,
   "metadata": {},
   "outputs": [
    {
     "data": {
      "text/html": [
       "<div>\n",
       "<style scoped>\n",
       "    .dataframe tbody tr th:only-of-type {\n",
       "        vertical-align: middle;\n",
       "    }\n",
       "\n",
       "    .dataframe tbody tr th {\n",
       "        vertical-align: top;\n",
       "    }\n",
       "\n",
       "    .dataframe thead th {\n",
       "        text-align: right;\n",
       "    }\n",
       "</style>\n",
       "<table border=\"1\" class=\"dataframe\">\n",
       "  <thead>\n",
       "    <tr style=\"text-align: right;\">\n",
       "      <th></th>\n",
       "      <th>movieId</th>\n",
       "      <th>title</th>\n",
       "      <th>imdbId</th>\n",
       "      <th>tmdbId</th>\n",
       "      <th>genres</th>\n",
       "      <th>overview</th>\n",
       "      <th>popularity</th>\n",
       "      <th>poster_path</th>\n",
       "      <th>vote_average</th>\n",
       "      <th>vote_count</th>\n",
       "      <th>director</th>\n",
       "      <th>keywords</th>\n",
       "    </tr>\n",
       "  </thead>\n",
       "  <tbody>\n",
       "    <tr>\n",
       "      <th>6921</th>\n",
       "      <td>7090</td>\n",
       "      <td>Hero (Ying xiong) (2002)</td>\n",
       "      <td>299977</td>\n",
       "      <td>79</td>\n",
       "      <td>['Drama', 'Adventure', 'Action', 'History']</td>\n",
       "      <td>One man defeated three assassins who sought to...</td>\n",
       "      <td>20.646</td>\n",
       "      <td>/dsSTITP8sq2pO7ZWo72NNYejYLW.jpg</td>\n",
       "      <td>7.506</td>\n",
       "      <td>1976</td>\n",
       "      <td>Zhang Yimou</td>\n",
       "      <td>['countryside', 'loss of loved one', 'martial ...</td>\n",
       "    </tr>\n",
       "  </tbody>\n",
       "</table>\n",
       "</div>"
      ],
      "text/plain": [
       "      movieId                     title  imdbId  tmdbId  \\\n",
       "6921     7090  Hero (Ying xiong) (2002)  299977      79   \n",
       "\n",
       "                                           genres  \\\n",
       "6921  ['Drama', 'Adventure', 'Action', 'History']   \n",
       "\n",
       "                                               overview  popularity  \\\n",
       "6921  One man defeated three assassins who sought to...      20.646   \n",
       "\n",
       "                           poster_path  vote_average  vote_count     director  \\\n",
       "6921  /dsSTITP8sq2pO7ZWo72NNYejYLW.jpg         7.506        1976  Zhang Yimou   \n",
       "\n",
       "                                               keywords  \n",
       "6921  ['countryside', 'loss of loved one', 'martial ...  "
      ]
     },
     "execution_count": 20,
     "metadata": {},
     "output_type": "execute_result"
    }
   ],
   "source": [
    "movies_df[movies_df['title'] == 'Hero (Ying xiong) (2002)']"
   ]
  },
  {
   "cell_type": "code",
   "execution_count": 23,
   "metadata": {},
   "outputs": [
    {
     "data": {
      "text/plain": [
       "24859    Delta Force One: The Lost Patrol (2002)\n",
       "28797       Requiem per un agente segreto (1966)\n",
       "11159                       Crime Busters (1977)\n",
       "26784             Avengers: Age of Ultron (2015)\n",
       "33642              Drums Across the River (1954)\n",
       "13467                  Echelon Conspiracy (2009)\n",
       "45761                              Brink! (1998)\n",
       "34122                                   Nice Guy\n",
       "25497        Kingsman: The Secret Service (2015)\n",
       "7284                           Enemy Mine (1985)\n",
       "dtype: object"
      ]
     },
     "execution_count": 23,
     "metadata": {},
     "output_type": "execute_result"
    }
   ],
   "source": [
    "content_recommendations('Avengers, The (2012)',cosine_sim)  "
   ]
  },
  {
   "attachments": {},
   "cell_type": "markdown",
   "metadata": {},
   "source": [
    "While our system has done a decent job of finding movies with similar overviews and descriptions, the quality of recommendations is not that great. \"The Dark Knight Rises\" returns all Batman movies while it is more likely that the people who liked that movie are more inclined to enjoy other Christopher Nolan movies. This is something that cannot be captured by the present system."
   ]
  },
  {
   "attachments": {},
   "cell_type": "markdown",
   "metadata": {},
   "source": [
    "### Movie Cast, Crew, Keywords, Genres Based Recommender\n",
    "\n",
    "In order to improve the quality of the content-based recommender, we use better metadata. So we build a recommender based on the following metadata:\n",
    "\n",
    "- the director\n",
    "- the 3 top related genres\n",
    "- the 3 top movie plot keywords\n",
    "From the crew, cast, genres and keywords features, we need to extract the the director, genres and keywords associated with that movie.\n",
    "\n",
    "**Preprocessing the Contents**\n",
    "\n",
    "Applying literal_eval Function on Stringified Lists\n",
    "\n",
    "Right now, our data in 'director', 'cast', 'genres' and 'keywords' columns is present in the form of \"stringified\" lists. So we need to convert it into a safe and usable structure. literal_eval is a function which evaluates a string as though it were an expression and returns a result."
   ]
  },
  {
   "cell_type": "code",
   "execution_count": 25,
   "metadata": {},
   "outputs": [
    {
     "data": {
      "text/plain": [
       "str"
      ]
     },
     "execution_count": 25,
     "metadata": {},
     "output_type": "execute_result"
    }
   ],
   "source": [
    "type(movies_df['director'].iloc[0])"
   ]
  },
  {
   "cell_type": "code",
   "execution_count": 26,
   "metadata": {},
   "outputs": [],
   "source": [
    "features = ['genres','keywords']\n",
    "for feature in features:\n",
    "    movies_df[feature] = movies_df[feature].apply(literal_eval)"
   ]
  },
  {
   "cell_type": "code",
   "execution_count": 27,
   "metadata": {},
   "outputs": [
    {
     "data": {
      "text/plain": [
       "list"
      ]
     },
     "execution_count": 27,
     "metadata": {},
     "output_type": "execute_result"
    }
   ],
   "source": [
    "type(movies_df['genres'].iloc[0])"
   ]
  },
  {
   "cell_type": "code",
   "execution_count": 28,
   "metadata": {},
   "outputs": [],
   "source": [
    "# Get the list top 3 elements or entire list; whichever is more in cast, genres and keywords columns.\n",
    "\n",
    "def get_top_elements(lst):\n",
    "    # top_n = max(3, len(lst))\n",
    "    return lst[:3]"
   ]
  },
  {
   "cell_type": "code",
   "execution_count": 29,
   "metadata": {},
   "outputs": [],
   "source": [
    "movies_df['genres']= movies_df['genres'].apply(lambda x:get_top_elements(x))"
   ]
  },
  {
   "cell_type": "code",
   "execution_count": 30,
   "metadata": {},
   "outputs": [],
   "source": [
    "movies_df['keywords']= movies_df['keywords'].apply(lambda x:get_top_elements(x))"
   ]
  },
  {
   "cell_type": "code",
   "execution_count": 31,
   "metadata": {},
   "outputs": [
    {
     "data": {
      "text/html": [
       "<div>\n",
       "<style scoped>\n",
       "    .dataframe tbody tr th:only-of-type {\n",
       "        vertical-align: middle;\n",
       "    }\n",
       "\n",
       "    .dataframe tbody tr th {\n",
       "        vertical-align: top;\n",
       "    }\n",
       "\n",
       "    .dataframe thead th {\n",
       "        text-align: right;\n",
       "    }\n",
       "</style>\n",
       "<table border=\"1\" class=\"dataframe\">\n",
       "  <thead>\n",
       "    <tr style=\"text-align: right;\">\n",
       "      <th></th>\n",
       "      <th>title</th>\n",
       "      <th>director</th>\n",
       "      <th>keywords</th>\n",
       "      <th>genres</th>\n",
       "    </tr>\n",
       "  </thead>\n",
       "  <tbody>\n",
       "    <tr>\n",
       "      <th>0</th>\n",
       "      <td>Toy Story (1995)</td>\n",
       "      <td>John Lasseter</td>\n",
       "      <td>[martial arts, jealousy, friendship]</td>\n",
       "      <td>[Animation, Adventure, Family]</td>\n",
       "    </tr>\n",
       "    <tr>\n",
       "      <th>1</th>\n",
       "      <td>Jumanji (1995)</td>\n",
       "      <td>Joe Johnston</td>\n",
       "      <td>[giant insect, board game, jungle]</td>\n",
       "      <td>[Adventure, Fantasy, Family]</td>\n",
       "    </tr>\n",
       "    <tr>\n",
       "      <th>2</th>\n",
       "      <td>Grumpier Old Men (1995)</td>\n",
       "      <td>Howard Deutch</td>\n",
       "      <td>[fishing, halloween, sequel]</td>\n",
       "      <td>[Romance, Comedy]</td>\n",
       "    </tr>\n",
       "  </tbody>\n",
       "</table>\n",
       "</div>"
      ],
      "text/plain": [
       "                     title       director  \\\n",
       "0         Toy Story (1995)  John Lasseter   \n",
       "1           Jumanji (1995)   Joe Johnston   \n",
       "2  Grumpier Old Men (1995)  Howard Deutch   \n",
       "\n",
       "                               keywords                          genres  \n",
       "0  [martial arts, jealousy, friendship]  [Animation, Adventure, Family]  \n",
       "1    [giant insect, board game, jungle]    [Adventure, Fantasy, Family]  \n",
       "2          [fishing, halloween, sequel]               [Romance, Comedy]  "
      ]
     },
     "execution_count": 31,
     "metadata": {},
     "output_type": "execute_result"
    }
   ],
   "source": [
    "movies_df[['title', 'director', 'keywords', 'genres']].head(3)"
   ]
  },
  {
   "attachments": {},
   "cell_type": "markdown",
   "metadata": {},
   "source": [
    "The next step would be to convert the names and keyword instances into lowercase and strip all the spaces between them. This is done so that our vectorizer doesn't count the Johnny of \"Johnny Depp\" and \"Johnny Galecki\" as the same."
   ]
  },
  {
   "cell_type": "code",
   "execution_count": 32,
   "metadata": {},
   "outputs": [],
   "source": [
    "def clean_director(x):\n",
    "    return x.lower().replace(' ','_')\n",
    "\n",
    "def clean_top3(x):\n",
    "    new=[]\n",
    "    for a in x:\n",
    "        new.append(a.lower().replace(' ','_'))\n",
    "    return new"
   ]
  },
  {
   "cell_type": "code",
   "execution_count": 33,
   "metadata": {},
   "outputs": [],
   "source": [
    "movies_df['director']=movies_df['director'].apply(lambda x: clean_director(x))"
   ]
  },
  {
   "cell_type": "code",
   "execution_count": 34,
   "metadata": {},
   "outputs": [],
   "source": [
    "movies_df['genres']=movies_df['genres'].apply(lambda x:clean_top3(x))\n",
    "\n",
    "movies_df['keywords']=movies_df['keywords'].apply(lambda x:clean_top3(x))\n"
   ]
  },
  {
   "cell_type": "code",
   "execution_count": 35,
   "metadata": {},
   "outputs": [
    {
     "data": {
      "text/html": [
       "<div>\n",
       "<style scoped>\n",
       "    .dataframe tbody tr th:only-of-type {\n",
       "        vertical-align: middle;\n",
       "    }\n",
       "\n",
       "    .dataframe tbody tr th {\n",
       "        vertical-align: top;\n",
       "    }\n",
       "\n",
       "    .dataframe thead th {\n",
       "        text-align: right;\n",
       "    }\n",
       "</style>\n",
       "<table border=\"1\" class=\"dataframe\">\n",
       "  <thead>\n",
       "    <tr style=\"text-align: right;\">\n",
       "      <th></th>\n",
       "      <th>title</th>\n",
       "      <th>director</th>\n",
       "      <th>keywords</th>\n",
       "      <th>genres</th>\n",
       "    </tr>\n",
       "  </thead>\n",
       "  <tbody>\n",
       "    <tr>\n",
       "      <th>0</th>\n",
       "      <td>Toy Story (1995)</td>\n",
       "      <td>john_lasseter</td>\n",
       "      <td>[martial_arts, jealousy, friendship]</td>\n",
       "      <td>[animation, adventure, family]</td>\n",
       "    </tr>\n",
       "    <tr>\n",
       "      <th>1</th>\n",
       "      <td>Jumanji (1995)</td>\n",
       "      <td>joe_johnston</td>\n",
       "      <td>[giant_insect, board_game, jungle]</td>\n",
       "      <td>[adventure, fantasy, family]</td>\n",
       "    </tr>\n",
       "    <tr>\n",
       "      <th>2</th>\n",
       "      <td>Grumpier Old Men (1995)</td>\n",
       "      <td>howard_deutch</td>\n",
       "      <td>[fishing, halloween, sequel]</td>\n",
       "      <td>[romance, comedy]</td>\n",
       "    </tr>\n",
       "  </tbody>\n",
       "</table>\n",
       "</div>"
      ],
      "text/plain": [
       "                     title       director  \\\n",
       "0         Toy Story (1995)  john_lasseter   \n",
       "1           Jumanji (1995)   joe_johnston   \n",
       "2  Grumpier Old Men (1995)  howard_deutch   \n",
       "\n",
       "                               keywords                          genres  \n",
       "0  [martial_arts, jealousy, friendship]  [animation, adventure, family]  \n",
       "1    [giant_insect, board_game, jungle]    [adventure, fantasy, family]  \n",
       "2          [fishing, halloween, sequel]               [romance, comedy]  "
      ]
     },
     "execution_count": 35,
     "metadata": {},
     "output_type": "execute_result"
    }
   ],
   "source": [
    "movies_df[['title', 'director', 'keywords', 'genres']].head(3)"
   ]
  },
  {
   "attachments": {},
   "cell_type": "markdown",
   "metadata": {},
   "source": [
    "Now we create the 'soup' column, that contains all the metadata that we want to feed to our vectorizer (namely actors, director, genres and keywords)."
   ]
  },
  {
   "cell_type": "code",
   "execution_count": 41,
   "metadata": {},
   "outputs": [],
   "source": [
    "def create_soup(x):\n",
    "    return ' '.join(x['keywords'])  + ' ' + x['director'] + ' ' + ' '.join(x['genres'])"
   ]
  },
  {
   "cell_type": "code",
   "execution_count": 42,
   "metadata": {},
   "outputs": [],
   "source": [
    "movies_df['soup'] = movies_df.apply(create_soup, axis=1)"
   ]
  },
  {
   "cell_type": "code",
   "execution_count": 43,
   "metadata": {},
   "outputs": [
    {
     "data": {
      "text/plain": [
       "list"
      ]
     },
     "execution_count": 43,
     "metadata": {},
     "output_type": "execute_result"
    }
   ],
   "source": [
    "type(movies_df['genres'].loc[0])"
   ]
  },
  {
   "cell_type": "code",
   "execution_count": 44,
   "metadata": {},
   "outputs": [
    {
     "data": {
      "text/plain": [
       "'martial_arts jealousy friendship john_lasseter animation adventure family'"
      ]
     },
     "execution_count": 44,
     "metadata": {},
     "output_type": "execute_result"
    }
   ],
   "source": [
    "movies_df['soup'].loc[0]"
   ]
  },
  {
   "attachments": {},
   "cell_type": "markdown",
   "metadata": {},
   "source": [
    "Constructing TF-IDF Matrix\n",
    "The next steps are the same as what we did with our Movie Overview Based Recommender. One important difference is that we use the CountVectorizer() instead of TF-IDF. This is because we do not want to down-weight the presence of an actor/director if he or she has acted or directed in relatively more movies."
   ]
  },
  {
   "cell_type": "code",
   "execution_count": 47,
   "metadata": {},
   "outputs": [],
   "source": [
    "cv = CountVectorizer(stop_words='english')\n",
    "cv_matrix = cv.fit_transform(movies_df['soup']).astype('float32')"
   ]
  },
  {
   "cell_type": "code",
   "execution_count": 50,
   "metadata": {},
   "outputs": [],
   "source": [
    "cosine_sim1 = cosine_similarity(cv_matrix, cv_matrix)"
   ]
  },
  {
   "cell_type": "code",
   "execution_count": 57,
   "metadata": {},
   "outputs": [
    {
     "data": {
      "text/plain": [
       "12656                          Incredible Hulk, The (2008)\n",
       "20811                               Captain America (1979)\n",
       "26784                       Avengers: Age of Ultron (2015)\n",
       "43655                                     Max Steel (2016)\n",
       "23555                                        Ra.One (2011)\n",
       "1971                                 Rocketeer, The (1991)\n",
       "3297                   Teenage Mutant Ninja Turtles (1990)\n",
       "3298     Teenage Mutant Ninja Turtles II: The Secret of...\n",
       "3649                                          X-Men (2000)\n",
       "5016                              Time Machine, The (2002)\n",
       "dtype: object"
      ]
     },
     "execution_count": 57,
     "metadata": {},
     "output_type": "execute_result"
    }
   ],
   "source": [
    "content_recommendations('Avengers, The (2012)',cosine_sim1)  "
   ]
  },
  {
   "attachments": {},
   "cell_type": "markdown",
   "metadata": {},
   "source": [
    "We see that our recommender has been successful in capturing more information due to more metadata and has given us better recommendations. It is more likely that Marvels or DC comics fans will like the movies of the same production house. Therefore, to our features above we can add production_company . We can also increase the weight of the director , by adding the feature multiple times in the soup."
   ]
  },
  {
   "attachments": {},
   "cell_type": "markdown",
   "metadata": {},
   "source": [
    "In the previous notebook, you were introduced to a way to make recommendations using collaborative filtering. However, using this technique there are a large number of users who were left without any recommendations at all. Other users were left with fewer than the ten recommendations that were set up by our function to retrieve...\n",
    "\n",
    "In order to help these users out, let's try another technique **content based** recommendations. Let's start off where we were in the previous notebook."
   ]
  },
  {
   "attachments": {},
   "cell_type": "markdown",
   "metadata": {},
   "source": []
  }
 ],
 "metadata": {
  "kernelspec": {
   "display_name": "movies",
   "language": "python",
   "name": "python3"
  },
  "language_info": {
   "codemirror_mode": {
    "name": "ipython",
    "version": 3
   },
   "file_extension": ".py",
   "mimetype": "text/x-python",
   "name": "python",
   "nbconvert_exporter": "python",
   "pygments_lexer": "ipython3",
   "version": "3.10.0"
  },
  "orig_nbformat": 4
 },
 "nbformat": 4,
 "nbformat_minor": 2
}
