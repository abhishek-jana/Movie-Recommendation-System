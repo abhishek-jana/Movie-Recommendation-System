{
 "cells": [
  {
   "cell_type": "code",
   "execution_count": 2,
   "metadata": {},
   "outputs": [
    {
     "data": {
      "text/plain": [
       "'c:\\\\Users\\\\abhis\\\\Desktop\\\\MLProjects\\\\Movie Recommender'"
      ]
     },
     "execution_count": 2,
     "metadata": {},
     "output_type": "execute_result"
    }
   ],
   "source": [
    "import os\n",
    "os.chdir(\"../\")\n",
    "%pwd"
   ]
  },
  {
   "cell_type": "code",
   "execution_count": null,
   "metadata": {},
   "outputs": [],
   "source": []
  },
  {
   "cell_type": "code",
   "execution_count": 3,
   "metadata": {},
   "outputs": [],
   "source": [
    "import pandas as pd\n",
    "\n",
    "movie_df = pd.read_csv('artifacts/data_ingestion/ml-latest/movies.csv')\n",
    "links_df = pd.read_csv('artifacts/data_ingestion/ml-latest/links.csv')\n",
    "ratings_df = pd.read_csv('artifacts/data_ingestion/ml-latest/ratings.csv')\n",
    "# tags_df = pd.read_csv('artifacts/data_ingestion/ml-latest/tags.csv')\n",
    "# genome_scores_df = pd.read_csv('artifacts/data_ingestion/ml-latest/genome-scores.csv')\n",
    "# genome_tags_df = pd.read_csv('artifacts/data_ingestion/ml-latest/genome-tags.csv')\n"
   ]
  },
  {
   "cell_type": "code",
   "execution_count": 4,
   "metadata": {},
   "outputs": [
    {
     "name": "stdout",
     "output_type": "stream",
     "text": [
      "ratings_df \n",
      "    userId  movieId  rating   timestamp\n",
      "0       1      307     3.5  1256677221\n",
      "1       1      481     3.5  1256677456\n",
      "2       1     1091     1.5  1256677471\n",
      "3       1     1257     4.5  1256677460\n",
      "4       1     1449     4.5  1256677264\n",
      "links_df \n",
      "    movieId  imdbId   tmdbId\n",
      "0        1  114709    862.0\n",
      "1        2  113497   8844.0\n",
      "2        3  113228  15602.0\n",
      "3        4  114885  31357.0\n",
      "4        5  113041  11862.0\n",
      "movie_df \n",
      "    movieId                               title  \\\n",
      "0        1                    Toy Story (1995)   \n",
      "1        2                      Jumanji (1995)   \n",
      "2        3             Grumpier Old Men (1995)   \n",
      "3        4            Waiting to Exhale (1995)   \n",
      "4        5  Father of the Bride Part II (1995)   \n",
      "\n",
      "                                        genres  \n",
      "0  Adventure|Animation|Children|Comedy|Fantasy  \n",
      "1                   Adventure|Children|Fantasy  \n",
      "2                               Comedy|Romance  \n",
      "3                         Comedy|Drama|Romance  \n",
      "4                                       Comedy  \n"
     ]
    }
   ],
   "source": [
    "# print('genome_tags_df \\n',genome_tags_df.head(5))\n",
    "# print('genome_scores_df \\n',genome_scores_df.head(5))\n",
    "# print('tags_df \\n',tags_df.head())\n",
    "print('ratings_df \\n',ratings_df.head())\n",
    "print('links_df \\n',links_df.head())\n",
    "print('movie_df \\n',movie_df.head())"
   ]
  },
  {
   "cell_type": "code",
   "execution_count": 5,
   "metadata": {},
   "outputs": [
    {
     "name": "stdout",
     "output_type": "stream",
     "text": [
      "ratings_df \n",
      " (27753444, 4)\n",
      "links_df \n",
      " (58098, 3)\n",
      "movie_df \n",
      " (58098, 3)\n"
     ]
    }
   ],
   "source": [
    "# print('genome_tags_df \\n',genome_tags_df.shape)\n",
    "# print('genome_scores_df \\n',genome_scores_df.shape)\n",
    "# print('tags_df \\n',tags_df.shape)\n",
    "print('ratings_df \\n',ratings_df.shape)\n",
    "print('links_df \\n',links_df.shape)\n",
    "print('movie_df \\n',movie_df.shape)"
   ]
  },
  {
   "attachments": {},
   "cell_type": "markdown",
   "metadata": {},
   "source": [
    "We don't want genome-scores and genome-tags and tags for this calculation. We will skip these three files."
   ]
  },
  {
   "attachments": {},
   "cell_type": "markdown",
   "metadata": {},
   "source": [
    "Let's combine the other 3 files."
   ]
  },
  {
   "cell_type": "code",
   "execution_count": 6,
   "metadata": {},
   "outputs": [],
   "source": [
    "# first links_df and movie_df\n",
    "\n",
    "links_movie_df = movie_df.merge(links_df, on='movieId')"
   ]
  },
  {
   "cell_type": "code",
   "execution_count": 7,
   "metadata": {},
   "outputs": [
    {
     "data": {
      "text/html": [
       "<div>\n",
       "<style scoped>\n",
       "    .dataframe tbody tr th:only-of-type {\n",
       "        vertical-align: middle;\n",
       "    }\n",
       "\n",
       "    .dataframe tbody tr th {\n",
       "        vertical-align: top;\n",
       "    }\n",
       "\n",
       "    .dataframe thead th {\n",
       "        text-align: right;\n",
       "    }\n",
       "</style>\n",
       "<table border=\"1\" class=\"dataframe\">\n",
       "  <thead>\n",
       "    <tr style=\"text-align: right;\">\n",
       "      <th></th>\n",
       "      <th>movieId</th>\n",
       "      <th>title</th>\n",
       "      <th>genres</th>\n",
       "      <th>imdbId</th>\n",
       "      <th>tmdbId</th>\n",
       "    </tr>\n",
       "  </thead>\n",
       "  <tbody>\n",
       "    <tr>\n",
       "      <th>0</th>\n",
       "      <td>1</td>\n",
       "      <td>Toy Story (1995)</td>\n",
       "      <td>Adventure|Animation|Children|Comedy|Fantasy</td>\n",
       "      <td>114709</td>\n",
       "      <td>862.0</td>\n",
       "    </tr>\n",
       "    <tr>\n",
       "      <th>1</th>\n",
       "      <td>2</td>\n",
       "      <td>Jumanji (1995)</td>\n",
       "      <td>Adventure|Children|Fantasy</td>\n",
       "      <td>113497</td>\n",
       "      <td>8844.0</td>\n",
       "    </tr>\n",
       "    <tr>\n",
       "      <th>2</th>\n",
       "      <td>3</td>\n",
       "      <td>Grumpier Old Men (1995)</td>\n",
       "      <td>Comedy|Romance</td>\n",
       "      <td>113228</td>\n",
       "      <td>15602.0</td>\n",
       "    </tr>\n",
       "    <tr>\n",
       "      <th>3</th>\n",
       "      <td>4</td>\n",
       "      <td>Waiting to Exhale (1995)</td>\n",
       "      <td>Comedy|Drama|Romance</td>\n",
       "      <td>114885</td>\n",
       "      <td>31357.0</td>\n",
       "    </tr>\n",
       "    <tr>\n",
       "      <th>4</th>\n",
       "      <td>5</td>\n",
       "      <td>Father of the Bride Part II (1995)</td>\n",
       "      <td>Comedy</td>\n",
       "      <td>113041</td>\n",
       "      <td>11862.0</td>\n",
       "    </tr>\n",
       "    <tr>\n",
       "      <th>5</th>\n",
       "      <td>6</td>\n",
       "      <td>Heat (1995)</td>\n",
       "      <td>Action|Crime|Thriller</td>\n",
       "      <td>113277</td>\n",
       "      <td>949.0</td>\n",
       "    </tr>\n",
       "    <tr>\n",
       "      <th>6</th>\n",
       "      <td>7</td>\n",
       "      <td>Sabrina (1995)</td>\n",
       "      <td>Comedy|Romance</td>\n",
       "      <td>114319</td>\n",
       "      <td>11860.0</td>\n",
       "    </tr>\n",
       "    <tr>\n",
       "      <th>7</th>\n",
       "      <td>8</td>\n",
       "      <td>Tom and Huck (1995)</td>\n",
       "      <td>Adventure|Children</td>\n",
       "      <td>112302</td>\n",
       "      <td>45325.0</td>\n",
       "    </tr>\n",
       "    <tr>\n",
       "      <th>8</th>\n",
       "      <td>9</td>\n",
       "      <td>Sudden Death (1995)</td>\n",
       "      <td>Action</td>\n",
       "      <td>114576</td>\n",
       "      <td>9091.0</td>\n",
       "    </tr>\n",
       "    <tr>\n",
       "      <th>9</th>\n",
       "      <td>10</td>\n",
       "      <td>GoldenEye (1995)</td>\n",
       "      <td>Action|Adventure|Thriller</td>\n",
       "      <td>113189</td>\n",
       "      <td>710.0</td>\n",
       "    </tr>\n",
       "  </tbody>\n",
       "</table>\n",
       "</div>"
      ],
      "text/plain": [
       "   movieId                               title  \\\n",
       "0        1                    Toy Story (1995)   \n",
       "1        2                      Jumanji (1995)   \n",
       "2        3             Grumpier Old Men (1995)   \n",
       "3        4            Waiting to Exhale (1995)   \n",
       "4        5  Father of the Bride Part II (1995)   \n",
       "5        6                         Heat (1995)   \n",
       "6        7                      Sabrina (1995)   \n",
       "7        8                 Tom and Huck (1995)   \n",
       "8        9                 Sudden Death (1995)   \n",
       "9       10                    GoldenEye (1995)   \n",
       "\n",
       "                                        genres  imdbId   tmdbId  \n",
       "0  Adventure|Animation|Children|Comedy|Fantasy  114709    862.0  \n",
       "1                   Adventure|Children|Fantasy  113497   8844.0  \n",
       "2                               Comedy|Romance  113228  15602.0  \n",
       "3                         Comedy|Drama|Romance  114885  31357.0  \n",
       "4                                       Comedy  113041  11862.0  \n",
       "5                        Action|Crime|Thriller  113277    949.0  \n",
       "6                               Comedy|Romance  114319  11860.0  \n",
       "7                           Adventure|Children  112302  45325.0  \n",
       "8                                       Action  114576   9091.0  \n",
       "9                    Action|Adventure|Thriller  113189    710.0  "
      ]
     },
     "execution_count": 7,
     "metadata": {},
     "output_type": "execute_result"
    }
   ],
   "source": [
    "links_movie_df.head(10)"
   ]
  },
  {
   "cell_type": "code",
   "execution_count": 8,
   "metadata": {},
   "outputs": [],
   "source": [
    "## Drop nan values\n",
    "\n",
    "links_movie_df.dropna(inplace=True)"
   ]
  },
  {
   "cell_type": "code",
   "execution_count": 9,
   "metadata": {},
   "outputs": [],
   "source": [
    "links_movie_df['tmdbId'] = links_movie_df['tmdbId'].astype(int)"
   ]
  },
  {
   "cell_type": "code",
   "execution_count": 10,
   "metadata": {},
   "outputs": [
    {
     "name": "stdout",
     "output_type": "stream",
     "text": [
      "<class 'pandas.core.frame.DataFrame'>\n",
      "Index: 57917 entries, 0 to 58097\n",
      "Data columns (total 5 columns):\n",
      " #   Column   Non-Null Count  Dtype \n",
      "---  ------   --------------  ----- \n",
      " 0   movieId  57917 non-null  int64 \n",
      " 1   title    57917 non-null  object\n",
      " 2   genres   57917 non-null  object\n",
      " 3   imdbId   57917 non-null  int64 \n",
      " 4   tmdbId   57917 non-null  int32 \n",
      "dtypes: int32(1), int64(2), object(2)\n",
      "memory usage: 2.4+ MB\n"
     ]
    }
   ],
   "source": [
    "links_movie_df.info()"
   ]
  },
  {
   "cell_type": "code",
   "execution_count": 11,
   "metadata": {},
   "outputs": [
    {
     "data": {
      "text/html": [
       "<div>\n",
       "<style scoped>\n",
       "    .dataframe tbody tr th:only-of-type {\n",
       "        vertical-align: middle;\n",
       "    }\n",
       "\n",
       "    .dataframe tbody tr th {\n",
       "        vertical-align: top;\n",
       "    }\n",
       "\n",
       "    .dataframe thead th {\n",
       "        text-align: right;\n",
       "    }\n",
       "</style>\n",
       "<table border=\"1\" class=\"dataframe\">\n",
       "  <thead>\n",
       "    <tr style=\"text-align: right;\">\n",
       "      <th></th>\n",
       "      <th>userId</th>\n",
       "      <th>movieId</th>\n",
       "      <th>rating</th>\n",
       "    </tr>\n",
       "  </thead>\n",
       "  <tbody>\n",
       "    <tr>\n",
       "      <th>0</th>\n",
       "      <td>1</td>\n",
       "      <td>307</td>\n",
       "      <td>3.5</td>\n",
       "    </tr>\n",
       "    <tr>\n",
       "      <th>1</th>\n",
       "      <td>1</td>\n",
       "      <td>481</td>\n",
       "      <td>3.5</td>\n",
       "    </tr>\n",
       "    <tr>\n",
       "      <th>2</th>\n",
       "      <td>1</td>\n",
       "      <td>1091</td>\n",
       "      <td>1.5</td>\n",
       "    </tr>\n",
       "    <tr>\n",
       "      <th>3</th>\n",
       "      <td>1</td>\n",
       "      <td>1257</td>\n",
       "      <td>4.5</td>\n",
       "    </tr>\n",
       "    <tr>\n",
       "      <th>4</th>\n",
       "      <td>1</td>\n",
       "      <td>1449</td>\n",
       "      <td>4.5</td>\n",
       "    </tr>\n",
       "  </tbody>\n",
       "</table>\n",
       "</div>"
      ],
      "text/plain": [
       "   userId  movieId  rating\n",
       "0       1      307     3.5\n",
       "1       1      481     3.5\n",
       "2       1     1091     1.5\n",
       "3       1     1257     4.5\n",
       "4       1     1449     4.5"
      ]
     },
     "execution_count": 11,
     "metadata": {},
     "output_type": "execute_result"
    }
   ],
   "source": [
    "# remove timestamp from ratings and tag\n",
    "\n",
    "ratings_df.drop(columns='timestamp', inplace=True)\n",
    "ratings_df.head()"
   ]
  },
  {
   "cell_type": "code",
   "execution_count": 12,
   "metadata": {},
   "outputs": [
    {
     "data": {
      "text/plain": [
       "283228"
      ]
     },
     "execution_count": 12,
     "metadata": {},
     "output_type": "execute_result"
    }
   ],
   "source": [
    "ratings_df['userId'].nunique()"
   ]
  },
  {
   "cell_type": "code",
   "execution_count": 13,
   "metadata": {},
   "outputs": [
    {
     "data": {
      "text/plain": [
       "53889"
      ]
     },
     "execution_count": 13,
     "metadata": {},
     "output_type": "execute_result"
    }
   ],
   "source": [
    "ratings_df['movieId'].nunique()"
   ]
  },
  {
   "cell_type": "code",
   "execution_count": 14,
   "metadata": {},
   "outputs": [
    {
     "data": {
      "text/plain": [
       "userId\n",
       "123100    23715\n",
       "117490     9279\n",
       "134596     8381\n",
       "212343     7884\n",
       "242683     7515\n",
       "          ...  \n",
       "188125        1\n",
       "117282        1\n",
       "127062        1\n",
       "241836        1\n",
       "265726        1\n",
       "Name: count, Length: 283228, dtype: int64"
      ]
     },
     "execution_count": 14,
     "metadata": {},
     "output_type": "execute_result"
    }
   ],
   "source": [
    "ratings_df['userId'].value_counts()"
   ]
  },
  {
   "cell_type": "code",
   "execution_count": 15,
   "metadata": {},
   "outputs": [
    {
     "data": {
      "text/plain": [
       "movieId\n",
       "318       97999\n",
       "356       97040\n",
       "296       92406\n",
       "593       87899\n",
       "2571      84545\n",
       "          ...  \n",
       "165077        1\n",
       "172453        1\n",
       "192975        1\n",
       "167092        1\n",
       "142855        1\n",
       "Name: count, Length: 53889, dtype: int64"
      ]
     },
     "execution_count": 15,
     "metadata": {},
     "output_type": "execute_result"
    }
   ],
   "source": [
    "ratings_df['movieId'].value_counts()"
   ]
  },
  {
   "attachments": {},
   "cell_type": "markdown",
   "metadata": {},
   "source": [
    "So there are 283228 unique users who rated the movies"
   ]
  },
  {
   "cell_type": "code",
   "execution_count": 16,
   "metadata": {},
   "outputs": [],
   "source": [
    "# merge rating and movie_links\n",
    "\n",
    "# movie_links_rating = pd.merge(left=links_movie_df, right=ratings_df, on='movieId')"
   ]
  },
  {
   "cell_type": "code",
   "execution_count": 17,
   "metadata": {},
   "outputs": [],
   "source": [
    "# movie_links_rating.shape"
   ]
  },
  {
   "cell_type": "code",
   "execution_count": 18,
   "metadata": {},
   "outputs": [],
   "source": [
    "# movie_links_rating.head()"
   ]
  },
  {
   "cell_type": "code",
   "execution_count": 24,
   "metadata": {},
   "outputs": [],
   "source": [
    "#rearrange\n",
    "\n",
    "# movie_links_rating = movie_links_rating[[\"userId\",\"movieId\", \"title\", \"rating\", \"genres\", \"imdbId\", \"tmdbId\"]]"
   ]
  },
  {
   "cell_type": "code",
   "execution_count": 25,
   "metadata": {},
   "outputs": [],
   "source": [
    "# movie_links_rating.info()"
   ]
  },
  {
   "cell_type": "code",
   "execution_count": 26,
   "metadata": {},
   "outputs": [],
   "source": [
    "# movie_links_rating.isnull().sum()"
   ]
  },
  {
   "cell_type": "code",
   "execution_count": 29,
   "metadata": {},
   "outputs": [],
   "source": [
    "# API_KEY = os.environ.get('TMDB_API_KEY')\n",
    "\n",
    "\n",
    "# def get_movie_details(movie_id):\n",
    "#     movie_url = f'https://api.themoviedb.org/3/movie/{movie_id}?api_key={API_KEY}'\n",
    "\n",
    "#     http = urllib3.PoolManager()\n",
    "#     response = http.request('GET', movie_url)\n",
    "\n",
    "#     if response.status == 200:\n",
    "#         movie_data = json.loads(response.data.decode('utf-8'))\n",
    "\n",
    "#         # Extracting the desired fields\n",
    "#         genres = [genre['name'] for genre in movie_data['genres']]\n",
    "#         overview = movie_data['overview']\n",
    "#         popularity = movie_data['popularity']\n",
    "#         poster_path = movie_data['poster_path']\n",
    "#         vote_average = movie_data['vote_average']\n",
    "#         vote_count = movie_data['vote_count']\n",
    "#     else:\n",
    "#         print('Error occurred while requesting data:', response.status)\n",
    "\n",
    "#     # Extracting the director's name (assuming it is the first crew member with job \"Director\")\n",
    "#     credits_url = f'https://api.themoviedb.org/3/movie/{movie_id}/credits?api_key={API_KEY}'\n",
    "#     credits_response = http.request('GET', credits_url)\n",
    "\n",
    "#     if credits_response.status == 200:\n",
    "#         credits_data = json.loads(credits_response.data.decode('utf-8'))\n",
    "#         crew = credits_data['crew']\n",
    "#         director = next((member['name'] for member in crew if member['job'] == 'Director'), None)\n",
    "#     else:\n",
    "#         director = None\n",
    "\n",
    "#     # Requesting the keywords endpoint\n",
    "#     keywords_url = f'https://api.themoviedb.org/3/movie/{movie_id}/keywords?api_key={API_KEY}'\n",
    "#     keywords_response = http.request('GET', keywords_url)\n",
    "\n",
    "#     if keywords_response.status == 200:\n",
    "#         keywords_data = json.loads(keywords_response.data.decode('utf-8'))\n",
    "#         keywords = [keyword['name'] for keyword in keywords_data['keywords']]\n",
    "#     else:\n",
    "#         keywords = []\n",
    "\n",
    "#     data = {\n",
    "#         \"genres\": genres,\n",
    "#         \"overview\": overview,\n",
    "#         \"popularity\": popularity,\n",
    "#         \"poster_path\": poster_path,\n",
    "#         \"vote_average\": vote_average,\n",
    "#         \"vote_count\": vote_count,\n",
    "#         \"director\": director,\n",
    "#         \"keywords\": keywords\n",
    "#     }\n",
    "\n",
    "#     return data"
   ]
  },
  {
   "cell_type": "code",
   "execution_count": 15,
   "metadata": {},
   "outputs": [
    {
     "data": {
      "text/plain": [
       "movieId      0\n",
       "imdbId       0\n",
       "tmdbId     181\n",
       "dtype: int64"
      ]
     },
     "execution_count": 15,
     "metadata": {},
     "output_type": "execute_result"
    }
   ],
   "source": [
    "links_df.isnull().sum()"
   ]
  },
  {
   "cell_type": "code",
   "execution_count": 19,
   "metadata": {},
   "outputs": [
    {
     "name": "stdout",
     "output_type": "stream",
     "text": [
      "TMDB ID: 862\n"
     ]
    }
   ],
   "source": [
    "# let's fill the tmdbid first \n",
    "\n",
    "import json\n",
    "import urllib.request\n",
    "\n",
    "API_KEY = os.environ.get('TMDB_API_KEY')\n",
    "\n",
    "def get_tmdb_id(imdb_id):\n",
    "    full_imdb_id = f'tt0{int(imdb_id)}'\n",
    "    find_url = f'https://api.themoviedb.org/3/find/{full_imdb_id}?api_key={API_KEY}&external_source=imdb_id'\n",
    "    \n",
    "    try:\n",
    "        with urllib.request.urlopen(find_url) as response:\n",
    "            data = json.load(response)\n",
    "            movie_results = data.get('movie_results', [])\n",
    "            if movie_results:\n",
    "                tmdb_id = movie_results[0]['id']\n",
    "                return tmdb_id\n",
    "            else:\n",
    "                print('No movie found for the given IMDb ID.',imdb_id)\n",
    "    except urllib.error.HTTPError as e:\n",
    "        print('Error occurred while requesting data:', e.code)\n",
    "\n",
    "# Example usage\n",
    "imdb_id = '114709'\n",
    "tmdb_id = get_tmdb_id(imdb_id)\n",
    "print('TMDB ID:', tmdb_id)"
   ]
  },
  {
   "cell_type": "code",
   "execution_count": 26,
   "metadata": {},
   "outputs": [],
   "source": [
    "# import numpy as np\n",
    "\n",
    "# # Assuming you have a pandas DataFrame named 'links_df' with 'imdbId' and 'tmdbId' columns\n",
    "\n",
    "# # Function to replace missing TMDB IDs using get_tmdb_id function\n",
    "# def replace_missing_tmdb_ids(row):\n",
    "#     if pd.isnull(row['tmdbId']):\n",
    "#         imdb_id = row['imdbId']\n",
    "#         tmdb_id = get_tmdb_id(imdb_id)\n",
    "#         return int(tmdb_id) if not pd.isnull(tmdb_id) else np.nan\n",
    "#     else:\n",
    "#         return int(row['tmdbId']) if not pd.isnull(row['tmdbId']) else np.nan\n",
    "\n",
    "# # Apply the function to replace missing TMDB IDs\n",
    "# links_df['tmdbId'] = links_df.apply(replace_missing_tmdb_ids, axis=1)\n",
    "\n",
    "# # Print the updated DataFrame\n",
    "# print(links_df.isnull().sum())"
   ]
  },
  {
   "cell_type": "code",
   "execution_count": 16,
   "metadata": {},
   "outputs": [
    {
     "data": {
      "text/plain": [
       "(57917, 5)"
      ]
     },
     "execution_count": 16,
     "metadata": {},
     "output_type": "execute_result"
    }
   ],
   "source": [
    "links_movie_df.shape"
   ]
  },
  {
   "attachments": {},
   "cell_type": "markdown",
   "metadata": {},
   "source": [
    "Data scraping from Tmdb to get some info like \"genres\": genres,\n",
    "        \"overview\": overview,\n",
    "        \"popularity\": popularity,\n",
    "        \"poster_path\": poster_path,\n",
    "        \"vote_average\": vote_average,\n",
    "        \"vote_count\": vote_count,\n",
    "        \"director\": director,\n",
    "        \"keywords\": keywords"
   ]
  },
  {
   "cell_type": "code",
   "execution_count": 20,
   "metadata": {},
   "outputs": [],
   "source": [
    "import os\n",
    "import json\n",
    "import urllib.request\n",
    "import numpy as np\n",
    "from tqdm import tqdm\n",
    "\n",
    "API_KEY = os.environ.get('TMDB_API_KEY')\n",
    "CACHE_DIR = 'artifacts/cached_data'\n",
    "\n",
    "def fetch_movie_details_from_api(tmdb_id):\n",
    "    movie_url = f'https://api.themoviedb.org/3/movie/{tmdb_id}?api_key={API_KEY}'\n",
    "    credits_url = f'https://api.themoviedb.org/3/movie/{tmdb_id}/credits?api_key={API_KEY}'\n",
    "    keywords_url = f'https://api.themoviedb.org/3/movie/{tmdb_id}/keywords?api_key={API_KEY}'\n",
    "\n",
    "    movie_data = {}\n",
    "\n",
    "    try:\n",
    "        with urllib.request.urlopen(movie_url) as response:\n",
    "            movie_data = json.loads(response.read().decode('utf-8'))\n",
    "\n",
    "        with urllib.request.urlopen(credits_url) as response:\n",
    "            credits_data = json.loads(response.read().decode('utf-8'))\n",
    "            crew = credits_data.get('crew', [])\n",
    "            director = next((member['name'] for member in crew if member.get('job') == 'Director'), np.nan)\n",
    "            movie_data['director'] = director\n",
    "\n",
    "        with urllib.request.urlopen(keywords_url) as response:\n",
    "            keywords_data = json.loads(response.read().decode('utf-8'))\n",
    "            keywords = [keyword['name'] for keyword in keywords_data.get('keywords', [])]\n",
    "            movie_data['keywords'] = keywords\n",
    "\n",
    "    except urllib.error.HTTPError as e:\n",
    "        print(f'Error occurred while requesting movie data {tmdb_id}:', e.code)\n",
    "\n",
    "    return movie_data\n",
    "\n",
    "def fetch_batch_movie_details(tmdb_ids):\n",
    "    movie_data_list = []\n",
    "    for tmdb_id in tmdb_ids:\n",
    "        cache_file = os.path.join(CACHE_DIR, f'{tmdb_id}.json')\n",
    "\n",
    "        try:\n",
    "            with open(cache_file, 'r') as file:\n",
    "                movie_data = json.load(file)\n",
    "        except FileNotFoundError:\n",
    "            # If the cache file does not exist, fetch the movie details from the API\n",
    "            movie_data = fetch_movie_details_from_api(tmdb_id)\n",
    "            # Cache the movie details\n",
    "            with open(cache_file, 'w') as file:\n",
    "                json.dump(movie_data, file)\n",
    "        \n",
    "\n",
    "        movie_data_list.append(movie_data)\n",
    "    \n",
    "\n",
    "    return movie_data_list\n",
    "\n",
    "def get_movie_details(tmdb_id):\n",
    "    cache_file = os.path.join(CACHE_DIR, f'{tmdb_id}.json')\n",
    "\n",
    "    try:\n",
    "        with open(cache_file, 'r') as file:\n",
    "            movie_data = json.load(file)\n",
    "    except FileNotFoundError:\n",
    "        # If the cache file does not exist, fetch the movie details from the API\n",
    "        movie_data = fetch_movie_details_from_api(tmdb_id)\n",
    "        # Cache the movie details\n",
    "        with open(cache_file, 'w') as file:\n",
    "            json.dump(movie_data, file)\n",
    "\n",
    "    # Extract the desired fields from the movie data\n",
    "    genres = [genre['name'] for genre in movie_data.get('genres', [])]\n",
    "    overview = movie_data.get('overview', '')\n",
    "    popularity = movie_data.get('popularity', 0)\n",
    "    poster_path = movie_data.get('poster_path', '')\n",
    "    vote_average = movie_data.get('vote_average', 0)\n",
    "    vote_count = movie_data.get('vote_count', 0)\n",
    "    director = movie_data.get('director', np.nan)\n",
    "    keywords = movie_data.get('keywords', np.nan)\n",
    "\n",
    "    data = {\n",
    "        \"genres\": genres,\n",
    "        \"overview\": overview,\n",
    "        \"popularity\": popularity,\n",
    "        \"poster_path\": poster_path,\n",
    "        \"vote_average\": vote_average,\n",
    "        \"vote_count\": vote_count,\n",
    "        \"director\": director,\n",
    "        \"keywords\": keywords\n",
    "    }\n",
    "\n",
    "    return data\n",
    "\n",
    "def get_batch_movie_details(tmdb_ids):\n",
    "    os.makedirs(CACHE_DIR, exist_ok=True)  # Create the cache directory if it doesn't exist\n",
    "\n",
    "    movie_data_list = fetch_batch_movie_details(tmdb_ids)\n",
    "\n",
    "    result = []\n",
    "    for movie_data in movie_data_list:\n",
    "        try:\n",
    "            tmdb_id = movie_data['id']\n",
    "        except KeyError:\n",
    "            tmdb_id = None\n",
    "        data = get_movie_details(tmdb_id)\n",
    "        result.append(data)\n",
    "    return result\n"
   ]
  },
  {
   "cell_type": "code",
   "execution_count": 24,
   "metadata": {},
   "outputs": [],
   "source": [
    "tmdb_ids = links_movie_df.tmdbId.values"
   ]
  },
  {
   "cell_type": "code",
   "execution_count": 26,
   "metadata": {},
   "outputs": [],
   "source": [
    "\n",
    "movie_data = get_batch_movie_details(tmdb_ids)\n",
    "\n",
    "# get_batch_movie_details(tmdb_ids = tmdb_ids)"
   ]
  },
  {
   "cell_type": "code",
   "execution_count": 27,
   "metadata": {},
   "outputs": [
    {
     "data": {
      "text/plain": [
       "57917"
      ]
     },
     "execution_count": 27,
     "metadata": {},
     "output_type": "execute_result"
    }
   ],
   "source": [
    "len(movie_data)"
   ]
  },
  {
   "cell_type": "code",
   "execution_count": 21,
   "metadata": {},
   "outputs": [
    {
     "data": {
      "text/plain": [
       "[{'genres': ['Animation', 'Adventure', 'Family', 'Comedy'],\n",
       "  'overview': \"Led by Woody, Andy's toys live happily in his room until Andy's birthday brings Buzz Lightyear onto the scene. Afraid of losing his place in Andy's heart, Woody plots against Buzz. But when circumstances separate Buzz and Woody from their owner, the duo eventually learns to put aside their differences.\",\n",
       "  'popularity': 101.402,\n",
       "  'poster_path': '/uXDfjJbdP4ijW5hWSBrPrlKpxab.jpg',\n",
       "  'vote_average': 8.0,\n",
       "  'vote_count': 16771,\n",
       "  'director': 'John Lasseter',\n",
       "  'keywords': ['martial arts',\n",
       "   'jealousy',\n",
       "   'friendship',\n",
       "   'bullying',\n",
       "   'elementary school',\n",
       "   'friends',\n",
       "   'rivalry',\n",
       "   'rescue',\n",
       "   'computer animation',\n",
       "   'mission',\n",
       "   'anthropomorphism',\n",
       "   'buddy',\n",
       "   'walkie talkie',\n",
       "   'toy car',\n",
       "   'boy next door',\n",
       "   'new toy',\n",
       "   'neighborhood',\n",
       "   'toy comes to life',\n",
       "   'resourcefulness']},\n",
       " {'genres': ['Adventure', 'Fantasy', 'Family'],\n",
       "  'overview': \"When siblings Judy and Peter discover an enchanted board game that opens the door to a magical world, they unwittingly invite Alan -- an adult who's been trapped inside the game for 26 years -- into their living room. Alan's only hope for freedom is to finish the game, which proves risky as all three find themselves running from giant rhinoceroses, evil monkeys and other terrifying creatures.\",\n",
       "  'popularity': 16.794,\n",
       "  'poster_path': '/v2XHtmVqpERPy0HA1y9wltoeEgW.jpg',\n",
       "  'vote_average': 7.238,\n",
       "  'vote_count': 9636,\n",
       "  'director': 'Joe Johnston',\n",
       "  'keywords': ['giant insect',\n",
       "   'board game',\n",
       "   'jungle',\n",
       "   'disappearance',\n",
       "   'recluse',\n",
       "   'stampede',\n",
       "   'based on young adult novel']}]"
      ]
     },
     "execution_count": 21,
     "metadata": {},
     "output_type": "execute_result"
    }
   ],
   "source": [
    "movie_data[:2]"
   ]
  },
  {
   "cell_type": "code",
   "execution_count": 34,
   "metadata": {},
   "outputs": [
    {
     "data": {
      "text/plain": [
       "array([   862,   8844,  15602, ..., 422666, 454439, 540871])"
      ]
     },
     "execution_count": 34,
     "metadata": {},
     "output_type": "execute_result"
    }
   ],
   "source": [
    "tmdb_ids"
   ]
  },
  {
   "cell_type": "code",
   "execution_count": 28,
   "metadata": {},
   "outputs": [
    {
     "data": {
      "text/html": [
       "<div>\n",
       "<style scoped>\n",
       "    .dataframe tbody tr th:only-of-type {\n",
       "        vertical-align: middle;\n",
       "    }\n",
       "\n",
       "    .dataframe tbody tr th {\n",
       "        vertical-align: top;\n",
       "    }\n",
       "\n",
       "    .dataframe thead th {\n",
       "        text-align: right;\n",
       "    }\n",
       "</style>\n",
       "<table border=\"1\" class=\"dataframe\">\n",
       "  <thead>\n",
       "    <tr style=\"text-align: right;\">\n",
       "      <th></th>\n",
       "      <th>movieId</th>\n",
       "      <th>title</th>\n",
       "      <th>genres</th>\n",
       "      <th>imdbId</th>\n",
       "      <th>tmdbId</th>\n",
       "    </tr>\n",
       "  </thead>\n",
       "  <tbody>\n",
       "    <tr>\n",
       "      <th>0</th>\n",
       "      <td>1</td>\n",
       "      <td>Toy Story (1995)</td>\n",
       "      <td>Adventure|Animation|Children|Comedy|Fantasy</td>\n",
       "      <td>114709</td>\n",
       "      <td>862</td>\n",
       "    </tr>\n",
       "    <tr>\n",
       "      <th>1</th>\n",
       "      <td>2</td>\n",
       "      <td>Jumanji (1995)</td>\n",
       "      <td>Adventure|Children|Fantasy</td>\n",
       "      <td>113497</td>\n",
       "      <td>8844</td>\n",
       "    </tr>\n",
       "    <tr>\n",
       "      <th>2</th>\n",
       "      <td>3</td>\n",
       "      <td>Grumpier Old Men (1995)</td>\n",
       "      <td>Comedy|Romance</td>\n",
       "      <td>113228</td>\n",
       "      <td>15602</td>\n",
       "    </tr>\n",
       "    <tr>\n",
       "      <th>3</th>\n",
       "      <td>4</td>\n",
       "      <td>Waiting to Exhale (1995)</td>\n",
       "      <td>Comedy|Drama|Romance</td>\n",
       "      <td>114885</td>\n",
       "      <td>31357</td>\n",
       "    </tr>\n",
       "    <tr>\n",
       "      <th>4</th>\n",
       "      <td>5</td>\n",
       "      <td>Father of the Bride Part II (1995)</td>\n",
       "      <td>Comedy</td>\n",
       "      <td>113041</td>\n",
       "      <td>11862</td>\n",
       "    </tr>\n",
       "  </tbody>\n",
       "</table>\n",
       "</div>"
      ],
      "text/plain": [
       "   movieId                               title  \\\n",
       "0        1                    Toy Story (1995)   \n",
       "1        2                      Jumanji (1995)   \n",
       "2        3             Grumpier Old Men (1995)   \n",
       "3        4            Waiting to Exhale (1995)   \n",
       "4        5  Father of the Bride Part II (1995)   \n",
       "\n",
       "                                        genres  imdbId  tmdbId  \n",
       "0  Adventure|Animation|Children|Comedy|Fantasy  114709     862  \n",
       "1                   Adventure|Children|Fantasy  113497    8844  \n",
       "2                               Comedy|Romance  113228   15602  \n",
       "3                         Comedy|Drama|Romance  114885   31357  \n",
       "4                                       Comedy  113041   11862  "
      ]
     },
     "execution_count": 28,
     "metadata": {},
     "output_type": "execute_result"
    }
   ],
   "source": [
    "links_movie_df.head()"
   ]
  },
  {
   "cell_type": "code",
   "execution_count": 29,
   "metadata": {},
   "outputs": [
    {
     "data": {
      "text/plain": [
       "{'genres': [],\n",
       " 'overview': '',\n",
       " 'popularity': 0,\n",
       " 'poster_path': '',\n",
       " 'vote_average': 0,\n",
       " 'vote_count': 0,\n",
       " 'director': nan,\n",
       " 'keywords': nan}"
      ]
     },
     "execution_count": 29,
     "metadata": {},
     "output_type": "execute_result"
    }
   ],
   "source": [
    "get_movie_details(None)"
   ]
  },
  {
   "cell_type": "code",
   "execution_count": 36,
   "metadata": {},
   "outputs": [],
   "source": [
    "# movie_links_rating.head()"
   ]
  },
  {
   "cell_type": "code",
   "execution_count": 46,
   "metadata": {},
   "outputs": [],
   "source": [
    "tmdb_df = pd.DataFrame(movie_data)\n",
    "tmdb_df['tmdbId'] = tmdb_ids"
   ]
  },
  {
   "cell_type": "code",
   "execution_count": 47,
   "metadata": {},
   "outputs": [
    {
     "data": {
      "text/plain": [
       "((57917, 9), (57917, 5))"
      ]
     },
     "execution_count": 47,
     "metadata": {},
     "output_type": "execute_result"
    }
   ],
   "source": [
    "tmdb_df.shape, links_movie_df.shape"
   ]
  },
  {
   "cell_type": "code",
   "execution_count": 48,
   "metadata": {},
   "outputs": [
    {
     "data": {
      "text/html": [
       "<div>\n",
       "<style scoped>\n",
       "    .dataframe tbody tr th:only-of-type {\n",
       "        vertical-align: middle;\n",
       "    }\n",
       "\n",
       "    .dataframe tbody tr th {\n",
       "        vertical-align: top;\n",
       "    }\n",
       "\n",
       "    .dataframe thead th {\n",
       "        text-align: right;\n",
       "    }\n",
       "</style>\n",
       "<table border=\"1\" class=\"dataframe\">\n",
       "  <thead>\n",
       "    <tr style=\"text-align: right;\">\n",
       "      <th></th>\n",
       "      <th>genres</th>\n",
       "      <th>overview</th>\n",
       "      <th>popularity</th>\n",
       "      <th>poster_path</th>\n",
       "      <th>vote_average</th>\n",
       "      <th>vote_count</th>\n",
       "      <th>director</th>\n",
       "      <th>keywords</th>\n",
       "      <th>tmdbId</th>\n",
       "    </tr>\n",
       "  </thead>\n",
       "  <tbody>\n",
       "    <tr>\n",
       "      <th>0</th>\n",
       "      <td>[Animation, Adventure, Family, Comedy]</td>\n",
       "      <td>Led by Woody, Andy's toys live happily in his ...</td>\n",
       "      <td>94.409</td>\n",
       "      <td>/uXDfjJbdP4ijW5hWSBrPrlKpxab.jpg</td>\n",
       "      <td>7.968</td>\n",
       "      <td>16793</td>\n",
       "      <td>John Lasseter</td>\n",
       "      <td>[martial arts, jealousy, friendship, bullying,...</td>\n",
       "      <td>862</td>\n",
       "    </tr>\n",
       "    <tr>\n",
       "      <th>1</th>\n",
       "      <td>[Adventure, Fantasy, Family]</td>\n",
       "      <td>When siblings Judy and Peter discover an encha...</td>\n",
       "      <td>19.462</td>\n",
       "      <td>/vgpXmVaVyUL7GGiDeiK1mKEKzcX.jpg</td>\n",
       "      <td>7.200</td>\n",
       "      <td>9651</td>\n",
       "      <td>Joe Johnston</td>\n",
       "      <td>[giant insect, board game, jungle, disappearan...</td>\n",
       "      <td>8844</td>\n",
       "    </tr>\n",
       "    <tr>\n",
       "      <th>2</th>\n",
       "      <td>[Romance, Comedy]</td>\n",
       "      <td>A family wedding reignites the ancient feud be...</td>\n",
       "      <td>11.106</td>\n",
       "      <td>/1FSXpj5e8l4KH6nVFO5SPUeraOt.jpg</td>\n",
       "      <td>6.473</td>\n",
       "      <td>330</td>\n",
       "      <td>Howard Deutch</td>\n",
       "      <td>[fishing, halloween, sequel, old man, best fri...</td>\n",
       "      <td>15602</td>\n",
       "    </tr>\n",
       "    <tr>\n",
       "      <th>3</th>\n",
       "      <td>[Comedy, Drama, Romance]</td>\n",
       "      <td>Cheated on, mistreated and stepped on, the wom...</td>\n",
       "      <td>13.606</td>\n",
       "      <td>/kJokIbVDkd6Ywp7IONv8xgfiES7.jpg</td>\n",
       "      <td>6.241</td>\n",
       "      <td>135</td>\n",
       "      <td>Forest Whitaker</td>\n",
       "      <td>[based on novel or book, interracial relations...</td>\n",
       "      <td>31357</td>\n",
       "    </tr>\n",
       "    <tr>\n",
       "      <th>4</th>\n",
       "      <td>[Comedy, Family]</td>\n",
       "      <td>Just when George Banks has recovered from his ...</td>\n",
       "      <td>14.332</td>\n",
       "      <td>/rj4LBtwQ0uGrpBnCELr716Qo3mw.jpg</td>\n",
       "      <td>6.246</td>\n",
       "      <td>644</td>\n",
       "      <td>Charles Shyer</td>\n",
       "      <td>[parent child relationship, baby, midlife cris...</td>\n",
       "      <td>11862</td>\n",
       "    </tr>\n",
       "  </tbody>\n",
       "</table>\n",
       "</div>"
      ],
      "text/plain": [
       "                                   genres  \\\n",
       "0  [Animation, Adventure, Family, Comedy]   \n",
       "1            [Adventure, Fantasy, Family]   \n",
       "2                       [Romance, Comedy]   \n",
       "3                [Comedy, Drama, Romance]   \n",
       "4                        [Comedy, Family]   \n",
       "\n",
       "                                            overview  popularity  \\\n",
       "0  Led by Woody, Andy's toys live happily in his ...      94.409   \n",
       "1  When siblings Judy and Peter discover an encha...      19.462   \n",
       "2  A family wedding reignites the ancient feud be...      11.106   \n",
       "3  Cheated on, mistreated and stepped on, the wom...      13.606   \n",
       "4  Just when George Banks has recovered from his ...      14.332   \n",
       "\n",
       "                        poster_path  vote_average  vote_count  \\\n",
       "0  /uXDfjJbdP4ijW5hWSBrPrlKpxab.jpg         7.968       16793   \n",
       "1  /vgpXmVaVyUL7GGiDeiK1mKEKzcX.jpg         7.200        9651   \n",
       "2  /1FSXpj5e8l4KH6nVFO5SPUeraOt.jpg         6.473         330   \n",
       "3  /kJokIbVDkd6Ywp7IONv8xgfiES7.jpg         6.241         135   \n",
       "4  /rj4LBtwQ0uGrpBnCELr716Qo3mw.jpg         6.246         644   \n",
       "\n",
       "          director                                           keywords  tmdbId  \n",
       "0    John Lasseter  [martial arts, jealousy, friendship, bullying,...     862  \n",
       "1     Joe Johnston  [giant insect, board game, jungle, disappearan...    8844  \n",
       "2    Howard Deutch  [fishing, halloween, sequel, old man, best fri...   15602  \n",
       "3  Forest Whitaker  [based on novel or book, interracial relations...   31357  \n",
       "4    Charles Shyer  [parent child relationship, baby, midlife cris...   11862  "
      ]
     },
     "execution_count": 48,
     "metadata": {},
     "output_type": "execute_result"
    }
   ],
   "source": [
    "tmdb_df.head()"
   ]
  },
  {
   "cell_type": "code",
   "execution_count": 49,
   "metadata": {},
   "outputs": [
    {
     "data": {
      "text/html": [
       "<div>\n",
       "<style scoped>\n",
       "    .dataframe tbody tr th:only-of-type {\n",
       "        vertical-align: middle;\n",
       "    }\n",
       "\n",
       "    .dataframe tbody tr th {\n",
       "        vertical-align: top;\n",
       "    }\n",
       "\n",
       "    .dataframe thead th {\n",
       "        text-align: right;\n",
       "    }\n",
       "</style>\n",
       "<table border=\"1\" class=\"dataframe\">\n",
       "  <thead>\n",
       "    <tr style=\"text-align: right;\">\n",
       "      <th></th>\n",
       "      <th>movieId</th>\n",
       "      <th>title</th>\n",
       "      <th>genres</th>\n",
       "      <th>imdbId</th>\n",
       "      <th>tmdbId</th>\n",
       "    </tr>\n",
       "  </thead>\n",
       "  <tbody>\n",
       "    <tr>\n",
       "      <th>0</th>\n",
       "      <td>1</td>\n",
       "      <td>Toy Story (1995)</td>\n",
       "      <td>Adventure|Animation|Children|Comedy|Fantasy</td>\n",
       "      <td>114709</td>\n",
       "      <td>862</td>\n",
       "    </tr>\n",
       "    <tr>\n",
       "      <th>1</th>\n",
       "      <td>2</td>\n",
       "      <td>Jumanji (1995)</td>\n",
       "      <td>Adventure|Children|Fantasy</td>\n",
       "      <td>113497</td>\n",
       "      <td>8844</td>\n",
       "    </tr>\n",
       "    <tr>\n",
       "      <th>2</th>\n",
       "      <td>3</td>\n",
       "      <td>Grumpier Old Men (1995)</td>\n",
       "      <td>Comedy|Romance</td>\n",
       "      <td>113228</td>\n",
       "      <td>15602</td>\n",
       "    </tr>\n",
       "    <tr>\n",
       "      <th>3</th>\n",
       "      <td>4</td>\n",
       "      <td>Waiting to Exhale (1995)</td>\n",
       "      <td>Comedy|Drama|Romance</td>\n",
       "      <td>114885</td>\n",
       "      <td>31357</td>\n",
       "    </tr>\n",
       "    <tr>\n",
       "      <th>4</th>\n",
       "      <td>5</td>\n",
       "      <td>Father of the Bride Part II (1995)</td>\n",
       "      <td>Comedy</td>\n",
       "      <td>113041</td>\n",
       "      <td>11862</td>\n",
       "    </tr>\n",
       "  </tbody>\n",
       "</table>\n",
       "</div>"
      ],
      "text/plain": [
       "   movieId                               title  \\\n",
       "0        1                    Toy Story (1995)   \n",
       "1        2                      Jumanji (1995)   \n",
       "2        3             Grumpier Old Men (1995)   \n",
       "3        4            Waiting to Exhale (1995)   \n",
       "4        5  Father of the Bride Part II (1995)   \n",
       "\n",
       "                                        genres  imdbId  tmdbId  \n",
       "0  Adventure|Animation|Children|Comedy|Fantasy  114709     862  \n",
       "1                   Adventure|Children|Fantasy  113497    8844  \n",
       "2                               Comedy|Romance  113228   15602  \n",
       "3                         Comedy|Drama|Romance  114885   31357  \n",
       "4                                       Comedy  113041   11862  "
      ]
     },
     "execution_count": 49,
     "metadata": {},
     "output_type": "execute_result"
    }
   ],
   "source": [
    "links_movie_df.head()"
   ]
  },
  {
   "cell_type": "code",
   "execution_count": 50,
   "metadata": {},
   "outputs": [],
   "source": [
    "links_movie_df_merged = pd.merge(links_movie_df, tmdb_df, on = 'tmdbId')"
   ]
  },
  {
   "cell_type": "code",
   "execution_count": 51,
   "metadata": {},
   "outputs": [
    {
     "data": {
      "text/html": [
       "<div>\n",
       "<style scoped>\n",
       "    .dataframe tbody tr th:only-of-type {\n",
       "        vertical-align: middle;\n",
       "    }\n",
       "\n",
       "    .dataframe tbody tr th {\n",
       "        vertical-align: top;\n",
       "    }\n",
       "\n",
       "    .dataframe thead th {\n",
       "        text-align: right;\n",
       "    }\n",
       "</style>\n",
       "<table border=\"1\" class=\"dataframe\">\n",
       "  <thead>\n",
       "    <tr style=\"text-align: right;\">\n",
       "      <th></th>\n",
       "      <th>movieId</th>\n",
       "      <th>title</th>\n",
       "      <th>genres_x</th>\n",
       "      <th>imdbId</th>\n",
       "      <th>tmdbId</th>\n",
       "      <th>genres_y</th>\n",
       "      <th>overview</th>\n",
       "      <th>popularity</th>\n",
       "      <th>poster_path</th>\n",
       "      <th>vote_average</th>\n",
       "      <th>vote_count</th>\n",
       "      <th>director</th>\n",
       "      <th>keywords</th>\n",
       "    </tr>\n",
       "  </thead>\n",
       "  <tbody>\n",
       "    <tr>\n",
       "      <th>12581</th>\n",
       "      <td>58559</td>\n",
       "      <td>Dark Knight, The (2008)</td>\n",
       "      <td>Action|Crime|Drama|IMAX</td>\n",
       "      <td>468569</td>\n",
       "      <td>155</td>\n",
       "      <td>[Drama, Action, Crime, Thriller]</td>\n",
       "      <td>Batman raises the stakes in his war on crime. ...</td>\n",
       "      <td>82.74</td>\n",
       "      <td>/qJ2tW6WMUDux911r6m7haRef0WH.jpg</td>\n",
       "      <td>8.509</td>\n",
       "      <td>29859</td>\n",
       "      <td>Christopher Nolan</td>\n",
       "      <td>[crime fighter, secret identity, anti hero, sc...</td>\n",
       "    </tr>\n",
       "  </tbody>\n",
       "</table>\n",
       "</div>"
      ],
      "text/plain": [
       "       movieId                    title                 genres_x  imdbId  \\\n",
       "12581    58559  Dark Knight, The (2008)  Action|Crime|Drama|IMAX  468569   \n",
       "\n",
       "       tmdbId                          genres_y  \\\n",
       "12581     155  [Drama, Action, Crime, Thriller]   \n",
       "\n",
       "                                                overview  popularity  \\\n",
       "12581  Batman raises the stakes in his war on crime. ...       82.74   \n",
       "\n",
       "                            poster_path  vote_average  vote_count  \\\n",
       "12581  /qJ2tW6WMUDux911r6m7haRef0WH.jpg         8.509       29859   \n",
       "\n",
       "                director                                           keywords  \n",
       "12581  Christopher Nolan  [crime fighter, secret identity, anti hero, sc...  "
      ]
     },
     "execution_count": 51,
     "metadata": {},
     "output_type": "execute_result"
    }
   ],
   "source": [
    "links_movie_df_merged[links_movie_df_merged['title'] == 'Dark Knight, The (2008)']"
   ]
  },
  {
   "cell_type": "code",
   "execution_count": 33,
   "metadata": {},
   "outputs": [
    {
     "data": {
      "text/plain": [
       "(57736, 13)"
      ]
     },
     "execution_count": 33,
     "metadata": {},
     "output_type": "execute_result"
    }
   ],
   "source": [
    "links_movie_df_merged.shape"
   ]
  },
  {
   "cell_type": "code",
   "execution_count": 34,
   "metadata": {},
   "outputs": [
    {
     "name": "stdout",
     "output_type": "stream",
     "text": [
      "<class 'pandas.core.frame.DataFrame'>\n",
      "Index: 57736 entries, 0 to 57916\n",
      "Data columns (total 13 columns):\n",
      " #   Column        Non-Null Count  Dtype  \n",
      "---  ------        --------------  -----  \n",
      " 0   movieId       57736 non-null  int64  \n",
      " 1   title         57736 non-null  object \n",
      " 2   genres_x      57736 non-null  object \n",
      " 3   imdbId        57736 non-null  int64  \n",
      " 4   tmdbId        57736 non-null  int32  \n",
      " 5   genres_y      57736 non-null  object \n",
      " 6   overview      57736 non-null  object \n",
      " 7   popularity    57736 non-null  float64\n",
      " 8   poster_path   56364 non-null  object \n",
      " 9   vote_average  57736 non-null  float64\n",
      " 10  vote_count    57736 non-null  int64  \n",
      " 11  director      56643 non-null  object \n",
      " 12  keywords      56959 non-null  object \n",
      "dtypes: float64(2), int32(1), int64(3), object(7)\n",
      "memory usage: 5.9+ MB\n"
     ]
    }
   ],
   "source": [
    "links_movie_df_merged.info()"
   ]
  },
  {
   "cell_type": "code",
   "execution_count": 35,
   "metadata": {},
   "outputs": [
    {
     "data": {
      "text/plain": [
       "2357"
      ]
     },
     "execution_count": 35,
     "metadata": {},
     "output_type": "execute_result"
    }
   ],
   "source": [
    "mask = links_movie_df_merged.isnull().any(axis=1)\n",
    "rows_with_nan = links_movie_df_merged[mask]\n",
    "len(rows_with_nan)"
   ]
  },
  {
   "cell_type": "code",
   "execution_count": 36,
   "metadata": {},
   "outputs": [
    {
     "data": {
      "text/plain": [
       "55379"
      ]
     },
     "execution_count": 36,
     "metadata": {},
     "output_type": "execute_result"
    }
   ],
   "source": [
    "57736-2357\n"
   ]
  },
  {
   "cell_type": "code",
   "execution_count": 37,
   "metadata": {},
   "outputs": [],
   "source": [
    "links_movie_df_merged.dropna(axis = 0, inplace=True)"
   ]
  },
  {
   "cell_type": "code",
   "execution_count": 38,
   "metadata": {},
   "outputs": [
    {
     "data": {
      "text/plain": [
       "movieId         0\n",
       "title           0\n",
       "genres_x        0\n",
       "imdbId          0\n",
       "tmdbId          0\n",
       "genres_y        0\n",
       "overview        0\n",
       "popularity      0\n",
       "poster_path     0\n",
       "vote_average    0\n",
       "vote_count      0\n",
       "director        0\n",
       "keywords        0\n",
       "dtype: int64"
      ]
     },
     "execution_count": 38,
     "metadata": {},
     "output_type": "execute_result"
    }
   ],
   "source": [
    "links_movie_df_merged.isnull().sum()"
   ]
  },
  {
   "cell_type": "code",
   "execution_count": 39,
   "metadata": {},
   "outputs": [
    {
     "name": "stdout",
     "output_type": "stream",
     "text": [
      "<class 'pandas.core.frame.DataFrame'>\n",
      "Index: 55379 entries, 0 to 57916\n",
      "Data columns (total 13 columns):\n",
      " #   Column        Non-Null Count  Dtype  \n",
      "---  ------        --------------  -----  \n",
      " 0   movieId       55379 non-null  int64  \n",
      " 1   title         55379 non-null  object \n",
      " 2   genres_x      55379 non-null  object \n",
      " 3   imdbId        55379 non-null  int64  \n",
      " 4   tmdbId        55379 non-null  int32  \n",
      " 5   genres_y      55379 non-null  object \n",
      " 6   overview      55379 non-null  object \n",
      " 7   popularity    55379 non-null  float64\n",
      " 8   poster_path   55379 non-null  object \n",
      " 9   vote_average  55379 non-null  float64\n",
      " 10  vote_count    55379 non-null  int64  \n",
      " 11  director      55379 non-null  object \n",
      " 12  keywords      55379 non-null  object \n",
      "dtypes: float64(2), int32(1), int64(3), object(7)\n",
      "memory usage: 5.7+ MB\n"
     ]
    }
   ],
   "source": [
    "links_movie_df_merged.info()"
   ]
  },
  {
   "attachments": {},
   "cell_type": "markdown",
   "metadata": {},
   "source": [
    "genres from tmdb is more detailed so we drop the Movielens genre"
   ]
  },
  {
   "cell_type": "code",
   "execution_count": 40,
   "metadata": {},
   "outputs": [],
   "source": [
    "links_movie_df_merged.drop(labels='genres_x', axis=1, inplace=True)"
   ]
  },
  {
   "cell_type": "code",
   "execution_count": 41,
   "metadata": {},
   "outputs": [
    {
     "data": {
      "text/html": [
       "<div>\n",
       "<style scoped>\n",
       "    .dataframe tbody tr th:only-of-type {\n",
       "        vertical-align: middle;\n",
       "    }\n",
       "\n",
       "    .dataframe tbody tr th {\n",
       "        vertical-align: top;\n",
       "    }\n",
       "\n",
       "    .dataframe thead th {\n",
       "        text-align: right;\n",
       "    }\n",
       "</style>\n",
       "<table border=\"1\" class=\"dataframe\">\n",
       "  <thead>\n",
       "    <tr style=\"text-align: right;\">\n",
       "      <th></th>\n",
       "      <th>movieId</th>\n",
       "      <th>title</th>\n",
       "      <th>imdbId</th>\n",
       "      <th>tmdbId</th>\n",
       "      <th>genres_y</th>\n",
       "      <th>overview</th>\n",
       "      <th>popularity</th>\n",
       "      <th>poster_path</th>\n",
       "      <th>vote_average</th>\n",
       "      <th>vote_count</th>\n",
       "      <th>director</th>\n",
       "      <th>keywords</th>\n",
       "    </tr>\n",
       "  </thead>\n",
       "  <tbody>\n",
       "    <tr>\n",
       "      <th>0</th>\n",
       "      <td>1</td>\n",
       "      <td>Toy Story (1995)</td>\n",
       "      <td>114709</td>\n",
       "      <td>862</td>\n",
       "      <td>[Animation, Adventure, Family, Comedy]</td>\n",
       "      <td>Led by Woody, Andy's toys live happily in his ...</td>\n",
       "      <td>101.402</td>\n",
       "      <td>/uXDfjJbdP4ijW5hWSBrPrlKpxab.jpg</td>\n",
       "      <td>8.000</td>\n",
       "      <td>16771</td>\n",
       "      <td>John Lasseter</td>\n",
       "      <td>[martial arts, jealousy, friendship, bullying,...</td>\n",
       "    </tr>\n",
       "    <tr>\n",
       "      <th>1</th>\n",
       "      <td>2</td>\n",
       "      <td>Jumanji (1995)</td>\n",
       "      <td>113497</td>\n",
       "      <td>8844</td>\n",
       "      <td>[Adventure, Fantasy, Family]</td>\n",
       "      <td>When siblings Judy and Peter discover an encha...</td>\n",
       "      <td>16.794</td>\n",
       "      <td>/v2XHtmVqpERPy0HA1y9wltoeEgW.jpg</td>\n",
       "      <td>7.238</td>\n",
       "      <td>9636</td>\n",
       "      <td>Joe Johnston</td>\n",
       "      <td>[giant insect, board game, jungle, disappearan...</td>\n",
       "    </tr>\n",
       "    <tr>\n",
       "      <th>2</th>\n",
       "      <td>3</td>\n",
       "      <td>Grumpier Old Men (1995)</td>\n",
       "      <td>113228</td>\n",
       "      <td>15602</td>\n",
       "      <td>[Romance, Comedy]</td>\n",
       "      <td>A family wedding reignites the ancient feud be...</td>\n",
       "      <td>9.856</td>\n",
       "      <td>/1FSXpj5e8l4KH6nVFO5SPUeraOt.jpg</td>\n",
       "      <td>6.470</td>\n",
       "      <td>328</td>\n",
       "      <td>Howard Deutch</td>\n",
       "      <td>[fishing, halloween, sequel, old man, best fri...</td>\n",
       "    </tr>\n",
       "    <tr>\n",
       "      <th>3</th>\n",
       "      <td>4</td>\n",
       "      <td>Waiting to Exhale (1995)</td>\n",
       "      <td>114885</td>\n",
       "      <td>31357</td>\n",
       "      <td>[Comedy, Drama, Romance]</td>\n",
       "      <td>Cheated on, mistreated and stepped on, the wom...</td>\n",
       "      <td>11.498</td>\n",
       "      <td>/kJokIbVDkd6Ywp7IONv8xgfiES7.jpg</td>\n",
       "      <td>6.272</td>\n",
       "      <td>134</td>\n",
       "      <td>Forest Whitaker</td>\n",
       "      <td>[based on novel or book, interracial relations...</td>\n",
       "    </tr>\n",
       "    <tr>\n",
       "      <th>4</th>\n",
       "      <td>5</td>\n",
       "      <td>Father of the Bride Part II (1995)</td>\n",
       "      <td>113041</td>\n",
       "      <td>11862</td>\n",
       "      <td>[Comedy, Family]</td>\n",
       "      <td>Just when George Banks has recovered from his ...</td>\n",
       "      <td>14.211</td>\n",
       "      <td>/rj4LBtwQ0uGrpBnCELr716Qo3mw.jpg</td>\n",
       "      <td>6.250</td>\n",
       "      <td>642</td>\n",
       "      <td>Charles Shyer</td>\n",
       "      <td>[parent child relationship, baby, midlife cris...</td>\n",
       "    </tr>\n",
       "  </tbody>\n",
       "</table>\n",
       "</div>"
      ],
      "text/plain": [
       "   movieId                               title  imdbId  tmdbId  \\\n",
       "0        1                    Toy Story (1995)  114709     862   \n",
       "1        2                      Jumanji (1995)  113497    8844   \n",
       "2        3             Grumpier Old Men (1995)  113228   15602   \n",
       "3        4            Waiting to Exhale (1995)  114885   31357   \n",
       "4        5  Father of the Bride Part II (1995)  113041   11862   \n",
       "\n",
       "                                 genres_y  \\\n",
       "0  [Animation, Adventure, Family, Comedy]   \n",
       "1            [Adventure, Fantasy, Family]   \n",
       "2                       [Romance, Comedy]   \n",
       "3                [Comedy, Drama, Romance]   \n",
       "4                        [Comedy, Family]   \n",
       "\n",
       "                                            overview  popularity  \\\n",
       "0  Led by Woody, Andy's toys live happily in his ...     101.402   \n",
       "1  When siblings Judy and Peter discover an encha...      16.794   \n",
       "2  A family wedding reignites the ancient feud be...       9.856   \n",
       "3  Cheated on, mistreated and stepped on, the wom...      11.498   \n",
       "4  Just when George Banks has recovered from his ...      14.211   \n",
       "\n",
       "                        poster_path  vote_average  vote_count  \\\n",
       "0  /uXDfjJbdP4ijW5hWSBrPrlKpxab.jpg         8.000       16771   \n",
       "1  /v2XHtmVqpERPy0HA1y9wltoeEgW.jpg         7.238        9636   \n",
       "2  /1FSXpj5e8l4KH6nVFO5SPUeraOt.jpg         6.470         328   \n",
       "3  /kJokIbVDkd6Ywp7IONv8xgfiES7.jpg         6.272         134   \n",
       "4  /rj4LBtwQ0uGrpBnCELr716Qo3mw.jpg         6.250         642   \n",
       "\n",
       "          director                                           keywords  \n",
       "0    John Lasseter  [martial arts, jealousy, friendship, bullying,...  \n",
       "1     Joe Johnston  [giant insect, board game, jungle, disappearan...  \n",
       "2    Howard Deutch  [fishing, halloween, sequel, old man, best fri...  \n",
       "3  Forest Whitaker  [based on novel or book, interracial relations...  \n",
       "4    Charles Shyer  [parent child relationship, baby, midlife cris...  "
      ]
     },
     "execution_count": 41,
     "metadata": {},
     "output_type": "execute_result"
    }
   ],
   "source": [
    "links_movie_df_merged.head()"
   ]
  },
  {
   "cell_type": "code",
   "execution_count": 42,
   "metadata": {},
   "outputs": [],
   "source": [
    "links_movie_df_merged.rename(columns = {'genres_y': 'genres'}, inplace=True)"
   ]
  },
  {
   "cell_type": "code",
   "execution_count": 43,
   "metadata": {},
   "outputs": [
    {
     "data": {
      "text/html": [
       "<div>\n",
       "<style scoped>\n",
       "    .dataframe tbody tr th:only-of-type {\n",
       "        vertical-align: middle;\n",
       "    }\n",
       "\n",
       "    .dataframe tbody tr th {\n",
       "        vertical-align: top;\n",
       "    }\n",
       "\n",
       "    .dataframe thead th {\n",
       "        text-align: right;\n",
       "    }\n",
       "</style>\n",
       "<table border=\"1\" class=\"dataframe\">\n",
       "  <thead>\n",
       "    <tr style=\"text-align: right;\">\n",
       "      <th></th>\n",
       "      <th>movieId</th>\n",
       "      <th>title</th>\n",
       "      <th>imdbId</th>\n",
       "      <th>tmdbId</th>\n",
       "      <th>genres</th>\n",
       "      <th>overview</th>\n",
       "      <th>popularity</th>\n",
       "      <th>poster_path</th>\n",
       "      <th>vote_average</th>\n",
       "      <th>vote_count</th>\n",
       "      <th>director</th>\n",
       "      <th>keywords</th>\n",
       "    </tr>\n",
       "  </thead>\n",
       "  <tbody>\n",
       "    <tr>\n",
       "      <th>0</th>\n",
       "      <td>1</td>\n",
       "      <td>Toy Story (1995)</td>\n",
       "      <td>114709</td>\n",
       "      <td>862</td>\n",
       "      <td>[Animation, Adventure, Family, Comedy]</td>\n",
       "      <td>Led by Woody, Andy's toys live happily in his ...</td>\n",
       "      <td>101.402</td>\n",
       "      <td>/uXDfjJbdP4ijW5hWSBrPrlKpxab.jpg</td>\n",
       "      <td>8.000</td>\n",
       "      <td>16771</td>\n",
       "      <td>John Lasseter</td>\n",
       "      <td>[martial arts, jealousy, friendship, bullying,...</td>\n",
       "    </tr>\n",
       "    <tr>\n",
       "      <th>1</th>\n",
       "      <td>2</td>\n",
       "      <td>Jumanji (1995)</td>\n",
       "      <td>113497</td>\n",
       "      <td>8844</td>\n",
       "      <td>[Adventure, Fantasy, Family]</td>\n",
       "      <td>When siblings Judy and Peter discover an encha...</td>\n",
       "      <td>16.794</td>\n",
       "      <td>/v2XHtmVqpERPy0HA1y9wltoeEgW.jpg</td>\n",
       "      <td>7.238</td>\n",
       "      <td>9636</td>\n",
       "      <td>Joe Johnston</td>\n",
       "      <td>[giant insect, board game, jungle, disappearan...</td>\n",
       "    </tr>\n",
       "    <tr>\n",
       "      <th>2</th>\n",
       "      <td>3</td>\n",
       "      <td>Grumpier Old Men (1995)</td>\n",
       "      <td>113228</td>\n",
       "      <td>15602</td>\n",
       "      <td>[Romance, Comedy]</td>\n",
       "      <td>A family wedding reignites the ancient feud be...</td>\n",
       "      <td>9.856</td>\n",
       "      <td>/1FSXpj5e8l4KH6nVFO5SPUeraOt.jpg</td>\n",
       "      <td>6.470</td>\n",
       "      <td>328</td>\n",
       "      <td>Howard Deutch</td>\n",
       "      <td>[fishing, halloween, sequel, old man, best fri...</td>\n",
       "    </tr>\n",
       "    <tr>\n",
       "      <th>3</th>\n",
       "      <td>4</td>\n",
       "      <td>Waiting to Exhale (1995)</td>\n",
       "      <td>114885</td>\n",
       "      <td>31357</td>\n",
       "      <td>[Comedy, Drama, Romance]</td>\n",
       "      <td>Cheated on, mistreated and stepped on, the wom...</td>\n",
       "      <td>11.498</td>\n",
       "      <td>/kJokIbVDkd6Ywp7IONv8xgfiES7.jpg</td>\n",
       "      <td>6.272</td>\n",
       "      <td>134</td>\n",
       "      <td>Forest Whitaker</td>\n",
       "      <td>[based on novel or book, interracial relations...</td>\n",
       "    </tr>\n",
       "    <tr>\n",
       "      <th>4</th>\n",
       "      <td>5</td>\n",
       "      <td>Father of the Bride Part II (1995)</td>\n",
       "      <td>113041</td>\n",
       "      <td>11862</td>\n",
       "      <td>[Comedy, Family]</td>\n",
       "      <td>Just when George Banks has recovered from his ...</td>\n",
       "      <td>14.211</td>\n",
       "      <td>/rj4LBtwQ0uGrpBnCELr716Qo3mw.jpg</td>\n",
       "      <td>6.250</td>\n",
       "      <td>642</td>\n",
       "      <td>Charles Shyer</td>\n",
       "      <td>[parent child relationship, baby, midlife cris...</td>\n",
       "    </tr>\n",
       "  </tbody>\n",
       "</table>\n",
       "</div>"
      ],
      "text/plain": [
       "   movieId                               title  imdbId  tmdbId  \\\n",
       "0        1                    Toy Story (1995)  114709     862   \n",
       "1        2                      Jumanji (1995)  113497    8844   \n",
       "2        3             Grumpier Old Men (1995)  113228   15602   \n",
       "3        4            Waiting to Exhale (1995)  114885   31357   \n",
       "4        5  Father of the Bride Part II (1995)  113041   11862   \n",
       "\n",
       "                                   genres  \\\n",
       "0  [Animation, Adventure, Family, Comedy]   \n",
       "1            [Adventure, Fantasy, Family]   \n",
       "2                       [Romance, Comedy]   \n",
       "3                [Comedy, Drama, Romance]   \n",
       "4                        [Comedy, Family]   \n",
       "\n",
       "                                            overview  popularity  \\\n",
       "0  Led by Woody, Andy's toys live happily in his ...     101.402   \n",
       "1  When siblings Judy and Peter discover an encha...      16.794   \n",
       "2  A family wedding reignites the ancient feud be...       9.856   \n",
       "3  Cheated on, mistreated and stepped on, the wom...      11.498   \n",
       "4  Just when George Banks has recovered from his ...      14.211   \n",
       "\n",
       "                        poster_path  vote_average  vote_count  \\\n",
       "0  /uXDfjJbdP4ijW5hWSBrPrlKpxab.jpg         8.000       16771   \n",
       "1  /v2XHtmVqpERPy0HA1y9wltoeEgW.jpg         7.238        9636   \n",
       "2  /1FSXpj5e8l4KH6nVFO5SPUeraOt.jpg         6.470         328   \n",
       "3  /kJokIbVDkd6Ywp7IONv8xgfiES7.jpg         6.272         134   \n",
       "4  /rj4LBtwQ0uGrpBnCELr716Qo3mw.jpg         6.250         642   \n",
       "\n",
       "          director                                           keywords  \n",
       "0    John Lasseter  [martial arts, jealousy, friendship, bullying,...  \n",
       "1     Joe Johnston  [giant insect, board game, jungle, disappearan...  \n",
       "2    Howard Deutch  [fishing, halloween, sequel, old man, best fri...  \n",
       "3  Forest Whitaker  [based on novel or book, interracial relations...  \n",
       "4    Charles Shyer  [parent child relationship, baby, midlife cris...  "
      ]
     },
     "execution_count": 43,
     "metadata": {},
     "output_type": "execute_result"
    }
   ],
   "source": [
    "links_movie_df_merged.head()"
   ]
  },
  {
   "cell_type": "code",
   "execution_count": 44,
   "metadata": {},
   "outputs": [
    {
     "data": {
      "text/plain": [
       "Index(['movieId', 'title', 'imdbId', 'tmdbId', 'genres', 'overview',\n",
       "       'popularity', 'poster_path', 'vote_average', 'vote_count', 'director',\n",
       "       'keywords'],\n",
       "      dtype='object')"
      ]
     },
     "execution_count": 44,
     "metadata": {},
     "output_type": "execute_result"
    }
   ],
   "source": [
    "links_movie_df_merged.columns"
   ]
  },
  {
   "cell_type": "code",
   "execution_count": 47,
   "metadata": {},
   "outputs": [
    {
     "data": {
      "text/plain": [
       "0        Adventure|Animation|Children|Comedy|Fantasy\n",
       "1                         Adventure|Children|Fantasy\n",
       "2                                     Comedy|Romance\n",
       "3                               Comedy|Drama|Romance\n",
       "4                                             Comedy\n",
       "                            ...                     \n",
       "58093                             (no genres listed)\n",
       "58094                                         Comedy\n",
       "58095                                          Drama\n",
       "58096                  Adventure|Drama|Horror|Sci-Fi\n",
       "58097                             Action|Crime|Drama\n",
       "Name: genres, Length: 57917, dtype: object"
      ]
     },
     "execution_count": 47,
     "metadata": {},
     "output_type": "execute_result"
    }
   ],
   "source": [
    "genre_column"
   ]
  },
  {
   "cell_type": "code",
   "execution_count": 48,
   "metadata": {},
   "outputs": [
    {
     "name": "stdout",
     "output_type": "stream",
     "text": [
      "19\n"
     ]
    }
   ],
   "source": [
    "# Extract the 'genres' column\n",
    "genre_column = links_movie_df_merged['genres']\n",
    "\n",
    "# Create an empty set for unique genres\n",
    "unique_genres = set()\n",
    "\n",
    "# Iterate over each row in the genre column\n",
    "for genres_list in genre_column:\n",
    "    \n",
    "    # Add each genre to the set\n",
    "    unique_genres.update(genres_list)\n",
    "\n",
    "# Get the total number of unique genres\n",
    "total_genres = len(unique_genres)\n",
    "\n",
    "print(total_genres)  # Output: 7"
   ]
  },
  {
   "cell_type": "code",
   "execution_count": 50,
   "metadata": {},
   "outputs": [
    {
     "data": {
      "text/plain": [
       "['Action',\n",
       " 'Mystery',\n",
       " 'Western',\n",
       " 'Romance',\n",
       " 'Music',\n",
       " 'War',\n",
       " 'Fantasy',\n",
       " 'Horror',\n",
       " 'History',\n",
       " 'Documentary',\n",
       " 'Adventure',\n",
       " 'TV Movie',\n",
       " 'Science Fiction',\n",
       " 'Animation',\n",
       " 'Comedy',\n",
       " 'Drama',\n",
       " 'Family',\n",
       " 'Thriller',\n",
       " 'Crime']"
      ]
     },
     "execution_count": 50,
     "metadata": {},
     "output_type": "execute_result"
    }
   ],
   "source": [
    "list(unique_genres)"
   ]
  },
  {
   "cell_type": "code",
   "execution_count": 51,
   "metadata": {},
   "outputs": [],
   "source": [
    "final_df = links_movie_df_merged.merge(ratings_df, on='movieId')"
   ]
  },
  {
   "cell_type": "code",
   "execution_count": 52,
   "metadata": {},
   "outputs": [
    {
     "data": {
      "text/plain": [
       "((27372632, 14), (55379, 12), (27753444, 3))"
      ]
     },
     "execution_count": 52,
     "metadata": {},
     "output_type": "execute_result"
    }
   ],
   "source": [
    "final_df.shape,links_movie_df_merged.shape,ratings_df.shape"
   ]
  },
  {
   "cell_type": "code",
   "execution_count": 53,
   "metadata": {},
   "outputs": [
    {
     "data": {
      "text/html": [
       "<div>\n",
       "<style scoped>\n",
       "    .dataframe tbody tr th:only-of-type {\n",
       "        vertical-align: middle;\n",
       "    }\n",
       "\n",
       "    .dataframe tbody tr th {\n",
       "        vertical-align: top;\n",
       "    }\n",
       "\n",
       "    .dataframe thead th {\n",
       "        text-align: right;\n",
       "    }\n",
       "</style>\n",
       "<table border=\"1\" class=\"dataframe\">\n",
       "  <thead>\n",
       "    <tr style=\"text-align: right;\">\n",
       "      <th></th>\n",
       "      <th>movieId</th>\n",
       "      <th>title</th>\n",
       "      <th>imdbId</th>\n",
       "      <th>tmdbId</th>\n",
       "      <th>genres</th>\n",
       "      <th>overview</th>\n",
       "      <th>popularity</th>\n",
       "      <th>poster_path</th>\n",
       "      <th>vote_average</th>\n",
       "      <th>vote_count</th>\n",
       "      <th>director</th>\n",
       "      <th>keywords</th>\n",
       "      <th>userId</th>\n",
       "      <th>rating</th>\n",
       "    </tr>\n",
       "  </thead>\n",
       "  <tbody>\n",
       "    <tr>\n",
       "      <th>0</th>\n",
       "      <td>1</td>\n",
       "      <td>Toy Story (1995)</td>\n",
       "      <td>114709</td>\n",
       "      <td>862</td>\n",
       "      <td>[Animation, Adventure, Family, Comedy]</td>\n",
       "      <td>Led by Woody, Andy's toys live happily in his ...</td>\n",
       "      <td>101.402</td>\n",
       "      <td>/uXDfjJbdP4ijW5hWSBrPrlKpxab.jpg</td>\n",
       "      <td>8.0</td>\n",
       "      <td>16771</td>\n",
       "      <td>John Lasseter</td>\n",
       "      <td>[martial arts, jealousy, friendship, bullying,...</td>\n",
       "      <td>4</td>\n",
       "      <td>4.0</td>\n",
       "    </tr>\n",
       "    <tr>\n",
       "      <th>1</th>\n",
       "      <td>1</td>\n",
       "      <td>Toy Story (1995)</td>\n",
       "      <td>114709</td>\n",
       "      <td>862</td>\n",
       "      <td>[Animation, Adventure, Family, Comedy]</td>\n",
       "      <td>Led by Woody, Andy's toys live happily in his ...</td>\n",
       "      <td>101.402</td>\n",
       "      <td>/uXDfjJbdP4ijW5hWSBrPrlKpxab.jpg</td>\n",
       "      <td>8.0</td>\n",
       "      <td>16771</td>\n",
       "      <td>John Lasseter</td>\n",
       "      <td>[martial arts, jealousy, friendship, bullying,...</td>\n",
       "      <td>10</td>\n",
       "      <td>5.0</td>\n",
       "    </tr>\n",
       "    <tr>\n",
       "      <th>2</th>\n",
       "      <td>1</td>\n",
       "      <td>Toy Story (1995)</td>\n",
       "      <td>114709</td>\n",
       "      <td>862</td>\n",
       "      <td>[Animation, Adventure, Family, Comedy]</td>\n",
       "      <td>Led by Woody, Andy's toys live happily in his ...</td>\n",
       "      <td>101.402</td>\n",
       "      <td>/uXDfjJbdP4ijW5hWSBrPrlKpxab.jpg</td>\n",
       "      <td>8.0</td>\n",
       "      <td>16771</td>\n",
       "      <td>John Lasseter</td>\n",
       "      <td>[martial arts, jealousy, friendship, bullying,...</td>\n",
       "      <td>14</td>\n",
       "      <td>4.5</td>\n",
       "    </tr>\n",
       "    <tr>\n",
       "      <th>3</th>\n",
       "      <td>1</td>\n",
       "      <td>Toy Story (1995)</td>\n",
       "      <td>114709</td>\n",
       "      <td>862</td>\n",
       "      <td>[Animation, Adventure, Family, Comedy]</td>\n",
       "      <td>Led by Woody, Andy's toys live happily in his ...</td>\n",
       "      <td>101.402</td>\n",
       "      <td>/uXDfjJbdP4ijW5hWSBrPrlKpxab.jpg</td>\n",
       "      <td>8.0</td>\n",
       "      <td>16771</td>\n",
       "      <td>John Lasseter</td>\n",
       "      <td>[martial arts, jealousy, friendship, bullying,...</td>\n",
       "      <td>15</td>\n",
       "      <td>4.0</td>\n",
       "    </tr>\n",
       "    <tr>\n",
       "      <th>4</th>\n",
       "      <td>1</td>\n",
       "      <td>Toy Story (1995)</td>\n",
       "      <td>114709</td>\n",
       "      <td>862</td>\n",
       "      <td>[Animation, Adventure, Family, Comedy]</td>\n",
       "      <td>Led by Woody, Andy's toys live happily in his ...</td>\n",
       "      <td>101.402</td>\n",
       "      <td>/uXDfjJbdP4ijW5hWSBrPrlKpxab.jpg</td>\n",
       "      <td>8.0</td>\n",
       "      <td>16771</td>\n",
       "      <td>John Lasseter</td>\n",
       "      <td>[martial arts, jealousy, friendship, bullying,...</td>\n",
       "      <td>22</td>\n",
       "      <td>4.0</td>\n",
       "    </tr>\n",
       "  </tbody>\n",
       "</table>\n",
       "</div>"
      ],
      "text/plain": [
       "   movieId             title  imdbId  tmdbId  \\\n",
       "0        1  Toy Story (1995)  114709     862   \n",
       "1        1  Toy Story (1995)  114709     862   \n",
       "2        1  Toy Story (1995)  114709     862   \n",
       "3        1  Toy Story (1995)  114709     862   \n",
       "4        1  Toy Story (1995)  114709     862   \n",
       "\n",
       "                                   genres  \\\n",
       "0  [Animation, Adventure, Family, Comedy]   \n",
       "1  [Animation, Adventure, Family, Comedy]   \n",
       "2  [Animation, Adventure, Family, Comedy]   \n",
       "3  [Animation, Adventure, Family, Comedy]   \n",
       "4  [Animation, Adventure, Family, Comedy]   \n",
       "\n",
       "                                            overview  popularity  \\\n",
       "0  Led by Woody, Andy's toys live happily in his ...     101.402   \n",
       "1  Led by Woody, Andy's toys live happily in his ...     101.402   \n",
       "2  Led by Woody, Andy's toys live happily in his ...     101.402   \n",
       "3  Led by Woody, Andy's toys live happily in his ...     101.402   \n",
       "4  Led by Woody, Andy's toys live happily in his ...     101.402   \n",
       "\n",
       "                        poster_path  vote_average  vote_count       director  \\\n",
       "0  /uXDfjJbdP4ijW5hWSBrPrlKpxab.jpg           8.0       16771  John Lasseter   \n",
       "1  /uXDfjJbdP4ijW5hWSBrPrlKpxab.jpg           8.0       16771  John Lasseter   \n",
       "2  /uXDfjJbdP4ijW5hWSBrPrlKpxab.jpg           8.0       16771  John Lasseter   \n",
       "3  /uXDfjJbdP4ijW5hWSBrPrlKpxab.jpg           8.0       16771  John Lasseter   \n",
       "4  /uXDfjJbdP4ijW5hWSBrPrlKpxab.jpg           8.0       16771  John Lasseter   \n",
       "\n",
       "                                            keywords  userId  rating  \n",
       "0  [martial arts, jealousy, friendship, bullying,...       4     4.0  \n",
       "1  [martial arts, jealousy, friendship, bullying,...      10     5.0  \n",
       "2  [martial arts, jealousy, friendship, bullying,...      14     4.5  \n",
       "3  [martial arts, jealousy, friendship, bullying,...      15     4.0  \n",
       "4  [martial arts, jealousy, friendship, bullying,...      22     4.0  "
      ]
     },
     "execution_count": 53,
     "metadata": {},
     "output_type": "execute_result"
    }
   ],
   "source": [
    "final_df.head()"
   ]
  },
  {
   "cell_type": "code",
   "execution_count": 55,
   "metadata": {},
   "outputs": [
    {
     "data": {
      "text/plain": [
       "Index(['movieId', 'title', 'imdbId', 'tmdbId', 'genres', 'overview',\n",
       "       'popularity', 'poster_path', 'vote_average', 'vote_count', 'director',\n",
       "       'keywords', 'userId', 'rating'],\n",
       "      dtype='object')"
      ]
     },
     "execution_count": 55,
     "metadata": {},
     "output_type": "execute_result"
    }
   ],
   "source": [
    "final_df.columns"
   ]
  },
  {
   "cell_type": "code",
   "execution_count": 54,
   "metadata": {},
   "outputs": [
    {
     "data": {
      "text/plain": [
       "movieId         0\n",
       "title           0\n",
       "imdbId          0\n",
       "tmdbId          0\n",
       "genres          0\n",
       "overview        0\n",
       "popularity      0\n",
       "poster_path     0\n",
       "vote_average    0\n",
       "vote_count      0\n",
       "director        0\n",
       "keywords        0\n",
       "userId          0\n",
       "rating          0\n",
       "dtype: int64"
      ]
     },
     "execution_count": 54,
     "metadata": {},
     "output_type": "execute_result"
    }
   ],
   "source": [
    "final_df.isnull().sum()"
   ]
  },
  {
   "cell_type": "code",
   "execution_count": 56,
   "metadata": {},
   "outputs": [
    {
     "name": "stdout",
     "output_type": "stream",
     "text": [
      "<class 'pandas.core.frame.DataFrame'>\n",
      "RangeIndex: 27372632 entries, 0 to 27372631\n",
      "Data columns (total 14 columns):\n",
      " #   Column        Dtype  \n",
      "---  ------        -----  \n",
      " 0   movieId       int64  \n",
      " 1   title         object \n",
      " 2   imdbId        int64  \n",
      " 3   tmdbId        int32  \n",
      " 4   genres        object \n",
      " 5   overview      object \n",
      " 6   popularity    float64\n",
      " 7   poster_path   object \n",
      " 8   vote_average  float64\n",
      " 9   vote_count    int64  \n",
      " 10  director      object \n",
      " 11  keywords      object \n",
      " 12  userId        int64  \n",
      " 13  rating        float64\n",
      "dtypes: float64(3), int32(1), int64(4), object(6)\n",
      "memory usage: 2.8+ GB\n"
     ]
    }
   ],
   "source": [
    "final_df.info()"
   ]
  },
  {
   "cell_type": "code",
   "execution_count": null,
   "metadata": {},
   "outputs": [],
   "source": []
  }
 ],
 "metadata": {
  "kernelspec": {
   "display_name": "movies",
   "language": "python",
   "name": "python3"
  },
  "language_info": {
   "codemirror_mode": {
    "name": "ipython",
    "version": 3
   },
   "file_extension": ".py",
   "mimetype": "text/x-python",
   "name": "python",
   "nbconvert_exporter": "python",
   "pygments_lexer": "ipython3",
   "version": "3.9.16"
  },
  "orig_nbformat": 4
 },
 "nbformat": 4,
 "nbformat_minor": 2
}
