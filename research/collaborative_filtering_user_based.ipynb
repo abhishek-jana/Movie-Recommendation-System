{
 "cells": [
  {
   "cell_type": "code",
   "execution_count": 2,
   "metadata": {},
   "outputs": [
    {
     "data": {
      "text/plain": [
       "'c:\\\\Users\\\\abhis\\\\Desktop\\\\MLProjects\\\\Movie Recommender'"
      ]
     },
     "execution_count": 2,
     "metadata": {},
     "output_type": "execute_result"
    }
   ],
   "source": [
    "import os\n",
    "os.chdir(\"../\")\n",
    "%pwd"
   ]
  },
  {
   "attachments": {},
   "cell_type": "markdown",
   "metadata": {},
   "source": [
    "One of the most popular methods for making recommendations is **collaborative filtering**. In collaborative filtering, you are using the collaboration of user-item recommendations to assist in making new recommendations.\n",
    "\n",
    "There are two main methods of performing collaborative filtering:\n",
    "\n",
    " 1. **Neighborhood-Based Collaborative Filtering**, which is based on the idea that we can either correlate items that are similar to provide recommendations or we can correlate users to one another to provide recommendations.\n",
    "\n",
    " 2. **Model Based Collaborative Filtering**, which is based on the idea that we can use machine learning and other mathematical models to understand the relationships that exist amongst items and users to predict ratings and provide ratings.\n",
    "\n",
    "In this notebook, we will be working on performing **neighborhood-based collaborative filtering**. There are two main methods for performing collaborative filtering:\n",
    "\n",
    " 1. **User-based collaborative filtering**: In this type of recommendation, users related to the user you would like to make recommendations for are used to create a recommendation.\n",
    "\n",
    " 2. **Item-based collaborative filtering**: In this type of recommendation, first you need to find the items that are most related to each other item (based on similar ratings). Then you can use the ratings of an individual on those similar items to understand if a user will like the new item.\n",
    "\n",
    "In this notebook we will be implementing **user-based collaborative filtering**. However, it is easy to extend this approach to make recommendations using **item-based collaborative filtering**. First, let's read in our data and necessary libraries."
   ]
  },
  {
   "cell_type": "code",
   "execution_count": 3,
   "metadata": {},
   "outputs": [],
   "source": [
    "import numpy as np\n",
    "import pandas as pd\n",
    "from scipy.sparse import csr_matrix\n",
    "from pandas.api.types import CategoricalDtype\n",
    "\n",
    "\n",
    "%matplotlib inline"
   ]
  },
  {
   "cell_type": "code",
   "execution_count": 4,
   "metadata": {},
   "outputs": [],
   "source": [
    "# Read the data\n",
    "\n",
    "ratings_df = pd.read_csv('artifacts/data_preparation/final_data/ratings.csv')\n",
    "movies_df = pd.read_csv('artifacts/data_preparation/final_data/movies.csv')"
   ]
  },
  {
   "attachments": {},
   "cell_type": "markdown",
   "metadata": {},
   "source": [
    "#### Measures of Similarity\n",
    "When using **neighborhood** based collaborative filtering, it is important to understand how to measure the similarity of users or items to one another.\n",
    "\n",
    "There are a number of ways in which we might measure the similarity between two vectors (which might be two users or two items). In this notebook, we will look specifically at two measures used to compare vectors:\n",
    "\n",
    " - **Pearson's correlation coefficient**\n",
    "Pearson's correlation coefficient is a measure of the strength and direction of a linear relationship. The value for this coefficient is a value between -1 and 1 where -1 indicates a strong, negative linear relationship and 1 indicates a strong, positive linear relationship.\n",
    "\n",
    "If we have two vectors x and y, we can define the correlation between the vectors as:\n",
    "\n",
    "$$\n",
    "\\text{CORR}(x,y) = \\frac{\\text{{COV}}(x,y)}{\\text{STDEV}(x)\\text{STDEV}(y)}\n",
    "$$\n",
    "\n",
    "where,\n",
    "\n",
    "$$\n",
    "\\text{{STDEV}}(x) = \\sqrt{\\frac{1}{n-1} \\sum_{i=1}^{n} (x_i - \\bar{x})^2}\n",
    "$$\n",
    "\n",
    "and,\n",
    "$$\n",
    "\\text{{COV}}(x,y) = \\frac{1}{n-1} \\sum_{i=1}^{n} (x_i - \\bar{x})(y_i - \\bar{y})\n",
    "$$\n",
    "\n",
    "where n is the length of the vector, which must be the same for both x and y and \n",
    " is the mean of the observations in the vector.\n",
    "\n",
    "We can use the correlation coefficient to indicate how alike two vectors are to one another, where the closer to 1 the coefficient, the more alike the vectors are to one another. There are some potential downsides to using this metric as a measure of similarity. You will see some of these throughout this workbook.\n",
    "\n",
    " - Euclidean Distance\n",
    "\n",
    " Euclidean distance is a measure of the straightline distance from one vector to another. Because this is a measure of distance, larger values are an indication that two vectors are different from one another (which is different than Pearson's correlation coefficient).\n",
    "\n",
    "Specifically, the euclidean distance between two vectors x and y is measured as:\n",
    "\n",
    "$$\n",
    "\\text{{EUCL}}(x,y) = \\sqrt{ \\sum_{i=1}^{n} (x_i - y_i)^2}\n",
    "$$\n",
    "\n",
    "Different from the correlation coefficient, no scaling is performed in the denominator. Therefore, you need to make sure all of your data are on the same scale when using this metric.\n",
    "\n",
    "**Note**: Because measuring similarity is often based on looking at the distance between vectors, it is important in these cases to scale your data or to have all data be in the same scale. In this case, we will not need to scale data because they are all on a 5 point scale, but it is always something to keep in mind!\n",
    "\n",
    "--------\n",
    "\n",
    "User-Item Matrix\n",
    "\n",
    "In order to calculate the similarities, it is common to put values in a matrix. In this matrix, users are identified by each row, and items are represented by columns.\n",
    "\n",
    "In the above matrix, you can see that **User 1** and **User 2** both used **Item 1**, and User 2, User 3, and User 4 all used Item 2. However, there are also a large number of missing values in the matrix for users who haven't used a particular item. A matrix with many missing values (like the one above) is considered sparse.\n",
    "\n",
    "Our first goal for this notebook is to create the above matrix with the reviews dataset. However, instead of 1 values in each cell, you should have the actual rating.\n",
    "\n",
    "The users will indicate the rows, and the movies will exist across the columns. To create the user-item matrix, we only need the first three columns of the reviews dataframe, which you can see by running the cell below.\n",
    "\n",
    "\n",
    "To make the computation faster, We will consider the following assumptions:\n",
    " 1. If an user rated movies less than 20 times, they are too new.\n",
    " 2. If a movie is rated less than 50 times, it should not be recommended."
   ]
  },
  {
   "cell_type": "code",
   "execution_count": 5,
   "metadata": {},
   "outputs": [],
   "source": [
    "more_than_20 = ratings_df['userId'].value_counts() > 200\n",
    "# getting the index of these users\n",
    "ind = more_than_20[more_than_20].index\n",
    "ratings_df = ratings_df[ratings_df['userId'].isin(ind)]"
   ]
  },
  {
   "cell_type": "code",
   "execution_count": 6,
   "metadata": {},
   "outputs": [
    {
     "data": {
      "text/plain": [
       "(16951891, 3)"
      ]
     },
     "execution_count": 6,
     "metadata": {},
     "output_type": "execute_result"
    }
   ],
   "source": [
    "ratings_df.shape"
   ]
  },
  {
   "cell_type": "code",
   "execution_count": 7,
   "metadata": {},
   "outputs": [],
   "source": [
    "# megre movies with ratings\n",
    "\n",
    "rating_with_movies = ratings_df.merge(movies_df, on = \"movieId\")"
   ]
  },
  {
   "cell_type": "code",
   "execution_count": 8,
   "metadata": {},
   "outputs": [],
   "source": [
    "# figure out which movie got how much rating\n",
    "\n",
    "num_rating = rating_with_movies.groupby('title')['rating'].count().reset_index()\n",
    "num_rating.rename(columns={\"rating\":\"num_of_rating\"},inplace=True)"
   ]
  },
  {
   "cell_type": "code",
   "execution_count": 9,
   "metadata": {},
   "outputs": [],
   "source": [
    "final_rating = rating_with_movies.merge(num_rating, on = 'title')"
   ]
  },
  {
   "cell_type": "code",
   "execution_count": 10,
   "metadata": {},
   "outputs": [],
   "source": [
    "# filter out book with more than 50 ratings only\n",
    "\n",
    "final_rating =final_rating[final_rating['num_of_rating'] >= 50]"
   ]
  },
  {
   "cell_type": "code",
   "execution_count": 11,
   "metadata": {},
   "outputs": [
    {
     "data": {
      "text/html": [
       "<div>\n",
       "<style scoped>\n",
       "    .dataframe tbody tr th:only-of-type {\n",
       "        vertical-align: middle;\n",
       "    }\n",
       "\n",
       "    .dataframe tbody tr th {\n",
       "        vertical-align: top;\n",
       "    }\n",
       "\n",
       "    .dataframe thead th {\n",
       "        text-align: right;\n",
       "    }\n",
       "</style>\n",
       "<table border=\"1\" class=\"dataframe\">\n",
       "  <thead>\n",
       "    <tr style=\"text-align: right;\">\n",
       "      <th></th>\n",
       "      <th>userId</th>\n",
       "      <th>movieId</th>\n",
       "      <th>rating</th>\n",
       "      <th>title</th>\n",
       "      <th>imdbId</th>\n",
       "      <th>tmdbId</th>\n",
       "      <th>genres</th>\n",
       "      <th>overview</th>\n",
       "      <th>popularity</th>\n",
       "      <th>poster_path</th>\n",
       "      <th>vote_average</th>\n",
       "      <th>vote_count</th>\n",
       "      <th>director</th>\n",
       "      <th>keywords</th>\n",
       "      <th>num_of_rating</th>\n",
       "    </tr>\n",
       "  </thead>\n",
       "  <tbody>\n",
       "    <tr>\n",
       "      <th>0</th>\n",
       "      <td>4</td>\n",
       "      <td>1</td>\n",
       "      <td>4.0</td>\n",
       "      <td>Toy Story (1995)</td>\n",
       "      <td>114709</td>\n",
       "      <td>862</td>\n",
       "      <td>['Animation', 'Adventure', 'Family', 'Comedy']</td>\n",
       "      <td>Led by Woody, Andy's toys live happily in his ...</td>\n",
       "      <td>101.402</td>\n",
       "      <td>/uXDfjJbdP4ijW5hWSBrPrlKpxab.jpg</td>\n",
       "      <td>8.0</td>\n",
       "      <td>16771</td>\n",
       "      <td>John Lasseter</td>\n",
       "      <td>['martial arts', 'jealousy', 'friendship', 'bu...</td>\n",
       "      <td>24488</td>\n",
       "    </tr>\n",
       "    <tr>\n",
       "      <th>1</th>\n",
       "      <td>42</td>\n",
       "      <td>1</td>\n",
       "      <td>4.0</td>\n",
       "      <td>Toy Story (1995)</td>\n",
       "      <td>114709</td>\n",
       "      <td>862</td>\n",
       "      <td>['Animation', 'Adventure', 'Family', 'Comedy']</td>\n",
       "      <td>Led by Woody, Andy's toys live happily in his ...</td>\n",
       "      <td>101.402</td>\n",
       "      <td>/uXDfjJbdP4ijW5hWSBrPrlKpxab.jpg</td>\n",
       "      <td>8.0</td>\n",
       "      <td>16771</td>\n",
       "      <td>John Lasseter</td>\n",
       "      <td>['martial arts', 'jealousy', 'friendship', 'bu...</td>\n",
       "      <td>24488</td>\n",
       "    </tr>\n",
       "    <tr>\n",
       "      <th>2</th>\n",
       "      <td>43</td>\n",
       "      <td>1</td>\n",
       "      <td>5.0</td>\n",
       "      <td>Toy Story (1995)</td>\n",
       "      <td>114709</td>\n",
       "      <td>862</td>\n",
       "      <td>['Animation', 'Adventure', 'Family', 'Comedy']</td>\n",
       "      <td>Led by Woody, Andy's toys live happily in his ...</td>\n",
       "      <td>101.402</td>\n",
       "      <td>/uXDfjJbdP4ijW5hWSBrPrlKpxab.jpg</td>\n",
       "      <td>8.0</td>\n",
       "      <td>16771</td>\n",
       "      <td>John Lasseter</td>\n",
       "      <td>['martial arts', 'jealousy', 'friendship', 'bu...</td>\n",
       "      <td>24488</td>\n",
       "    </tr>\n",
       "    <tr>\n",
       "      <th>3</th>\n",
       "      <td>51</td>\n",
       "      <td>1</td>\n",
       "      <td>4.0</td>\n",
       "      <td>Toy Story (1995)</td>\n",
       "      <td>114709</td>\n",
       "      <td>862</td>\n",
       "      <td>['Animation', 'Adventure', 'Family', 'Comedy']</td>\n",
       "      <td>Led by Woody, Andy's toys live happily in his ...</td>\n",
       "      <td>101.402</td>\n",
       "      <td>/uXDfjJbdP4ijW5hWSBrPrlKpxab.jpg</td>\n",
       "      <td>8.0</td>\n",
       "      <td>16771</td>\n",
       "      <td>John Lasseter</td>\n",
       "      <td>['martial arts', 'jealousy', 'friendship', 'bu...</td>\n",
       "      <td>24488</td>\n",
       "    </tr>\n",
       "    <tr>\n",
       "      <th>4</th>\n",
       "      <td>55</td>\n",
       "      <td>1</td>\n",
       "      <td>5.0</td>\n",
       "      <td>Toy Story (1995)</td>\n",
       "      <td>114709</td>\n",
       "      <td>862</td>\n",
       "      <td>['Animation', 'Adventure', 'Family', 'Comedy']</td>\n",
       "      <td>Led by Woody, Andy's toys live happily in his ...</td>\n",
       "      <td>101.402</td>\n",
       "      <td>/uXDfjJbdP4ijW5hWSBrPrlKpxab.jpg</td>\n",
       "      <td>8.0</td>\n",
       "      <td>16771</td>\n",
       "      <td>John Lasseter</td>\n",
       "      <td>['martial arts', 'jealousy', 'friendship', 'bu...</td>\n",
       "      <td>24488</td>\n",
       "    </tr>\n",
       "  </tbody>\n",
       "</table>\n",
       "</div>"
      ],
      "text/plain": [
       "   userId  movieId  rating             title  imdbId  tmdbId  \\\n",
       "0       4        1     4.0  Toy Story (1995)  114709     862   \n",
       "1      42        1     4.0  Toy Story (1995)  114709     862   \n",
       "2      43        1     5.0  Toy Story (1995)  114709     862   \n",
       "3      51        1     4.0  Toy Story (1995)  114709     862   \n",
       "4      55        1     5.0  Toy Story (1995)  114709     862   \n",
       "\n",
       "                                           genres  \\\n",
       "0  ['Animation', 'Adventure', 'Family', 'Comedy']   \n",
       "1  ['Animation', 'Adventure', 'Family', 'Comedy']   \n",
       "2  ['Animation', 'Adventure', 'Family', 'Comedy']   \n",
       "3  ['Animation', 'Adventure', 'Family', 'Comedy']   \n",
       "4  ['Animation', 'Adventure', 'Family', 'Comedy']   \n",
       "\n",
       "                                            overview  popularity  \\\n",
       "0  Led by Woody, Andy's toys live happily in his ...     101.402   \n",
       "1  Led by Woody, Andy's toys live happily in his ...     101.402   \n",
       "2  Led by Woody, Andy's toys live happily in his ...     101.402   \n",
       "3  Led by Woody, Andy's toys live happily in his ...     101.402   \n",
       "4  Led by Woody, Andy's toys live happily in his ...     101.402   \n",
       "\n",
       "                        poster_path  vote_average  vote_count       director  \\\n",
       "0  /uXDfjJbdP4ijW5hWSBrPrlKpxab.jpg           8.0       16771  John Lasseter   \n",
       "1  /uXDfjJbdP4ijW5hWSBrPrlKpxab.jpg           8.0       16771  John Lasseter   \n",
       "2  /uXDfjJbdP4ijW5hWSBrPrlKpxab.jpg           8.0       16771  John Lasseter   \n",
       "3  /uXDfjJbdP4ijW5hWSBrPrlKpxab.jpg           8.0       16771  John Lasseter   \n",
       "4  /uXDfjJbdP4ijW5hWSBrPrlKpxab.jpg           8.0       16771  John Lasseter   \n",
       "\n",
       "                                            keywords  num_of_rating  \n",
       "0  ['martial arts', 'jealousy', 'friendship', 'bu...          24488  \n",
       "1  ['martial arts', 'jealousy', 'friendship', 'bu...          24488  \n",
       "2  ['martial arts', 'jealousy', 'friendship', 'bu...          24488  \n",
       "3  ['martial arts', 'jealousy', 'friendship', 'bu...          24488  \n",
       "4  ['martial arts', 'jealousy', 'friendship', 'bu...          24488  "
      ]
     },
     "execution_count": 11,
     "metadata": {},
     "output_type": "execute_result"
    }
   ],
   "source": [
    "final_rating.head()"
   ]
  },
  {
   "cell_type": "code",
   "execution_count": 12,
   "metadata": {},
   "outputs": [],
   "source": [
    "final_rating.drop_duplicates(['userId','title'], inplace=True)"
   ]
  },
  {
   "cell_type": "code",
   "execution_count": 13,
   "metadata": {},
   "outputs": [
    {
     "data": {
      "text/plain": [
       "userId    35004\n",
       "title     12509\n",
       "dtype: int64"
      ]
     },
     "execution_count": 13,
     "metadata": {},
     "output_type": "execute_result"
    }
   ],
   "source": [
    "final_rating[['userId','title']].nunique()"
   ]
  },
  {
   "attachments": {},
   "cell_type": "markdown",
   "metadata": {},
   "source": [
    "#### Creating the User-Item Matrix\n",
    "In order to create the user-items matrix (like the one above), I personally started by using a pivot table.However, I quickly ran into a memory error (a common theme throughout this notebook). I will help you navigate around many of the errors I had, and achieve useful collaborative filtering results!\n",
    "\n",
    "---\n",
    "1. Create a matrix where the users are the rows, the movies are the columns, and the ratings exist in each cell, or a NaN exists in cells where a user hasn't rated a particular movie. If you get a memory error (like I did), [this link](https://stackoverflow.com/questions/75783694/trying-to-pivot-a-large-dataframe-but-get-indexerror-index-875914235-is-out-o) and [this link](https://stackoverflow.com/questions/31661604/efficiently-create-sparse-pivot-tables-in-pandas) here might help you!"
   ]
  },
  {
   "cell_type": "code",
   "execution_count": 14,
   "metadata": {},
   "outputs": [],
   "source": [
    "rcLabel, vLabel = ('title','userId'), 'rating'\n",
    "rcCat = [CategoricalDtype(sorted(final_rating[col].unique()), ordered=True) for col in rcLabel]\n",
    "rc = [final_rating[column].astype(aType).cat.codes for column, aType in zip(rcLabel, rcCat)]\n",
    "mat = csr_matrix((final_rating[vLabel], rc), shape=tuple(cat.categories.size for cat in rcCat))\n",
    "movie_pivot = ( pd.DataFrame.sparse.from_spmatrix(\n",
    "    mat, index=rcCat[0].categories, columns=rcCat[1].categories) )"
   ]
  },
  {
   "cell_type": "code",
   "execution_count": 15,
   "metadata": {},
   "outputs": [
    {
     "data": {
      "text/plain": [
       "Index(['\"Great Performances\" Cats (1998)', ''71 (2014)',\n",
       "       ''Round Midnight (1986)', ''Til There Was You (1997)',\n",
       "       ''burbs, The (1989)', ''night Mother (1986)',\n",
       "       '(500) Days of Summer (2009)', '*batteries not included (1987)',\n",
       "       '+1 (2013)', '...And Justice for All (1979)',\n",
       "       ...\n",
       "       '[REC]² (2009)', '[REC]³ 3 Génesis (2012)', 'eXistenZ (1999)',\n",
       "       'iBoy (2017)', 'loudQUIETloud: A Film About the Pixies (2006)',\n",
       "       'xXx (2002)', 'xXx: Return of Xander Cage (2017)',\n",
       "       'xXx: State of the Union (2005)', '¡Three Amigos! (1986)',\n",
       "       'À nous la liberté (Freedom for Us) (1931)'],\n",
       "      dtype='object', length=12509)"
      ]
     },
     "execution_count": 15,
     "metadata": {},
     "output_type": "execute_result"
    }
   ],
   "source": [
    "movie_pivot.index"
   ]
  },
  {
   "attachments": {},
   "cell_type": "markdown",
   "metadata": {},
   "source": [
    "2. Now that you have a matrix of users by movies, use this matrix to create a dictionary where the key is each user and the value is an array of the movies each user has rated."
   ]
  },
  {
   "cell_type": "code",
   "execution_count": 16,
   "metadata": {},
   "outputs": [],
   "source": [
    "# Create a dictionary with users and corresponding movies seen\n",
    "\n",
    "def movies_watched(user_id):\n",
    "    '''\n",
    "    INPUT:\n",
    "    user_id - the user_id of an individual as int\n",
    "    OUTPUT:\n",
    "    movies - an array of movies the user has watched\n",
    "    '''\n",
    "    movies = movie_pivot.loc[user_id][movie_pivot.loc[user_id].isnull() == False].index.values\n",
    "\n",
    "    return movies\n",
    "\n",
    "\n",
    "def create_user_movie_dict():\n",
    "    '''\n",
    "    INPUT: None\n",
    "    OUTPUT: movies_seen - a dictionary where each key is a user_id and the value is an array of movie_ids\n",
    "    \n",
    "    Creates the movies_seen dictionary\n",
    "    '''\n",
    "    users = movie_pivot.index\n",
    "    movies_seen = dict()\n",
    "\n",
    "    for user1 in users:\n",
    "        \n",
    "        # assign list of movies to each user key\n",
    "        movies_seen[user1] = movies_watched(user1)\n",
    "    \n",
    "    return movies_seen\n",
    "\n",
    "# movies_seen = create_user_movie_dict()"
   ]
  },
  {
   "cell_type": "code",
   "execution_count": 16,
   "metadata": {},
   "outputs": [],
   "source": [
    "from sklearn.neighbors import NearestNeighbors\n",
    "\n",
    "model = NearestNeighbors(algorithm = 'brute')"
   ]
  },
  {
   "cell_type": "code",
   "execution_count": 17,
   "metadata": {},
   "outputs": [
    {
     "data": {
      "text/html": [
       "<style>#sk-container-id-1 {color: black;background-color: white;}#sk-container-id-1 pre{padding: 0;}#sk-container-id-1 div.sk-toggleable {background-color: white;}#sk-container-id-1 label.sk-toggleable__label {cursor: pointer;display: block;width: 100%;margin-bottom: 0;padding: 0.3em;box-sizing: border-box;text-align: center;}#sk-container-id-1 label.sk-toggleable__label-arrow:before {content: \"▸\";float: left;margin-right: 0.25em;color: #696969;}#sk-container-id-1 label.sk-toggleable__label-arrow:hover:before {color: black;}#sk-container-id-1 div.sk-estimator:hover label.sk-toggleable__label-arrow:before {color: black;}#sk-container-id-1 div.sk-toggleable__content {max-height: 0;max-width: 0;overflow: hidden;text-align: left;background-color: #f0f8ff;}#sk-container-id-1 div.sk-toggleable__content pre {margin: 0.2em;color: black;border-radius: 0.25em;background-color: #f0f8ff;}#sk-container-id-1 input.sk-toggleable__control:checked~div.sk-toggleable__content {max-height: 200px;max-width: 100%;overflow: auto;}#sk-container-id-1 input.sk-toggleable__control:checked~label.sk-toggleable__label-arrow:before {content: \"▾\";}#sk-container-id-1 div.sk-estimator input.sk-toggleable__control:checked~label.sk-toggleable__label {background-color: #d4ebff;}#sk-container-id-1 div.sk-label input.sk-toggleable__control:checked~label.sk-toggleable__label {background-color: #d4ebff;}#sk-container-id-1 input.sk-hidden--visually {border: 0;clip: rect(1px 1px 1px 1px);clip: rect(1px, 1px, 1px, 1px);height: 1px;margin: -1px;overflow: hidden;padding: 0;position: absolute;width: 1px;}#sk-container-id-1 div.sk-estimator {font-family: monospace;background-color: #f0f8ff;border: 1px dotted black;border-radius: 0.25em;box-sizing: border-box;margin-bottom: 0.5em;}#sk-container-id-1 div.sk-estimator:hover {background-color: #d4ebff;}#sk-container-id-1 div.sk-parallel-item::after {content: \"\";width: 100%;border-bottom: 1px solid gray;flex-grow: 1;}#sk-container-id-1 div.sk-label:hover label.sk-toggleable__label {background-color: #d4ebff;}#sk-container-id-1 div.sk-serial::before {content: \"\";position: absolute;border-left: 1px solid gray;box-sizing: border-box;top: 0;bottom: 0;left: 50%;z-index: 0;}#sk-container-id-1 div.sk-serial {display: flex;flex-direction: column;align-items: center;background-color: white;padding-right: 0.2em;padding-left: 0.2em;position: relative;}#sk-container-id-1 div.sk-item {position: relative;z-index: 1;}#sk-container-id-1 div.sk-parallel {display: flex;align-items: stretch;justify-content: center;background-color: white;position: relative;}#sk-container-id-1 div.sk-item::before, #sk-container-id-1 div.sk-parallel-item::before {content: \"\";position: absolute;border-left: 1px solid gray;box-sizing: border-box;top: 0;bottom: 0;left: 50%;z-index: -1;}#sk-container-id-1 div.sk-parallel-item {display: flex;flex-direction: column;z-index: 1;position: relative;background-color: white;}#sk-container-id-1 div.sk-parallel-item:first-child::after {align-self: flex-end;width: 50%;}#sk-container-id-1 div.sk-parallel-item:last-child::after {align-self: flex-start;width: 50%;}#sk-container-id-1 div.sk-parallel-item:only-child::after {width: 0;}#sk-container-id-1 div.sk-dashed-wrapped {border: 1px dashed gray;margin: 0 0.4em 0.5em 0.4em;box-sizing: border-box;padding-bottom: 0.4em;background-color: white;}#sk-container-id-1 div.sk-label label {font-family: monospace;font-weight: bold;display: inline-block;line-height: 1.2em;}#sk-container-id-1 div.sk-label-container {text-align: center;}#sk-container-id-1 div.sk-container {/* jupyter's `normalize.less` sets `[hidden] { display: none; }` but bootstrap.min.css set `[hidden] { display: none !important; }` so we also need the `!important` here to be able to override the default hidden behavior on the sphinx rendered scikit-learn.org. See: https://github.com/scikit-learn/scikit-learn/issues/21755 */display: inline-block !important;position: relative;}#sk-container-id-1 div.sk-text-repr-fallback {display: none;}</style><div id=\"sk-container-id-1\" class=\"sk-top-container\"><div class=\"sk-text-repr-fallback\"><pre>NearestNeighbors(algorithm=&#x27;brute&#x27;)</pre><b>In a Jupyter environment, please rerun this cell to show the HTML representation or trust the notebook. <br />On GitHub, the HTML representation is unable to render, please try loading this page with nbviewer.org.</b></div><div class=\"sk-container\" hidden><div class=\"sk-item\"><div class=\"sk-estimator sk-toggleable\"><input class=\"sk-toggleable__control sk-hidden--visually\" id=\"sk-estimator-id-1\" type=\"checkbox\" checked><label for=\"sk-estimator-id-1\" class=\"sk-toggleable__label sk-toggleable__label-arrow\">NearestNeighbors</label><div class=\"sk-toggleable__content\"><pre>NearestNeighbors(algorithm=&#x27;brute&#x27;)</pre></div></div></div></div></div>"
      ],
      "text/plain": [
       "NearestNeighbors(algorithm='brute')"
      ]
     },
     "execution_count": 17,
     "metadata": {},
     "output_type": "execute_result"
    }
   ],
   "source": [
    "model.fit(mat)"
   ]
  },
  {
   "cell_type": "code",
   "execution_count": 22,
   "metadata": {},
   "outputs": [],
   "source": [
    "# movie_pivot = ( pd.DataFrame.sparse.from_spmatrix(\n",
    "#     mat.T, index=rcCat[1].categories, columns=rcCat[0].categories) )"
   ]
  },
  {
   "cell_type": "code",
   "execution_count": 23,
   "metadata": {},
   "outputs": [],
   "source": [
    "movie_pivot = ( pd.DataFrame.sparse.from_spmatrix(\n",
    "    mat, index=rcCat[0].categories, columns=rcCat[1].categories) )\n"
   ]
  },
  {
   "cell_type": "code",
   "execution_count": 18,
   "metadata": {},
   "outputs": [],
   "source": [
    "distance, suggestion = model.kneighbors(mat[845],n_neighbors=11)"
   ]
  },
  {
   "cell_type": "code",
   "execution_count": 25,
   "metadata": {},
   "outputs": [],
   "source": [
    "distance, suggestion = model.kneighbors(movie_pivot.iloc[237,:].to_numpy().reshape(1,-1),n_neighbors=11)"
   ]
  },
  {
   "cell_type": "code",
   "execution_count": 19,
   "metadata": {},
   "outputs": [
    {
     "data": {
      "text/plain": [
       "(array([[  0.        , 232.17450334, 233.31095131, 234.55010126,\n",
       "         237.05959166, 237.79192585, 237.84553811, 239.46346277,\n",
       "         245.16372081, 245.40374895, 248.06904281]]),\n",
       " array([[  845,  4681,  1955, 12363,  5678, 11168,  1956,  5679,  2760,\n",
       "           846, 12362]], dtype=int64))"
      ]
     },
     "execution_count": 19,
     "metadata": {},
     "output_type": "execute_result"
    }
   ],
   "source": [
    "distance,suggestion"
   ]
  },
  {
   "cell_type": "code",
   "execution_count": 20,
   "metadata": {},
   "outputs": [
    {
     "name": "stdout",
     "output_type": "stream",
     "text": [
      "[  326  5556 15138 28095 11457  8049 15170 11461 26052   331 28093]\n"
     ]
    }
   ],
   "source": [
    "for i in range(len(suggestion)):\n",
    "    movies = mat.indices[suggestion[i]]\n",
    "    print (movies)"
   ]
  },
  {
   "cell_type": "code",
   "execution_count": 21,
   "metadata": {},
   "outputs": [
    {
     "name": "stdout",
     "output_type": "stream",
     "text": [
      "845\n",
      "Avengers, The (2012)\n",
      "3.6884564405350044\n",
      "4681\n",
      "Guardians of the Galaxy (2014)\n",
      "3.854534263438654\n",
      "1955\n",
      "Captain America: The First Avenger (2011)\n",
      "3.396071560309849\n",
      "12363\n",
      "X-Men: First Class (2011)\n",
      "3.6522208513263417\n",
      "5678\n",
      "Iron Man 2 (2010)\n",
      "3.363259668508287\n",
      "11168\n",
      "Thor (2011)\n",
      "3.288768675940237\n",
      "1956\n",
      "Captain America: The Winter Soldier (2014)\n",
      "3.583028455284553\n",
      "5679\n",
      "Iron Man 3 (2013)\n",
      "3.3850068506557056\n",
      "2760\n",
      "Dark Knight Rises, The (2012)\n",
      "3.844431946006749\n",
      "846\n",
      "Avengers: Age of Ultron (2015)\n",
      "3.4341250280080664\n",
      "12362\n",
      "X-Men: Days of Future Past (2014)\n",
      "3.6539050535987747\n"
     ]
    }
   ],
   "source": [
    "# find out the book name\n",
    "for i in suggestion[0]:\n",
    "    print (i)\n",
    "    print(movie_pivot.index[i])\n",
    "    print(np.mean(mat.getrow(i).data))"
   ]
  },
  {
   "cell_type": "code",
   "execution_count": 31,
   "metadata": {},
   "outputs": [
    {
     "data": {
      "text/plain": [
       "(12509, 35004)"
      ]
     },
     "execution_count": 31,
     "metadata": {},
     "output_type": "execute_result"
    }
   ],
   "source": [
    "movie_pivot.shape"
   ]
  },
  {
   "cell_type": "code",
   "execution_count": 80,
   "metadata": {},
   "outputs": [
    {
     "data": {
      "text/plain": [
       "(169552,)"
      ]
     },
     "execution_count": 80,
     "metadata": {},
     "output_type": "execute_result"
    }
   ],
   "source": [
    "movie_pivot.iloc[:,4].to_numpy().shape"
   ]
  },
  {
   "cell_type": "code",
   "execution_count": 30,
   "metadata": {},
   "outputs": [
    {
     "data": {
      "text/plain": [
       "\"Great Performances\" Cats (1998)             0.0\n",
       "'71 (2014)                                   0.0\n",
       "'Round Midnight (1986)                       0.0\n",
       "'Til There Was You (1997)                    0.0\n",
       "'burbs, The (1989)                           0.0\n",
       "                                            ... \n",
       "xXx (2002)                                   0.0\n",
       "xXx: Return of Xander Cage (2017)            0.0\n",
       "xXx: State of the Union (2005)               0.0\n",
       "¡Three Amigos! (1986)                        2.0\n",
       "À nous la liberté (Freedom for Us) (1931)    0.0\n",
       "Name: 1866, Length: 12509, dtype: Sparse[float64, 0]"
      ]
     },
     "execution_count": 30,
     "metadata": {},
     "output_type": "execute_result"
    }
   ],
   "source": [
    "movie_pivot.iloc[:,237]"
   ]
  },
  {
   "attachments": {},
   "cell_type": "markdown",
   "metadata": {},
   "source": [
    "\n"
   ]
  }
 ],
 "metadata": {
  "kernelspec": {
   "display_name": "movies",
   "language": "python",
   "name": "python3"
  },
  "language_info": {
   "codemirror_mode": {
    "name": "ipython",
    "version": 3
   },
   "file_extension": ".py",
   "mimetype": "text/x-python",
   "name": "python",
   "nbconvert_exporter": "python",
   "pygments_lexer": "ipython3",
   "version": "3.10.0"
  },
  "orig_nbformat": 4
 },
 "nbformat": 4,
 "nbformat_minor": 2
}
