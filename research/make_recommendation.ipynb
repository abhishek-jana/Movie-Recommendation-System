{
 "cells": [
  {
   "cell_type": "code",
   "execution_count": 1,
   "metadata": {},
   "outputs": [
    {
     "data": {
      "text/plain": [
       "'c:\\\\Users\\\\abhis\\\\Desktop\\\\MLProjects\\\\Movie Recommender'"
      ]
     },
     "execution_count": 1,
     "metadata": {},
     "output_type": "execute_result"
    }
   ],
   "source": [
    "import os\n",
    "os.chdir(\"../\")\n",
    "%pwd"
   ]
  },
  {
   "cell_type": "code",
   "execution_count": null,
   "metadata": {},
   "outputs": [],
   "source": []
  },
  {
   "cell_type": "code",
   "execution_count": 2,
   "metadata": {},
   "outputs": [],
   "source": [
    "import pandas as pd\n",
    "from scipy.sparse import load_npz\n",
    "import json\n",
    "import numpy as np\n",
    "import pickle\n",
    "from surprise.dataset import Trainset\n"
   ]
  },
  {
   "cell_type": "code",
   "execution_count": 3,
   "metadata": {},
   "outputs": [],
   "source": [
    "\n",
    "class RecommendationPipeline:\n",
    "    def __init__(self):\n",
    "        pass\n",
    "\n",
    "    def create_ranked_df(self,movies, reviews):\n",
    "        '''\n",
    "        INPUT\n",
    "        movies - the movies dataframe\n",
    "        reviews - the reviews dataframe\n",
    "        \n",
    "        OUTPUT\n",
    "        ranked_movies - a dataframe with movies that are sorted by highest avg rating, more reviews, \n",
    "                        then time, and must have more than 4 ratings\n",
    "        '''\n",
    "        \n",
    "        # Pull the average ratings and number of ratings for each movie\n",
    "        C = reviews[\"rating\"].mean()\n",
    "        movie_ratings = reviews.groupby('movieId')['rating'] \n",
    "        avg_ratings = movie_ratings.mean() # R\n",
    "        num_ratings = movie_ratings.count() # v\n",
    "        m = num_ratings.quantile(0.95)\n",
    "        weighted_rating = ((avg_ratings*num_ratings)/(num_ratings+m))+((C*m)/(num_ratings+m))\n",
    "\n",
    "        rating_count_df = pd.DataFrame({'num_ratings':num_ratings,'weighted_rating': weighted_rating}).reset_index()\n",
    "\n",
    "\n",
    "        # merge with the movies dataset\n",
    "        movies.drop([\"vote_average\",\"vote_count\"], axis=1, inplace=True)\t\n",
    "        movie_recs = movies.merge(rating_count_df, on = 'movieId')\n",
    "\n",
    "        # filter out the movies that qualify for the chart\n",
    "        ratings_filtered=movie_recs[movie_recs['num_ratings']>m]\n",
    "\n",
    "\n",
    "        # sort by top avg rating and number of ratings\n",
    "        ranked_movies = ratings_filtered.sort_values(['weighted_rating', 'num_ratings'], ascending=False)\n",
    "        \n",
    "        return ranked_movies\n",
    "    \n",
    "    def popular_recs_filtered(self, n_top, years=None, genres=None):\n",
    "        '''\n",
    "        REDO THIS DOC STRING\n",
    "        \n",
    "        INPUT:\n",
    "        user_id - the user_id (str) of the individual you are making recommendations for\n",
    "        n_top - an integer of the number recommendations you want back\n",
    "        ranked_movies - a pandas dataframe of the already ranked movies based on avg rating, count, and time\n",
    "        years - a list of strings with years of movies\n",
    "        genres - a list of strings with genres of movies\n",
    "        \n",
    "        OUTPUT:\n",
    "        top_movies - a list of the n_top recommended movies by movie title in order best to worst\n",
    "        '''\n",
    "        movies_df = pd.read_csv(os.path.join(\"artifacts\",\"data_preparation\",\"final_data\",\"movies.csv\"))\n",
    "        ratings_df = pd.read_csv(os.path.join(\"artifacts\",\"data_preparation\",\"final_data\",\"ratings.csv\"))\n",
    "        unique_genres = json.load(open(os.path.join(\"artifacts\",\"data_preparation\",\"final_data\",\"unique_categories.json\"),'rb'))\n",
    "        ranked_movies = self.create_ranked_df(movies_df, ratings_df)\n",
    "        ranked_movies['year'] = ranked_movies['title'].str.extract(r'\\((\\d+)\\)').fillna(-1)\n",
    "\n",
    "\n",
    "        # Create new columns based on the number of unique genres\n",
    "        genre_columns = []\n",
    "        for genre in unique_genres:\n",
    "            genre_columns.append(ranked_movies['genres'].apply(lambda x: int(genre in x)).rename(f'{genre}'))\n",
    "\n",
    "        # Concatenate the genre columns with the movies_df DataFrame\n",
    "        df_concatenated = pd.concat([ranked_movies] + genre_columns, axis=1)\n",
    "\n",
    "        # Filter movies based on years and genres if provided\n",
    "        if years is not None and genres is not None:\n",
    "            filtered_movies = df_concatenated[(df_concatenated['year'].isin(years)) & (df_concatenated[genres].sum(axis=1) > 0)]\n",
    "        elif years is not None:\n",
    "            filtered_movies = df_concatenated[df_concatenated['year'].isin(years)]\n",
    "        elif genres is not None:\n",
    "            filtered_movies = df_concatenated[df_concatenated[genres].sum(axis=1) > 0]\n",
    "        else:\n",
    "            filtered_movies = df_concatenated.copy()\n",
    "        \n",
    "        # Sort the filtered movies by rank and select the top n_top movies\n",
    "        top_movies = filtered_movies['title'].head(n_top)\n",
    "        \n",
    "        return top_movies\n",
    "    \n",
    "    # Function that takes in movie title as input and outputs most similar movies\n",
    "    def content_recommendations(self,movie_name, n_top = 10):\n",
    "        movies_df = pd.read_csv(os.path.join(\"artifacts\",\"data_preparation\",\"final_data\",\"movies.csv\"))\n",
    "\n",
    "        cosine_sim = load_npz(os.path.join(\"artifacts\",\"content_based_model\",\"content_matrix.npz\"))\n",
    "        # cosine_sim = pd.DataFrame(cosine_sim.todense())\n",
    "\n",
    "        indices=pd.Series(data=list(movies_df.index), index= movies_df['title'] )\n",
    "        \n",
    "        # Get the index of the movie that matches the title\n",
    "        idx = indices[movie_name]\n",
    "        \n",
    "        # Get the row vector of cosine similarity scores\n",
    "        similarity_scores = cosine_sim[idx, :]\n",
    "\n",
    "        # Convert the row vector to a dense array\n",
    "        sim_scores_dense = similarity_scores.toarray()[0]\n",
    "\n",
    "        # Enumerate the similarity scores with their indices\n",
    "        sim_scores = list(enumerate(sim_scores_dense))\n",
    "\n",
    "        # Sort the movies based on the similarity scores\n",
    "        sim_scores.sort(key=lambda x: x[1], reverse=True)\n",
    "        # # Sort the movies based on the similarity scores\n",
    "        # sim_scores.sort(key=lambda x: x[1], reverse=True)\n",
    "\n",
    "        # Get the scores of the 10 most similar movies\n",
    "        sim_scores=sim_scores[1: (n_top + 1)]\n",
    "        \n",
    "        # Get the movie indices\n",
    "        ind=[x[0] for x in sim_scores]\n",
    "        # for (x,y) in sim_scores:\n",
    "        #     ind.append(x)\n",
    "            \n",
    "        # Return the top 10 most similar movies\n",
    "        tit=[]\n",
    "        for x in ind:\n",
    "            tit.append(movies_df.iloc[x]['title'])\n",
    "        return pd.Series(data=tit, index=ind)\n",
    "\n",
    "    \n",
    "    def movies_watched(self,user):\n",
    "        svd_item_indices = pickle.load(open(os.path.join(\"artifacts\",\"collaborative_filtering_model\",\"svd_item_indices.pkl\"),'rb'))\n",
    "        total_movies = list(svd_item_indices.keys())\n",
    "        svd_model = pickle.load(open(os.path.join(\"artifacts\",\"collaborative_filtering_model\",\"svd_model.pkl\"),'rb'))\n",
    "        trainset: Trainset = svd_model.trainset\n",
    "\n",
    "        # Get the indices of the items accessed by the user\n",
    "        item_indices = trainset.ur[user]\n",
    "\n",
    "        return [i[0] for i in item_indices]\n",
    "\n",
    "\n",
    "\n",
    "    def recommend_movie_neighbour(self,movie_name, n_top = 10):\n",
    "            \n",
    "        movies_df = pd.read_csv(os.path.join(\"artifacts\",\"data_preparation\",\"final_data\",\"movies.csv\"))\n",
    "        user_movie_matrix = load_npz(os.path.join(\"artifacts\",\"collaborative_filtering_model\",\"user_movie_matrix.npz\"))\n",
    "        model = pickle.load(open(os.path.join(\"artifacts\",\"collaborative_filtering_model\",\"nearest_neighbors_movie.pkl\"),'rb'))\n",
    "        # user_movie_matrix.data[user_movie_matrix == 0] = np.nan\n",
    "        indices = pickle.load(open(os.path.join(\"artifacts\",\"collaborative_filtering_model\",\"nn_item_indices.pkl\"),'rb'))\n",
    "        # Get the index of the movie that matches the title\n",
    "        idx = indices[movie_name]\n",
    "\n",
    "        movie_list = []\n",
    "        avg_rating = []\n",
    "        # movie_id = np.where(user_movie_matrix.tocoo().row == movie_name)[0][0]\n",
    "        distance, suggestion = model.kneighbors(user_movie_matrix[idx],n_neighbors = int(n_top)+1)\n",
    "\n",
    "        poster_url = 'test' #fetch_poster(suggestion)\n",
    "\n",
    "        for movies_id in suggestion[0]:\n",
    "            movie = next(key for key, val in indices.items() if val == movies_id) # since we know the value is present\n",
    "            ratings = np.mean(user_movie_matrix.getrow(movies_id).data)\n",
    "            avg_rating.append(ratings)\n",
    "            movie_list.append(movie)\n",
    "\n",
    "        return pd.DataFrame({'movie':movie_list[1:], 'poster_path': poster_url[1:],'rating': avg_rating[1:]})\n",
    "    \n",
    "    def recomend_top_movie_user(self,user_id):\n",
    "        svd_model = pickle.load(open(os.path.join(\"artifacts\",\"collaborative_filtering_model\",\"svd_model.pkl\"),'rb'))\n",
    "        trainset: Trainset = svd_model.trainset\n",
    "        svd_item_indices = pickle.load(open(os.path.join(\"artifacts\",\"collaborative_filtering_model\",\"svd_item_indices.pkl\"),'rb'))\n",
    "        user_ratings = trainset.ur[user_id]  # Get the user's ratings from the trainset.ur attribute\n",
    "        watched_movies = [item_id for item_id, _ in user_ratings]  # Extract the item IDs\n",
    "        all_movies = [key for key, _ in svd_item_indices.items()]  # Get a list of all item IDs in the trainset\n",
    "        unwatched_movies = [item_id for item_id in all_movies if item_id not in watched_movies]\n",
    "        predicted_ratings = {item_id: svd_model.predict(user_id, item_id).est for item_id in unwatched_movies}\n",
    "        sorted_movies_dict = {item_id: predicted_ratings[item_id] for item_id in sorted(unwatched_movies, key=lambda x: predicted_ratings[x], reverse=True)}\n",
    "\n",
    "        return list(sorted_movies_dict.items())[:10]\n",
    "    \n",
    "    def recommend_similar_movie_user(self,user_id, movie):\n",
    "        svd_model = pickle.load(open(os.path.join(\"artifacts\",\"collaborative_filtering_model\",\"svd_model.pkl\"),'rb'))\n",
    "        trainset: Trainset = svd_model.trainset\n",
    "        svd_item_indices = pickle.load(open(os.path.join(\"artifacts\",\"collaborative_filtering_model\",\"svd_item_indices.pkl\"),'rb'))\n",
    "        user_ratings = trainset.ur[user_id]  # Get the user's ratings from the trainset.ur attribute\n",
    "        watched_movies = [item_id for item_id, _ in user_ratings]  # Extract the item IDs\n",
    "        all_movies = [key for key, _ in svd_item_indices.items()]  # Get a list of all item IDs in the trainset\n",
    "        unwatched_movies = [item_id for item_id in all_movies if item_id not in watched_movies]\n",
    "\n",
    "        # Step 3: Determine the number of similar movies to consider\n",
    "        num_similar_movies = max(len(watched_movies) * 1.5, 20)\n",
    "\n",
    "        # Step 1: Get recommendations from recommend_movie_neighbour\n",
    "        recommendations = self.recommend_movie_neighbour(movie, n_top=num_similar_movies)['movie'].to_list()\n",
    "        recommended_unwatched_movies = set(unwatched_movies) & set(recommendations)\n",
    "        # Step 6: Predict ratings for unwatched movies\n",
    "        predicted_ratings = {movie: svd_model.predict(user_id, movie).est for movie in recommended_unwatched_movies}\n",
    "        sorted_movies_dict = {movie: predicted_ratings[movie] for movie in sorted(recommended_unwatched_movies, key=lambda x: predicted_ratings[x], reverse=True)}\n",
    "        return list(sorted_movies_dict.items())[:10]\n",
    "\n"
   ]
  },
  {
   "attachments": {},
   "cell_type": "markdown",
   "metadata": {},
   "source": [
    "### Hybrid Recommendation\n",
    "\n",
    "We can create 2 hybrid recommendations for an existing user: \n",
    "\n",
    "a. Overall top choice for the user and \n",
    "\n",
    "b. Similar movies based on a particular movie \n",
    "\n",
    "we will use the following logic for Overall top choice for the user:\n",
    "\n",
    "1. For a particular user find out the number of movies the user watched including the id,\n",
    "2. Find the movies that the user hasn't watched\n",
    "3. predict the ratings of the unwatched movies and sort them accordingly. \n",
    "\n",
    "For similar movies based on a particular movie:\n",
    "\n",
    "1. For a particular user find out the number of movies the user watched including the id,\n",
    "2. Use collaborative filtering/ content based filtering to get (No. of watched) * 1.5 or 20 movies, whichever is greater.\n",
    "3. Find the movies that the user hasn't watched.\n",
    "3. predict the ratings of the unwatched movies and sort them accordingly. \n"
   ]
  },
  {
   "cell_type": "code",
   "execution_count": 4,
   "metadata": {},
   "outputs": [],
   "source": [
    "make_reco = RecommendationPipeline()"
   ]
  },
  {
   "cell_type": "code",
   "execution_count": 5,
   "metadata": {},
   "outputs": [
    {
     "data": {
      "text/plain": [
       "12656                          Incredible Hulk, The (2008)\n",
       "20811                               Captain America (1979)\n",
       "26784                       Avengers: Age of Ultron (2015)\n",
       "43655                                     Max Steel (2016)\n",
       "23555                                        Ra.One (2011)\n",
       "1971                                 Rocketeer, The (1991)\n",
       "3297                   Teenage Mutant Ninja Turtles (1990)\n",
       "3298     Teenage Mutant Ninja Turtles II: The Secret of...\n",
       "3649                                          X-Men (2000)\n",
       "5016                              Time Machine, The (2002)\n",
       "dtype: object"
      ]
     },
     "execution_count": 5,
     "metadata": {},
     "output_type": "execute_result"
    }
   ],
   "source": [
    "make_reco.content_recommendations('Avengers, The (2012)')  "
   ]
  },
  {
   "cell_type": "code",
   "execution_count": 47,
   "metadata": {},
   "outputs": [
    {
     "data": {
      "text/html": [
       "<div>\n",
       "<style scoped>\n",
       "    .dataframe tbody tr th:only-of-type {\n",
       "        vertical-align: middle;\n",
       "    }\n",
       "\n",
       "    .dataframe tbody tr th {\n",
       "        vertical-align: top;\n",
       "    }\n",
       "\n",
       "    .dataframe thead th {\n",
       "        text-align: right;\n",
       "    }\n",
       "</style>\n",
       "<table border=\"1\" class=\"dataframe\">\n",
       "  <thead>\n",
       "    <tr style=\"text-align: right;\">\n",
       "      <th></th>\n",
       "      <th>movie</th>\n",
       "      <th>poster_path</th>\n",
       "      <th>rating</th>\n",
       "    </tr>\n",
       "  </thead>\n",
       "  <tbody>\n",
       "    <tr>\n",
       "      <th>0</th>\n",
       "      <td>Guardians of the Galaxy (2014)</td>\n",
       "      <td>est</td>\n",
       "      <td>3.854534</td>\n",
       "    </tr>\n",
       "    <tr>\n",
       "      <th>1</th>\n",
       "      <td>Captain America: The First Avenger (2011)</td>\n",
       "      <td>est</td>\n",
       "      <td>3.396072</td>\n",
       "    </tr>\n",
       "    <tr>\n",
       "      <th>2</th>\n",
       "      <td>X-Men: First Class (2011)</td>\n",
       "      <td>est</td>\n",
       "      <td>3.652221</td>\n",
       "    </tr>\n",
       "    <tr>\n",
       "      <th>3</th>\n",
       "      <td>Iron Man 2 (2010)</td>\n",
       "      <td>est</td>\n",
       "      <td>3.363260</td>\n",
       "    </tr>\n",
       "    <tr>\n",
       "      <th>4</th>\n",
       "      <td>Thor (2011)</td>\n",
       "      <td>est</td>\n",
       "      <td>3.288769</td>\n",
       "    </tr>\n",
       "    <tr>\n",
       "      <th>5</th>\n",
       "      <td>Captain America: The Winter Soldier (2014)</td>\n",
       "      <td>est</td>\n",
       "      <td>3.583028</td>\n",
       "    </tr>\n",
       "    <tr>\n",
       "      <th>6</th>\n",
       "      <td>Iron Man 3 (2013)</td>\n",
       "      <td>est</td>\n",
       "      <td>3.385007</td>\n",
       "    </tr>\n",
       "    <tr>\n",
       "      <th>7</th>\n",
       "      <td>Dark Knight Rises, The (2012)</td>\n",
       "      <td>est</td>\n",
       "      <td>3.844432</td>\n",
       "    </tr>\n",
       "    <tr>\n",
       "      <th>8</th>\n",
       "      <td>Avengers: Age of Ultron (2015)</td>\n",
       "      <td>est</td>\n",
       "      <td>3.434125</td>\n",
       "    </tr>\n",
       "    <tr>\n",
       "      <th>9</th>\n",
       "      <td>X-Men: Days of Future Past (2014)</td>\n",
       "      <td>est</td>\n",
       "      <td>3.653905</td>\n",
       "    </tr>\n",
       "  </tbody>\n",
       "</table>\n",
       "</div>"
      ],
      "text/plain": [
       "                                        movie poster_path    rating\n",
       "0              Guardians of the Galaxy (2014)         est  3.854534\n",
       "1   Captain America: The First Avenger (2011)         est  3.396072\n",
       "2                   X-Men: First Class (2011)         est  3.652221\n",
       "3                           Iron Man 2 (2010)         est  3.363260\n",
       "4                                 Thor (2011)         est  3.288769\n",
       "5  Captain America: The Winter Soldier (2014)         est  3.583028\n",
       "6                           Iron Man 3 (2013)         est  3.385007\n",
       "7               Dark Knight Rises, The (2012)         est  3.844432\n",
       "8              Avengers: Age of Ultron (2015)         est  3.434125\n",
       "9           X-Men: Days of Future Past (2014)         est  3.653905"
      ]
     },
     "execution_count": 47,
     "metadata": {},
     "output_type": "execute_result"
    }
   ],
   "source": [
    "make_reco.recommend_movie_neighbour('Avengers, The (2012)')"
   ]
  },
  {
   "cell_type": "code",
   "execution_count": 9,
   "metadata": {},
   "outputs": [
    {
     "data": {
      "text/plain": [
       "29694       The Martian (2015)\n",
       "32737         Spotlight (2015)\n",
       "40178           Arrival (2016)\n",
       "34833    Big Short, The (2015)\n",
       "29968        Inside Out (2015)\n",
       "Name: title, dtype: object"
      ]
     },
     "execution_count": 9,
     "metadata": {},
     "output_type": "execute_result"
    }
   ],
   "source": [
    "make_reco.popular_recs_filtered(n_top = 5,years=['2015','2016'])"
   ]
  },
  {
   "cell_type": "code",
   "execution_count": 34,
   "metadata": {},
   "outputs": [],
   "source": [
    "def recomend_top_movie_user(user_id):\n",
    "    svd_model = pickle.load(open(os.path.join(\"artifacts\",\"collaborative_filtering_model\",\"svd_model.pkl\"),'rb'))\n",
    "    trainset: Trainset = svd_model.trainset\n",
    "    svd_item_indices = pickle.load(open(os.path.join(\"artifacts\",\"collaborative_filtering_model\",\"svd_item_indices.pkl\"),'rb'))\n",
    "    user_ratings = trainset.ur[user_id]  # Get the user's ratings from the trainset.ur attribute\n",
    "    watched_movies = [item_id for item_id, _ in user_ratings]  # Extract the item IDs\n",
    "    all_movies = [key for key, _ in svd_item_indices.items()]  # Get a list of all item IDs in the trainset\n",
    "    unwatched_movies = [item_id for item_id in all_movies if item_id not in watched_movies]\n",
    "    predicted_ratings = {item_id: svd_model.predict(user_id, item_id).est for item_id in unwatched_movies}\n",
    "    sorted_movies_dict = {item_id: predicted_ratings[item_id] for item_id in sorted(unwatched_movies, key=lambda x: predicted_ratings[x], reverse=True)}\n",
    "\n",
    "    return list(sorted_movies_dict.items())[:10]"
   ]
  },
  {
   "cell_type": "code",
   "execution_count": 35,
   "metadata": {},
   "outputs": [
    {
     "data": {
      "text/plain": [
       "[('Usual Suspects, The (1995)', 5),\n",
       " ('Matrix, The (1999)', 5),\n",
       " ('Boondock Saints, The (2000)', 5),\n",
       " ('Snatch (2000)', 5),\n",
       " ('Dark Knight, The (2008)', 5),\n",
       " ('Iron Man (2008)', 5),\n",
       " ('Batman Begins (2005)', 4.99561011798468),\n",
       " ('Inception (2010)', 4.942768818736815),\n",
       " ('Bourne Identity, The (2002)', 4.932468549146794),\n",
       " ('Lock, Stock & Two Smoking Barrels (1998)', 4.924185470666513)]"
      ]
     },
     "execution_count": 35,
     "metadata": {},
     "output_type": "execute_result"
    }
   ],
   "source": [
    "recomend_top_movie_user(user_id=4)"
   ]
  },
  {
   "cell_type": "code",
   "execution_count": 65,
   "metadata": {},
   "outputs": [],
   "source": [
    "def recommend_similar_movie_user(user_id, movie):\n",
    "    svd_model = pickle.load(open(os.path.join(\"artifacts\",\"collaborative_filtering_model\",\"svd_model.pkl\"),'rb'))\n",
    "    trainset: Trainset = svd_model.trainset\n",
    "    svd_item_indices = pickle.load(open(os.path.join(\"artifacts\",\"collaborative_filtering_model\",\"svd_item_indices.pkl\"),'rb'))\n",
    "    user_ratings = trainset.ur[user_id]  # Get the user's ratings from the trainset.ur attribute\n",
    "    watched_movies = [item_id for item_id, _ in user_ratings]  # Extract the item IDs\n",
    "    all_movies = [key for key, _ in svd_item_indices.items()]  # Get a list of all item IDs in the trainset\n",
    "    unwatched_movies = [item_id for item_id in all_movies if item_id not in watched_movies]\n",
    "\n",
    "    # Step 3: Determine the number of similar movies to consider\n",
    "    num_similar_movies = max(len(watched_movies) * 1.5, 20)\n",
    "\n",
    "    # Step 1: Get recommendations from recommend_movie_neighbour\n",
    "    recommendations = make_reco.recommend_movie_neighbour(movie, n_top=num_similar_movies)['movie'].to_list()\n",
    "    recommended_unwatched_movies = set(unwatched_movies) & set(recommendations)\n",
    "    # Step 6: Predict ratings for unwatched movies\n",
    "    predicted_ratings = {movie: svd_model.predict(user_id, movie).est for movie in recommended_unwatched_movies}\n",
    "    sorted_movies_dict = {movie: predicted_ratings[movie] for movie in sorted(recommended_unwatched_movies, key=lambda x: predicted_ratings[x], reverse=True)}\n",
    "    return list(sorted_movies_dict.items())[:10]"
   ]
  },
  {
   "cell_type": "code",
   "execution_count": 6,
   "metadata": {},
   "outputs": [
    {
     "data": {
      "text/plain": [
       "[('Iron Man (2008)', 5),\n",
       " ('Inception (2010)', 4.942768818736815),\n",
       " ('Dark Knight Rises, The (2012)', 4.793085641203967),\n",
       " ('Deadpool (2016)', 4.7195843614029025),\n",
       " ('The Martian (2015)', 4.708432306672751),\n",
       " ('Ip Man (2008)', 4.6960231041472404),\n",
       " ('Limitless (2011)', 4.646333474192414),\n",
       " ('Taken (2008)', 4.611688173431691),\n",
       " ('Guardians of the Galaxy (2014)', 4.606627662388684),\n",
       " ('Red (2010)', 4.588876576029093)]"
      ]
     },
     "execution_count": 6,
     "metadata": {},
     "output_type": "execute_result"
    }
   ],
   "source": [
    "make_reco.recommend_similar_movie_user(user_id = 4, movie = 'Avengers, The (2012)')"
   ]
  },
  {
   "cell_type": "code",
   "execution_count": 7,
   "metadata": {},
   "outputs": [
    {
     "data": {
      "text/plain": [
       "[('Whiplash (2014)', 4.613118370180228),\n",
       " ('Grand Budapest Hotel, The (2014)', 4.37686151617418),\n",
       " ('Moonrise Kingdom (2012)', 4.337879294653174),\n",
       " ('Ex Machina (2015)', 4.282013484605232),\n",
       " ('Star Wars: Episode VII - The Force Awakens (2015)', 4.280723665200081),\n",
       " ('Birdman: Or (The Unexpected Virtue of Ignorance) (2014)',\n",
       "  4.266850697804685),\n",
       " ('Blade Runner 2049 (2017)', 4.263571707111018),\n",
       " ('La La Land (2016)', 4.25699920969049),\n",
       " ('Her (2013)', 4.237284398454091),\n",
       " ('Drive (2011)', 4.229588902410049)]"
      ]
     },
     "execution_count": 7,
     "metadata": {},
     "output_type": "execute_result"
    }
   ],
   "source": [
    "make_reco.recommend_similar_movie_user(user_id = 42, movie = 'Avengers, The (2012)')"
   ]
  },
  {
   "cell_type": "code",
   "execution_count": null,
   "metadata": {},
   "outputs": [],
   "source": []
  }
 ],
 "metadata": {
  "kernelspec": {
   "display_name": "movie_reco",
   "language": "python",
   "name": "python3"
  },
  "language_info": {
   "codemirror_mode": {
    "name": "ipython",
    "version": 3
   },
   "file_extension": ".py",
   "mimetype": "text/x-python",
   "name": "python",
   "nbconvert_exporter": "python",
   "pygments_lexer": "ipython3",
   "version": "3.10.0"
  },
  "orig_nbformat": 4
 },
 "nbformat": 4,
 "nbformat_minor": 2
}
